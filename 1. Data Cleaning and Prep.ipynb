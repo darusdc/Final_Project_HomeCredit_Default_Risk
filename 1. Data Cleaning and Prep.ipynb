{
 "metadata": {
  "orig_nbformat": 2,
  "kernelspec": {
   "name": "python3",
   "display_name": "Python 3"
  }
 },
 "nbformat": 4,
 "nbformat_minor": 2,
 "cells": [
  {
   "cell_type": "markdown",
   "metadata": {},
   "source": [
    "# Home Credit Default Risk\n",
    "\n",
    "## Data Cleaning\n",
    "\n",
    "## Muhammad Darussalam\n",
    "<b>dataset:</b> Home Credit Default Risk dataset | <b>Source:</b> Kaggle\n",
    "\n",
    "Home Credit adalah perusahaan yang dibentuk pada tahun 1997 di Republik Ceko, bergerak pada jasa pinjaman secara online dan offline yang tersebar di 9 negara salah satunya Indonesia.\n",
    "\n",
    "dalam final project ini saya akan membuat aplikasi berbasis flask-web yang akan mengeluarkan rekomendasi apakah seseorang akan kesulitan membayar pinjaman atau lancar-lancar saja\n"
   ]
  },
  {
   "cell_type": "markdown",
   "metadata": {},
   "source": [
    "### Import Data & Library"
   ]
  },
  {
   "cell_type": "code",
   "execution_count": 1,
   "metadata": {},
   "outputs": [],
   "source": [
    "import pandas as pd\n",
    "import numpy as np\n",
    "import matplotlib.pyplot as plt\n",
    "import seaborn as sns"
   ]
  },
  {
   "cell_type": "code",
   "execution_count": 2,
   "metadata": {},
   "outputs": [],
   "source": [
    "def correlation_ratio(categories, measurements):\n",
    "    \n",
    "    def convert(data, to):\n",
    "        converted = None\n",
    "        if to == 'array':\n",
    "            if isinstance(data, np.ndarray):\n",
    "                converted = data\n",
    "            elif isinstance(data, pd.Series):\n",
    "                converted = data.values\n",
    "            elif isinstance(data, list):\n",
    "                converted = np.array(data)\n",
    "            elif isinstance(data, pd.DataFrame):\n",
    "                converted = data.as_matrix()\n",
    "        elif to == 'list':\n",
    "            if isinstance(data, list):\n",
    "                converted = data\n",
    "            elif isinstance(data, pd.Series):\n",
    "                converted = data.values.tolist()\n",
    "            elif isinstance(data, np.ndarray):\n",
    "                converted = data.tolist()\n",
    "        elif to == 'dataframe':\n",
    "            if isinstance(data, pd.DataFrame):\n",
    "                converted = data\n",
    "            elif isinstance(data, np.ndarray):\n",
    "                converted = pd.DataFrame(data)\n",
    "        else:\n",
    "            raise ValueError(\"Unknown data conversion: {}\".format(to))\n",
    "        if converted is None:\n",
    "            raise TypeError('cannot handle data conversion of type: {} to {}'.format(type(data),to))\n",
    "        else:\n",
    "            return converted\n",
    "        \n",
    "    categories = convert(categories, 'array')\n",
    "    measurements = convert(measurements, 'array')\n",
    "    fcat, _ = pd.factorize(categories)\n",
    "    cat_num = np.max(fcat)+1\n",
    "    y_avg_array = np.zeros(cat_num)\n",
    "    n_array = np.zeros(cat_num)\n",
    "    for i in range(0,cat_num):\n",
    "        cat_measures = measurements[np.argwhere(fcat == i).flatten()]\n",
    "        n_array[i] = len(cat_measures)\n",
    "        y_avg_array[i] = np.average(cat_measures)\n",
    "    y_total_avg = np.sum(np.multiply(y_avg_array,n_array))/np.sum(n_array)\n",
    "    numerator = np.sum(np.multiply(n_array,np.power(np.subtract(y_avg_array,y_total_avg),2)))\n",
    "    denominator = np.sum(np.power(np.subtract(measurements,y_total_avg),2))\n",
    "    if numerator == 0:\n",
    "        eta = 0.0\n",
    "    else:\n",
    "        eta = numerator/denominator\n",
    "    return eta"
   ]
  },
  {
   "cell_type": "code",
   "execution_count": 3,
   "metadata": {},
   "outputs": [],
   "source": [
    "def isna_table(df):\n",
    "    isna=pd.DataFrame(df.isna().sum(),columns=['nom'])\n",
    "    isna.drop(isna[isna['nom']==0].index,inplace=True)\n",
    "    isna['%']=isna['nom']/len(df)*100\n",
    "    return isna"
   ]
  },
  {
   "cell_type": "code",
   "execution_count": 4,
   "metadata": {},
   "outputs": [],
   "source": [
    "pd.set_option('display.max_columns',None)\n",
    "pd.set_option('display.max_rows',None)"
   ]
  },
  {
   "cell_type": "code",
   "execution_count": 4,
   "metadata": {},
   "outputs": [],
   "source": [
    "data_train=pd.read_csv('../pake_ini.csv')"
   ]
  },
  {
   "cell_type": "code",
   "execution_count": 6,
   "metadata": {},
   "outputs": [
    {
     "output_type": "execute_result",
     "data": {
      "text/plain": [
       "   Unnamed: 0  SK_ID_CURR  TARGET NAME_CONTRACT_TYPE CODE_GENDER FLAG_OWN_CAR  \\\n",
       "0           0      100002       1         Cash loans           M            N   \n",
       "1           1      100003       0         Cash loans           F            N   \n",
       "2           2      100004       0    Revolving loans           M            Y   \n",
       "3           3      100006       0         Cash loans           F            N   \n",
       "4           4      100007       0         Cash loans           M            N   \n",
       "\n",
       "  FLAG_OWN_REALTY  CNT_CHILDREN  AMT_INCOME_TOTAL  AMT_CREDIT  AMT_ANNUITY  \\\n",
       "0               Y             0          202500.0    406597.5      24700.5   \n",
       "1               N             0          270000.0   1293502.5      35698.5   \n",
       "2               Y             0           67500.0    135000.0       6750.0   \n",
       "3               Y             0          135000.0    312682.5      29686.5   \n",
       "4               Y             0          121500.0    513000.0      21865.5   \n",
       "\n",
       "   AMT_GOODS_PRICE NAME_TYPE_SUITE NAME_INCOME_TYPE  \\\n",
       "0         351000.0   Unaccompanied          Working   \n",
       "1        1129500.0          Family    State servant   \n",
       "2         135000.0   Unaccompanied          Working   \n",
       "3         297000.0   Unaccompanied          Working   \n",
       "4         513000.0   Unaccompanied          Working   \n",
       "\n",
       "             NAME_EDUCATION_TYPE    NAME_FAMILY_STATUS  NAME_HOUSING_TYPE  \\\n",
       "0  Secondary / secondary special  Single / not married  House / apartment   \n",
       "1               Higher education               Married  House / apartment   \n",
       "2  Secondary / secondary special  Single / not married  House / apartment   \n",
       "3  Secondary / secondary special        Civil marriage  House / apartment   \n",
       "4  Secondary / secondary special  Single / not married  House / apartment   \n",
       "\n",
       "   REGION_POPULATION_RELATIVE  DAYS_BIRTH  DAYS_EMPLOYED  DAYS_REGISTRATION  \\\n",
       "0                    0.018801       -9461           -637            -3648.0   \n",
       "1                    0.003541      -16765          -1188            -1186.0   \n",
       "2                    0.010032      -19046           -225            -4260.0   \n",
       "3                    0.008019      -19005          -3039            -9833.0   \n",
       "4                    0.028663      -19932          -3038            -4311.0   \n",
       "\n",
       "   DAYS_ID_PUBLISH  OWN_CAR_AGE  FLAG_MOBIL  FLAG_EMP_PHONE  FLAG_WORK_PHONE  \\\n",
       "0            -2120          NaN           1               1                0   \n",
       "1             -291          NaN           1               1                0   \n",
       "2            -2531         26.0           1               1                1   \n",
       "3            -2437          NaN           1               1                0   \n",
       "4            -3458          NaN           1               1                0   \n",
       "\n",
       "   FLAG_CONT_MOBILE  FLAG_PHONE  FLAG_EMAIL OCCUPATION_TYPE  CNT_FAM_MEMBERS  \\\n",
       "0                 1           1           0        Laborers              1.0   \n",
       "1                 1           1           0      Core staff              2.0   \n",
       "2                 1           1           0        Laborers              1.0   \n",
       "3                 1           0           0        Laborers              2.0   \n",
       "4                 1           0           0      Core staff              1.0   \n",
       "\n",
       "   REGION_RATING_CLIENT  REGION_RATING_CLIENT_W_CITY  \\\n",
       "0                     2                            2   \n",
       "1                     1                            1   \n",
       "2                     2                            2   \n",
       "3                     2                            2   \n",
       "4                     2                            2   \n",
       "\n",
       "  WEEKDAY_APPR_PROCESS_START  HOUR_APPR_PROCESS_START  \\\n",
       "0                  WEDNESDAY                       10   \n",
       "1                     MONDAY                       11   \n",
       "2                     MONDAY                        9   \n",
       "3                  WEDNESDAY                       17   \n",
       "4                   THURSDAY                       11   \n",
       "\n",
       "   REG_REGION_NOT_LIVE_REGION  REG_REGION_NOT_WORK_REGION  \\\n",
       "0                           0                           0   \n",
       "1                           0                           0   \n",
       "2                           0                           0   \n",
       "3                           0                           0   \n",
       "4                           0                           0   \n",
       "\n",
       "   LIVE_REGION_NOT_WORK_REGION  REG_CITY_NOT_LIVE_CITY  \\\n",
       "0                            0                       0   \n",
       "1                            0                       0   \n",
       "2                            0                       0   \n",
       "3                            0                       0   \n",
       "4                            0                       0   \n",
       "\n",
       "   REG_CITY_NOT_WORK_CITY  LIVE_CITY_NOT_WORK_CITY       ORGANIZATION_TYPE  \\\n",
       "0                       0                        0  Business Entity Type 3   \n",
       "1                       0                        0                  School   \n",
       "2                       0                        0              Government   \n",
       "3                       0                        0  Business Entity Type 3   \n",
       "4                       1                        1                   Other   \n",
       "\n",
       "   EXT_SOURCE_1  EXT_SOURCE_2  EXT_SOURCE_3  APARTMENTS_AVG  BASEMENTAREA_AVG  \\\n",
       "0      0.083037      0.262949      0.139376          0.0247            0.0369   \n",
       "1      0.311267      0.622246           NaN          0.0959            0.0529   \n",
       "2           NaN      0.555912      0.729567             NaN               NaN   \n",
       "3           NaN      0.650442           NaN             NaN               NaN   \n",
       "4           NaN      0.322738           NaN             NaN               NaN   \n",
       "\n",
       "   YEARS_BEGINEXPLUATATION_AVG  YEARS_BUILD_AVG  COMMONAREA_AVG  \\\n",
       "0                       0.9722           0.6192          0.0143   \n",
       "1                       0.9851           0.7960          0.0605   \n",
       "2                          NaN              NaN             NaN   \n",
       "3                          NaN              NaN             NaN   \n",
       "4                          NaN              NaN             NaN   \n",
       "\n",
       "   ELEVATORS_AVG  ENTRANCES_AVG  FLOORSMAX_AVG  FLOORSMIN_AVG  LANDAREA_AVG  \\\n",
       "0           0.00         0.0690         0.0833         0.1250        0.0369   \n",
       "1           0.08         0.0345         0.2917         0.3333        0.0130   \n",
       "2            NaN            NaN            NaN            NaN           NaN   \n",
       "3            NaN            NaN            NaN            NaN           NaN   \n",
       "4            NaN            NaN            NaN            NaN           NaN   \n",
       "\n",
       "   LIVINGAPARTMENTS_AVG  LIVINGAREA_AVG  NONLIVINGAPARTMENTS_AVG  \\\n",
       "0                0.0202          0.0190                   0.0000   \n",
       "1                0.0773          0.0549                   0.0039   \n",
       "2                   NaN             NaN                      NaN   \n",
       "3                   NaN             NaN                      NaN   \n",
       "4                   NaN             NaN                      NaN   \n",
       "\n",
       "   NONLIVINGAREA_AVG  APARTMENTS_MODE  BASEMENTAREA_MODE  \\\n",
       "0             0.0000           0.0252             0.0383   \n",
       "1             0.0098           0.0924             0.0538   \n",
       "2                NaN              NaN                NaN   \n",
       "3                NaN              NaN                NaN   \n",
       "4                NaN              NaN                NaN   \n",
       "\n",
       "   YEARS_BEGINEXPLUATATION_MODE  YEARS_BUILD_MODE  COMMONAREA_MODE  \\\n",
       "0                        0.9722            0.6341           0.0144   \n",
       "1                        0.9851            0.8040           0.0497   \n",
       "2                           NaN               NaN              NaN   \n",
       "3                           NaN               NaN              NaN   \n",
       "4                           NaN               NaN              NaN   \n",
       "\n",
       "   ELEVATORS_MODE  ENTRANCES_MODE  FLOORSMAX_MODE  FLOORSMIN_MODE  \\\n",
       "0          0.0000          0.0690          0.0833          0.1250   \n",
       "1          0.0806          0.0345          0.2917          0.3333   \n",
       "2             NaN             NaN             NaN             NaN   \n",
       "3             NaN             NaN             NaN             NaN   \n",
       "4             NaN             NaN             NaN             NaN   \n",
       "\n",
       "   LANDAREA_MODE  LIVINGAPARTMENTS_MODE  LIVINGAREA_MODE  \\\n",
       "0         0.0377                  0.022           0.0198   \n",
       "1         0.0128                  0.079           0.0554   \n",
       "2            NaN                    NaN              NaN   \n",
       "3            NaN                    NaN              NaN   \n",
       "4            NaN                    NaN              NaN   \n",
       "\n",
       "   NONLIVINGAPARTMENTS_MODE  NONLIVINGAREA_MODE  APARTMENTS_MEDI  \\\n",
       "0                       0.0                 0.0           0.0250   \n",
       "1                       0.0                 0.0           0.0968   \n",
       "2                       NaN                 NaN              NaN   \n",
       "3                       NaN                 NaN              NaN   \n",
       "4                       NaN                 NaN              NaN   \n",
       "\n",
       "   BASEMENTAREA_MEDI  YEARS_BEGINEXPLUATATION_MEDI  YEARS_BUILD_MEDI  \\\n",
       "0             0.0369                        0.9722            0.6243   \n",
       "1             0.0529                        0.9851            0.7987   \n",
       "2                NaN                           NaN               NaN   \n",
       "3                NaN                           NaN               NaN   \n",
       "4                NaN                           NaN               NaN   \n",
       "\n",
       "   COMMONAREA_MEDI  ELEVATORS_MEDI  ENTRANCES_MEDI  FLOORSMAX_MEDI  \\\n",
       "0           0.0144            0.00          0.0690          0.0833   \n",
       "1           0.0608            0.08          0.0345          0.2917   \n",
       "2              NaN             NaN             NaN             NaN   \n",
       "3              NaN             NaN             NaN             NaN   \n",
       "4              NaN             NaN             NaN             NaN   \n",
       "\n",
       "   FLOORSMIN_MEDI  LANDAREA_MEDI  LIVINGAPARTMENTS_MEDI  LIVINGAREA_MEDI  \\\n",
       "0          0.1250         0.0375                 0.0205           0.0193   \n",
       "1          0.3333         0.0132                 0.0787           0.0558   \n",
       "2             NaN            NaN                    NaN              NaN   \n",
       "3             NaN            NaN                    NaN              NaN   \n",
       "4             NaN            NaN                    NaN              NaN   \n",
       "\n",
       "   NONLIVINGAPARTMENTS_MEDI  NONLIVINGAREA_MEDI FONDKAPREMONT_MODE  \\\n",
       "0                    0.0000                0.00   reg oper account   \n",
       "1                    0.0039                0.01   reg oper account   \n",
       "2                       NaN                 NaN                NaN   \n",
       "3                       NaN                 NaN                NaN   \n",
       "4                       NaN                 NaN                NaN   \n",
       "\n",
       "   HOUSETYPE_MODE  TOTALAREA_MODE WALLSMATERIAL_MODE EMERGENCYSTATE_MODE  \\\n",
       "0  block of flats          0.0149       Stone, brick                  No   \n",
       "1  block of flats          0.0714              Block                  No   \n",
       "2             NaN             NaN                NaN                 NaN   \n",
       "3             NaN             NaN                NaN                 NaN   \n",
       "4             NaN             NaN                NaN                 NaN   \n",
       "\n",
       "   OBS_30_CNT_SOCIAL_CIRCLE  DEF_30_CNT_SOCIAL_CIRCLE  \\\n",
       "0                       2.0                       2.0   \n",
       "1                       1.0                       0.0   \n",
       "2                       0.0                       0.0   \n",
       "3                       2.0                       0.0   \n",
       "4                       0.0                       0.0   \n",
       "\n",
       "   OBS_60_CNT_SOCIAL_CIRCLE  DEF_60_CNT_SOCIAL_CIRCLE  DAYS_LAST_PHONE_CHANGE  \\\n",
       "0                       2.0                       2.0                 -1134.0   \n",
       "1                       1.0                       0.0                  -828.0   \n",
       "2                       0.0                       0.0                  -815.0   \n",
       "3                       2.0                       0.0                  -617.0   \n",
       "4                       0.0                       0.0                 -1106.0   \n",
       "\n",
       "   FLAG_DOCUMENT_2  FLAG_DOCUMENT_3  FLAG_DOCUMENT_4  FLAG_DOCUMENT_5  \\\n",
       "0                0                1                0                0   \n",
       "1                0                1                0                0   \n",
       "2                0                0                0                0   \n",
       "3                0                1                0                0   \n",
       "4                0                0                0                0   \n",
       "\n",
       "   FLAG_DOCUMENT_6  FLAG_DOCUMENT_7  FLAG_DOCUMENT_8  FLAG_DOCUMENT_9  \\\n",
       "0                0                0                0                0   \n",
       "1                0                0                0                0   \n",
       "2                0                0                0                0   \n",
       "3                0                0                0                0   \n",
       "4                0                0                1                0   \n",
       "\n",
       "   FLAG_DOCUMENT_10  FLAG_DOCUMENT_11  FLAG_DOCUMENT_12  FLAG_DOCUMENT_13  \\\n",
       "0                 0                 0                 0                 0   \n",
       "1                 0                 0                 0                 0   \n",
       "2                 0                 0                 0                 0   \n",
       "3                 0                 0                 0                 0   \n",
       "4                 0                 0                 0                 0   \n",
       "\n",
       "   FLAG_DOCUMENT_14  FLAG_DOCUMENT_15  FLAG_DOCUMENT_16  FLAG_DOCUMENT_17  \\\n",
       "0                 0                 0                 0                 0   \n",
       "1                 0                 0                 0                 0   \n",
       "2                 0                 0                 0                 0   \n",
       "3                 0                 0                 0                 0   \n",
       "4                 0                 0                 0                 0   \n",
       "\n",
       "   FLAG_DOCUMENT_18  FLAG_DOCUMENT_19  FLAG_DOCUMENT_20  FLAG_DOCUMENT_21  \\\n",
       "0                 0                 0                 0                 0   \n",
       "1                 0                 0                 0                 0   \n",
       "2                 0                 0                 0                 0   \n",
       "3                 0                 0                 0                 0   \n",
       "4                 0                 0                 0                 0   \n",
       "\n",
       "   AMT_REQ_CREDIT_BUREAU_HOUR  AMT_REQ_CREDIT_BUREAU_DAY  \\\n",
       "0                         0.0                        0.0   \n",
       "1                         0.0                        0.0   \n",
       "2                         0.0                        0.0   \n",
       "3                         NaN                        NaN   \n",
       "4                         0.0                        0.0   \n",
       "\n",
       "   AMT_REQ_CREDIT_BUREAU_WEEK  AMT_REQ_CREDIT_BUREAU_MON  \\\n",
       "0                         0.0                        0.0   \n",
       "1                         0.0                        0.0   \n",
       "2                         0.0                        0.0   \n",
       "3                         NaN                        NaN   \n",
       "4                         0.0                        0.0   \n",
       "\n",
       "   AMT_REQ_CREDIT_BUREAU_QRT  AMT_REQ_CREDIT_BUREAU_YEAR  Active_CBC  \\\n",
       "0                        0.0                         1.0         2.0   \n",
       "1                        0.0                         0.0         1.0   \n",
       "2                        0.0                         0.0         0.0   \n",
       "3                        NaN                         NaN         NaN   \n",
       "4                        0.0                         0.0         0.0   \n",
       "\n",
       "   Bad debt_CBC  Closed_CBC  Sold_CBC  CREDIT_DAY_OVERDUE  \\\n",
       "0           0.0         6.0       0.0                 0.0   \n",
       "1           0.0         3.0       0.0                 0.0   \n",
       "2           0.0         2.0       0.0                 0.0   \n",
       "3           NaN         NaN       NaN                 NaN   \n",
       "4           0.0         1.0       0.0                 0.0   \n",
       "\n",
       "   AMT_CREDIT_SUM_DEBT  Approved_PA  Canceled_PA  Refused_PA  Unused offer_PA  \\\n",
       "0             245781.0          1.0          0.0         0.0              0.0   \n",
       "1                  0.0          3.0          0.0         0.0              0.0   \n",
       "2                  0.0          1.0          0.0         0.0              0.0   \n",
       "3                  NaN          5.0          3.0         1.0              0.0   \n",
       "4                  0.0          6.0          0.0         0.0              0.0   \n",
       "\n",
       "   New_PA  Refreshed_PA  Repeater_PA  Active_PCB  Amortized debt_PCB  \\\n",
       "0     1.0           0.0          0.0        19.0                 0.0   \n",
       "1     0.0           2.0          1.0        26.0                 0.0   \n",
       "2     1.0           0.0          0.0         3.0                 0.0   \n",
       "3     1.0           0.0          8.0        18.0                 0.0   \n",
       "4     1.0           0.0          5.0        62.0                 0.0   \n",
       "\n",
       "   Approved_PCB  Canceled_PCB  Completed_PCB  Demand_PCB  \\\n",
       "0           0.0           0.0            0.0         0.0   \n",
       "1           0.0           0.0            2.0         0.0   \n",
       "2           0.0           0.0            1.0         0.0   \n",
       "3           0.0           0.0            2.0         0.0   \n",
       "4           0.0           0.0            3.0         0.0   \n",
       "\n",
       "   Returned to the store_PCB  Signed_PCB  SK_DPD_PCB  CNT_INSTALMENT_FUTURE  \n",
       "0                        0.0         0.0         0.0                  285.0  \n",
       "1                        0.0         0.0         0.0                  162.0  \n",
       "2                        0.0         0.0         0.0                    9.0  \n",
       "3                        1.0         0.0         0.0                  173.0  \n",
       "4                        0.0         1.0         0.0                  592.0  "
      ],
      "text/html": "<div>\n<style scoped>\n    .dataframe tbody tr th:only-of-type {\n        vertical-align: middle;\n    }\n\n    .dataframe tbody tr th {\n        vertical-align: top;\n    }\n\n    .dataframe thead th {\n        text-align: right;\n    }\n</style>\n<table border=\"1\" class=\"dataframe\">\n  <thead>\n    <tr style=\"text-align: right;\">\n      <th></th>\n      <th>Unnamed: 0</th>\n      <th>SK_ID_CURR</th>\n      <th>TARGET</th>\n      <th>NAME_CONTRACT_TYPE</th>\n      <th>CODE_GENDER</th>\n      <th>FLAG_OWN_CAR</th>\n      <th>FLAG_OWN_REALTY</th>\n      <th>CNT_CHILDREN</th>\n      <th>AMT_INCOME_TOTAL</th>\n      <th>AMT_CREDIT</th>\n      <th>AMT_ANNUITY</th>\n      <th>AMT_GOODS_PRICE</th>\n      <th>NAME_TYPE_SUITE</th>\n      <th>NAME_INCOME_TYPE</th>\n      <th>NAME_EDUCATION_TYPE</th>\n      <th>NAME_FAMILY_STATUS</th>\n      <th>NAME_HOUSING_TYPE</th>\n      <th>REGION_POPULATION_RELATIVE</th>\n      <th>DAYS_BIRTH</th>\n      <th>DAYS_EMPLOYED</th>\n      <th>DAYS_REGISTRATION</th>\n      <th>DAYS_ID_PUBLISH</th>\n      <th>OWN_CAR_AGE</th>\n      <th>FLAG_MOBIL</th>\n      <th>FLAG_EMP_PHONE</th>\n      <th>FLAG_WORK_PHONE</th>\n      <th>FLAG_CONT_MOBILE</th>\n      <th>FLAG_PHONE</th>\n      <th>FLAG_EMAIL</th>\n      <th>OCCUPATION_TYPE</th>\n      <th>CNT_FAM_MEMBERS</th>\n      <th>REGION_RATING_CLIENT</th>\n      <th>REGION_RATING_CLIENT_W_CITY</th>\n      <th>WEEKDAY_APPR_PROCESS_START</th>\n      <th>HOUR_APPR_PROCESS_START</th>\n      <th>REG_REGION_NOT_LIVE_REGION</th>\n      <th>REG_REGION_NOT_WORK_REGION</th>\n      <th>LIVE_REGION_NOT_WORK_REGION</th>\n      <th>REG_CITY_NOT_LIVE_CITY</th>\n      <th>REG_CITY_NOT_WORK_CITY</th>\n      <th>LIVE_CITY_NOT_WORK_CITY</th>\n      <th>ORGANIZATION_TYPE</th>\n      <th>EXT_SOURCE_1</th>\n      <th>EXT_SOURCE_2</th>\n      <th>EXT_SOURCE_3</th>\n      <th>APARTMENTS_AVG</th>\n      <th>BASEMENTAREA_AVG</th>\n      <th>YEARS_BEGINEXPLUATATION_AVG</th>\n      <th>YEARS_BUILD_AVG</th>\n      <th>COMMONAREA_AVG</th>\n      <th>ELEVATORS_AVG</th>\n      <th>ENTRANCES_AVG</th>\n      <th>FLOORSMAX_AVG</th>\n      <th>FLOORSMIN_AVG</th>\n      <th>LANDAREA_AVG</th>\n      <th>LIVINGAPARTMENTS_AVG</th>\n      <th>LIVINGAREA_AVG</th>\n      <th>NONLIVINGAPARTMENTS_AVG</th>\n      <th>NONLIVINGAREA_AVG</th>\n      <th>APARTMENTS_MODE</th>\n      <th>BASEMENTAREA_MODE</th>\n      <th>YEARS_BEGINEXPLUATATION_MODE</th>\n      <th>YEARS_BUILD_MODE</th>\n      <th>COMMONAREA_MODE</th>\n      <th>ELEVATORS_MODE</th>\n      <th>ENTRANCES_MODE</th>\n      <th>FLOORSMAX_MODE</th>\n      <th>FLOORSMIN_MODE</th>\n      <th>LANDAREA_MODE</th>\n      <th>LIVINGAPARTMENTS_MODE</th>\n      <th>LIVINGAREA_MODE</th>\n      <th>NONLIVINGAPARTMENTS_MODE</th>\n      <th>NONLIVINGAREA_MODE</th>\n      <th>APARTMENTS_MEDI</th>\n      <th>BASEMENTAREA_MEDI</th>\n      <th>YEARS_BEGINEXPLUATATION_MEDI</th>\n      <th>YEARS_BUILD_MEDI</th>\n      <th>COMMONAREA_MEDI</th>\n      <th>ELEVATORS_MEDI</th>\n      <th>ENTRANCES_MEDI</th>\n      <th>FLOORSMAX_MEDI</th>\n      <th>FLOORSMIN_MEDI</th>\n      <th>LANDAREA_MEDI</th>\n      <th>LIVINGAPARTMENTS_MEDI</th>\n      <th>LIVINGAREA_MEDI</th>\n      <th>NONLIVINGAPARTMENTS_MEDI</th>\n      <th>NONLIVINGAREA_MEDI</th>\n      <th>FONDKAPREMONT_MODE</th>\n      <th>HOUSETYPE_MODE</th>\n      <th>TOTALAREA_MODE</th>\n      <th>WALLSMATERIAL_MODE</th>\n      <th>EMERGENCYSTATE_MODE</th>\n      <th>OBS_30_CNT_SOCIAL_CIRCLE</th>\n      <th>DEF_30_CNT_SOCIAL_CIRCLE</th>\n      <th>OBS_60_CNT_SOCIAL_CIRCLE</th>\n      <th>DEF_60_CNT_SOCIAL_CIRCLE</th>\n      <th>DAYS_LAST_PHONE_CHANGE</th>\n      <th>FLAG_DOCUMENT_2</th>\n      <th>FLAG_DOCUMENT_3</th>\n      <th>FLAG_DOCUMENT_4</th>\n      <th>FLAG_DOCUMENT_5</th>\n      <th>FLAG_DOCUMENT_6</th>\n      <th>FLAG_DOCUMENT_7</th>\n      <th>FLAG_DOCUMENT_8</th>\n      <th>FLAG_DOCUMENT_9</th>\n      <th>FLAG_DOCUMENT_10</th>\n      <th>FLAG_DOCUMENT_11</th>\n      <th>FLAG_DOCUMENT_12</th>\n      <th>FLAG_DOCUMENT_13</th>\n      <th>FLAG_DOCUMENT_14</th>\n      <th>FLAG_DOCUMENT_15</th>\n      <th>FLAG_DOCUMENT_16</th>\n      <th>FLAG_DOCUMENT_17</th>\n      <th>FLAG_DOCUMENT_18</th>\n      <th>FLAG_DOCUMENT_19</th>\n      <th>FLAG_DOCUMENT_20</th>\n      <th>FLAG_DOCUMENT_21</th>\n      <th>AMT_REQ_CREDIT_BUREAU_HOUR</th>\n      <th>AMT_REQ_CREDIT_BUREAU_DAY</th>\n      <th>AMT_REQ_CREDIT_BUREAU_WEEK</th>\n      <th>AMT_REQ_CREDIT_BUREAU_MON</th>\n      <th>AMT_REQ_CREDIT_BUREAU_QRT</th>\n      <th>AMT_REQ_CREDIT_BUREAU_YEAR</th>\n      <th>Active_CBC</th>\n      <th>Bad debt_CBC</th>\n      <th>Closed_CBC</th>\n      <th>Sold_CBC</th>\n      <th>CREDIT_DAY_OVERDUE</th>\n      <th>AMT_CREDIT_SUM_DEBT</th>\n      <th>Approved_PA</th>\n      <th>Canceled_PA</th>\n      <th>Refused_PA</th>\n      <th>Unused offer_PA</th>\n      <th>New_PA</th>\n      <th>Refreshed_PA</th>\n      <th>Repeater_PA</th>\n      <th>Active_PCB</th>\n      <th>Amortized debt_PCB</th>\n      <th>Approved_PCB</th>\n      <th>Canceled_PCB</th>\n      <th>Completed_PCB</th>\n      <th>Demand_PCB</th>\n      <th>Returned to the store_PCB</th>\n      <th>Signed_PCB</th>\n      <th>SK_DPD_PCB</th>\n      <th>CNT_INSTALMENT_FUTURE</th>\n    </tr>\n  </thead>\n  <tbody>\n    <tr>\n      <th>0</th>\n      <td>0</td>\n      <td>100002</td>\n      <td>1</td>\n      <td>Cash loans</td>\n      <td>M</td>\n      <td>N</td>\n      <td>Y</td>\n      <td>0</td>\n      <td>202500.0</td>\n      <td>406597.5</td>\n      <td>24700.5</td>\n      <td>351000.0</td>\n      <td>Unaccompanied</td>\n      <td>Working</td>\n      <td>Secondary / secondary special</td>\n      <td>Single / not married</td>\n      <td>House / apartment</td>\n      <td>0.018801</td>\n      <td>-9461</td>\n      <td>-637</td>\n      <td>-3648.0</td>\n      <td>-2120</td>\n      <td>NaN</td>\n      <td>1</td>\n      <td>1</td>\n      <td>0</td>\n      <td>1</td>\n      <td>1</td>\n      <td>0</td>\n      <td>Laborers</td>\n      <td>1.0</td>\n      <td>2</td>\n      <td>2</td>\n      <td>WEDNESDAY</td>\n      <td>10</td>\n      <td>0</td>\n      <td>0</td>\n      <td>0</td>\n      <td>0</td>\n      <td>0</td>\n      <td>0</td>\n      <td>Business Entity Type 3</td>\n      <td>0.083037</td>\n      <td>0.262949</td>\n      <td>0.139376</td>\n      <td>0.0247</td>\n      <td>0.0369</td>\n      <td>0.9722</td>\n      <td>0.6192</td>\n      <td>0.0143</td>\n      <td>0.00</td>\n      <td>0.0690</td>\n      <td>0.0833</td>\n      <td>0.1250</td>\n      <td>0.0369</td>\n      <td>0.0202</td>\n      <td>0.0190</td>\n      <td>0.0000</td>\n      <td>0.0000</td>\n      <td>0.0252</td>\n      <td>0.0383</td>\n      <td>0.9722</td>\n      <td>0.6341</td>\n      <td>0.0144</td>\n      <td>0.0000</td>\n      <td>0.0690</td>\n      <td>0.0833</td>\n      <td>0.1250</td>\n      <td>0.0377</td>\n      <td>0.022</td>\n      <td>0.0198</td>\n      <td>0.0</td>\n      <td>0.0</td>\n      <td>0.0250</td>\n      <td>0.0369</td>\n      <td>0.9722</td>\n      <td>0.6243</td>\n      <td>0.0144</td>\n      <td>0.00</td>\n      <td>0.0690</td>\n      <td>0.0833</td>\n      <td>0.1250</td>\n      <td>0.0375</td>\n      <td>0.0205</td>\n      <td>0.0193</td>\n      <td>0.0000</td>\n      <td>0.00</td>\n      <td>reg oper account</td>\n      <td>block of flats</td>\n      <td>0.0149</td>\n      <td>Stone, brick</td>\n      <td>No</td>\n      <td>2.0</td>\n      <td>2.0</td>\n      <td>2.0</td>\n      <td>2.0</td>\n      <td>-1134.0</td>\n      <td>0</td>\n      <td>1</td>\n      <td>0</td>\n      <td>0</td>\n      <td>0</td>\n      <td>0</td>\n      <td>0</td>\n      <td>0</td>\n      <td>0</td>\n      <td>0</td>\n      <td>0</td>\n      <td>0</td>\n      <td>0</td>\n      <td>0</td>\n      <td>0</td>\n      <td>0</td>\n      <td>0</td>\n      <td>0</td>\n      <td>0</td>\n      <td>0</td>\n      <td>0.0</td>\n      <td>0.0</td>\n      <td>0.0</td>\n      <td>0.0</td>\n      <td>0.0</td>\n      <td>1.0</td>\n      <td>2.0</td>\n      <td>0.0</td>\n      <td>6.0</td>\n      <td>0.0</td>\n      <td>0.0</td>\n      <td>245781.0</td>\n      <td>1.0</td>\n      <td>0.0</td>\n      <td>0.0</td>\n      <td>0.0</td>\n      <td>1.0</td>\n      <td>0.0</td>\n      <td>0.0</td>\n      <td>19.0</td>\n      <td>0.0</td>\n      <td>0.0</td>\n      <td>0.0</td>\n      <td>0.0</td>\n      <td>0.0</td>\n      <td>0.0</td>\n      <td>0.0</td>\n      <td>0.0</td>\n      <td>285.0</td>\n    </tr>\n    <tr>\n      <th>1</th>\n      <td>1</td>\n      <td>100003</td>\n      <td>0</td>\n      <td>Cash loans</td>\n      <td>F</td>\n      <td>N</td>\n      <td>N</td>\n      <td>0</td>\n      <td>270000.0</td>\n      <td>1293502.5</td>\n      <td>35698.5</td>\n      <td>1129500.0</td>\n      <td>Family</td>\n      <td>State servant</td>\n      <td>Higher education</td>\n      <td>Married</td>\n      <td>House / apartment</td>\n      <td>0.003541</td>\n      <td>-16765</td>\n      <td>-1188</td>\n      <td>-1186.0</td>\n      <td>-291</td>\n      <td>NaN</td>\n      <td>1</td>\n      <td>1</td>\n      <td>0</td>\n      <td>1</td>\n      <td>1</td>\n      <td>0</td>\n      <td>Core staff</td>\n      <td>2.0</td>\n      <td>1</td>\n      <td>1</td>\n      <td>MONDAY</td>\n      <td>11</td>\n      <td>0</td>\n      <td>0</td>\n      <td>0</td>\n      <td>0</td>\n      <td>0</td>\n      <td>0</td>\n      <td>School</td>\n      <td>0.311267</td>\n      <td>0.622246</td>\n      <td>NaN</td>\n      <td>0.0959</td>\n      <td>0.0529</td>\n      <td>0.9851</td>\n      <td>0.7960</td>\n      <td>0.0605</td>\n      <td>0.08</td>\n      <td>0.0345</td>\n      <td>0.2917</td>\n      <td>0.3333</td>\n      <td>0.0130</td>\n      <td>0.0773</td>\n      <td>0.0549</td>\n      <td>0.0039</td>\n      <td>0.0098</td>\n      <td>0.0924</td>\n      <td>0.0538</td>\n      <td>0.9851</td>\n      <td>0.8040</td>\n      <td>0.0497</td>\n      <td>0.0806</td>\n      <td>0.0345</td>\n      <td>0.2917</td>\n      <td>0.3333</td>\n      <td>0.0128</td>\n      <td>0.079</td>\n      <td>0.0554</td>\n      <td>0.0</td>\n      <td>0.0</td>\n      <td>0.0968</td>\n      <td>0.0529</td>\n      <td>0.9851</td>\n      <td>0.7987</td>\n      <td>0.0608</td>\n      <td>0.08</td>\n      <td>0.0345</td>\n      <td>0.2917</td>\n      <td>0.3333</td>\n      <td>0.0132</td>\n      <td>0.0787</td>\n      <td>0.0558</td>\n      <td>0.0039</td>\n      <td>0.01</td>\n      <td>reg oper account</td>\n      <td>block of flats</td>\n      <td>0.0714</td>\n      <td>Block</td>\n      <td>No</td>\n      <td>1.0</td>\n      <td>0.0</td>\n      <td>1.0</td>\n      <td>0.0</td>\n      <td>-828.0</td>\n      <td>0</td>\n      <td>1</td>\n      <td>0</td>\n      <td>0</td>\n      <td>0</td>\n      <td>0</td>\n      <td>0</td>\n      <td>0</td>\n      <td>0</td>\n      <td>0</td>\n      <td>0</td>\n      <td>0</td>\n      <td>0</td>\n      <td>0</td>\n      <td>0</td>\n      <td>0</td>\n      <td>0</td>\n      <td>0</td>\n      <td>0</td>\n      <td>0</td>\n      <td>0.0</td>\n      <td>0.0</td>\n      <td>0.0</td>\n      <td>0.0</td>\n      <td>0.0</td>\n      <td>0.0</td>\n      <td>1.0</td>\n      <td>0.0</td>\n      <td>3.0</td>\n      <td>0.0</td>\n      <td>0.0</td>\n      <td>0.0</td>\n      <td>3.0</td>\n      <td>0.0</td>\n      <td>0.0</td>\n      <td>0.0</td>\n      <td>0.0</td>\n      <td>2.0</td>\n      <td>1.0</td>\n      <td>26.0</td>\n      <td>0.0</td>\n      <td>0.0</td>\n      <td>0.0</td>\n      <td>2.0</td>\n      <td>0.0</td>\n      <td>0.0</td>\n      <td>0.0</td>\n      <td>0.0</td>\n      <td>162.0</td>\n    </tr>\n    <tr>\n      <th>2</th>\n      <td>2</td>\n      <td>100004</td>\n      <td>0</td>\n      <td>Revolving loans</td>\n      <td>M</td>\n      <td>Y</td>\n      <td>Y</td>\n      <td>0</td>\n      <td>67500.0</td>\n      <td>135000.0</td>\n      <td>6750.0</td>\n      <td>135000.0</td>\n      <td>Unaccompanied</td>\n      <td>Working</td>\n      <td>Secondary / secondary special</td>\n      <td>Single / not married</td>\n      <td>House / apartment</td>\n      <td>0.010032</td>\n      <td>-19046</td>\n      <td>-225</td>\n      <td>-4260.0</td>\n      <td>-2531</td>\n      <td>26.0</td>\n      <td>1</td>\n      <td>1</td>\n      <td>1</td>\n      <td>1</td>\n      <td>1</td>\n      <td>0</td>\n      <td>Laborers</td>\n      <td>1.0</td>\n      <td>2</td>\n      <td>2</td>\n      <td>MONDAY</td>\n      <td>9</td>\n      <td>0</td>\n      <td>0</td>\n      <td>0</td>\n      <td>0</td>\n      <td>0</td>\n      <td>0</td>\n      <td>Government</td>\n      <td>NaN</td>\n      <td>0.555912</td>\n      <td>0.729567</td>\n      <td>NaN</td>\n      <td>NaN</td>\n      <td>NaN</td>\n      <td>NaN</td>\n      <td>NaN</td>\n      <td>NaN</td>\n      <td>NaN</td>\n      <td>NaN</td>\n      <td>NaN</td>\n      <td>NaN</td>\n      <td>NaN</td>\n      <td>NaN</td>\n      <td>NaN</td>\n      <td>NaN</td>\n      <td>NaN</td>\n      <td>NaN</td>\n      <td>NaN</td>\n      <td>NaN</td>\n      <td>NaN</td>\n      <td>NaN</td>\n      <td>NaN</td>\n      <td>NaN</td>\n      <td>NaN</td>\n      <td>NaN</td>\n      <td>NaN</td>\n      <td>NaN</td>\n      <td>NaN</td>\n      <td>NaN</td>\n      <td>NaN</td>\n      <td>NaN</td>\n      <td>NaN</td>\n      <td>NaN</td>\n      <td>NaN</td>\n      <td>NaN</td>\n      <td>NaN</td>\n      <td>NaN</td>\n      <td>NaN</td>\n      <td>NaN</td>\n      <td>NaN</td>\n      <td>NaN</td>\n      <td>NaN</td>\n      <td>NaN</td>\n      <td>NaN</td>\n      <td>NaN</td>\n      <td>NaN</td>\n      <td>NaN</td>\n      <td>NaN</td>\n      <td>0.0</td>\n      <td>0.0</td>\n      <td>0.0</td>\n      <td>0.0</td>\n      <td>-815.0</td>\n      <td>0</td>\n      <td>0</td>\n      <td>0</td>\n      <td>0</td>\n      <td>0</td>\n      <td>0</td>\n      <td>0</td>\n      <td>0</td>\n      <td>0</td>\n      <td>0</td>\n      <td>0</td>\n      <td>0</td>\n      <td>0</td>\n      <td>0</td>\n      <td>0</td>\n      <td>0</td>\n      <td>0</td>\n      <td>0</td>\n      <td>0</td>\n      <td>0</td>\n      <td>0.0</td>\n      <td>0.0</td>\n      <td>0.0</td>\n      <td>0.0</td>\n      <td>0.0</td>\n      <td>0.0</td>\n      <td>0.0</td>\n      <td>0.0</td>\n      <td>2.0</td>\n      <td>0.0</td>\n      <td>0.0</td>\n      <td>0.0</td>\n      <td>1.0</td>\n      <td>0.0</td>\n      <td>0.0</td>\n      <td>0.0</td>\n      <td>1.0</td>\n      <td>0.0</td>\n      <td>0.0</td>\n      <td>3.0</td>\n      <td>0.0</td>\n      <td>0.0</td>\n      <td>0.0</td>\n      <td>1.0</td>\n      <td>0.0</td>\n      <td>0.0</td>\n      <td>0.0</td>\n      <td>0.0</td>\n      <td>9.0</td>\n    </tr>\n    <tr>\n      <th>3</th>\n      <td>3</td>\n      <td>100006</td>\n      <td>0</td>\n      <td>Cash loans</td>\n      <td>F</td>\n      <td>N</td>\n      <td>Y</td>\n      <td>0</td>\n      <td>135000.0</td>\n      <td>312682.5</td>\n      <td>29686.5</td>\n      <td>297000.0</td>\n      <td>Unaccompanied</td>\n      <td>Working</td>\n      <td>Secondary / secondary special</td>\n      <td>Civil marriage</td>\n      <td>House / apartment</td>\n      <td>0.008019</td>\n      <td>-19005</td>\n      <td>-3039</td>\n      <td>-9833.0</td>\n      <td>-2437</td>\n      <td>NaN</td>\n      <td>1</td>\n      <td>1</td>\n      <td>0</td>\n      <td>1</td>\n      <td>0</td>\n      <td>0</td>\n      <td>Laborers</td>\n      <td>2.0</td>\n      <td>2</td>\n      <td>2</td>\n      <td>WEDNESDAY</td>\n      <td>17</td>\n      <td>0</td>\n      <td>0</td>\n      <td>0</td>\n      <td>0</td>\n      <td>0</td>\n      <td>0</td>\n      <td>Business Entity Type 3</td>\n      <td>NaN</td>\n      <td>0.650442</td>\n      <td>NaN</td>\n      <td>NaN</td>\n      <td>NaN</td>\n      <td>NaN</td>\n      <td>NaN</td>\n      <td>NaN</td>\n      <td>NaN</td>\n      <td>NaN</td>\n      <td>NaN</td>\n      <td>NaN</td>\n      <td>NaN</td>\n      <td>NaN</td>\n      <td>NaN</td>\n      <td>NaN</td>\n      <td>NaN</td>\n      <td>NaN</td>\n      <td>NaN</td>\n      <td>NaN</td>\n      <td>NaN</td>\n      <td>NaN</td>\n      <td>NaN</td>\n      <td>NaN</td>\n      <td>NaN</td>\n      <td>NaN</td>\n      <td>NaN</td>\n      <td>NaN</td>\n      <td>NaN</td>\n      <td>NaN</td>\n      <td>NaN</td>\n      <td>NaN</td>\n      <td>NaN</td>\n      <td>NaN</td>\n      <td>NaN</td>\n      <td>NaN</td>\n      <td>NaN</td>\n      <td>NaN</td>\n      <td>NaN</td>\n      <td>NaN</td>\n      <td>NaN</td>\n      <td>NaN</td>\n      <td>NaN</td>\n      <td>NaN</td>\n      <td>NaN</td>\n      <td>NaN</td>\n      <td>NaN</td>\n      <td>NaN</td>\n      <td>NaN</td>\n      <td>NaN</td>\n      <td>2.0</td>\n      <td>0.0</td>\n      <td>2.0</td>\n      <td>0.0</td>\n      <td>-617.0</td>\n      <td>0</td>\n      <td>1</td>\n      <td>0</td>\n      <td>0</td>\n      <td>0</td>\n      <td>0</td>\n      <td>0</td>\n      <td>0</td>\n      <td>0</td>\n      <td>0</td>\n      <td>0</td>\n      <td>0</td>\n      <td>0</td>\n      <td>0</td>\n      <td>0</td>\n      <td>0</td>\n      <td>0</td>\n      <td>0</td>\n      <td>0</td>\n      <td>0</td>\n      <td>NaN</td>\n      <td>NaN</td>\n      <td>NaN</td>\n      <td>NaN</td>\n      <td>NaN</td>\n      <td>NaN</td>\n      <td>NaN</td>\n      <td>NaN</td>\n      <td>NaN</td>\n      <td>NaN</td>\n      <td>NaN</td>\n      <td>NaN</td>\n      <td>5.0</td>\n      <td>3.0</td>\n      <td>1.0</td>\n      <td>0.0</td>\n      <td>1.0</td>\n      <td>0.0</td>\n      <td>8.0</td>\n      <td>18.0</td>\n      <td>0.0</td>\n      <td>0.0</td>\n      <td>0.0</td>\n      <td>2.0</td>\n      <td>0.0</td>\n      <td>1.0</td>\n      <td>0.0</td>\n      <td>0.0</td>\n      <td>173.0</td>\n    </tr>\n    <tr>\n      <th>4</th>\n      <td>4</td>\n      <td>100007</td>\n      <td>0</td>\n      <td>Cash loans</td>\n      <td>M</td>\n      <td>N</td>\n      <td>Y</td>\n      <td>0</td>\n      <td>121500.0</td>\n      <td>513000.0</td>\n      <td>21865.5</td>\n      <td>513000.0</td>\n      <td>Unaccompanied</td>\n      <td>Working</td>\n      <td>Secondary / secondary special</td>\n      <td>Single / not married</td>\n      <td>House / apartment</td>\n      <td>0.028663</td>\n      <td>-19932</td>\n      <td>-3038</td>\n      <td>-4311.0</td>\n      <td>-3458</td>\n      <td>NaN</td>\n      <td>1</td>\n      <td>1</td>\n      <td>0</td>\n      <td>1</td>\n      <td>0</td>\n      <td>0</td>\n      <td>Core staff</td>\n      <td>1.0</td>\n      <td>2</td>\n      <td>2</td>\n      <td>THURSDAY</td>\n      <td>11</td>\n      <td>0</td>\n      <td>0</td>\n      <td>0</td>\n      <td>0</td>\n      <td>1</td>\n      <td>1</td>\n      <td>Other</td>\n      <td>NaN</td>\n      <td>0.322738</td>\n      <td>NaN</td>\n      <td>NaN</td>\n      <td>NaN</td>\n      <td>NaN</td>\n      <td>NaN</td>\n      <td>NaN</td>\n      <td>NaN</td>\n      <td>NaN</td>\n      <td>NaN</td>\n      <td>NaN</td>\n      <td>NaN</td>\n      <td>NaN</td>\n      <td>NaN</td>\n      <td>NaN</td>\n      <td>NaN</td>\n      <td>NaN</td>\n      <td>NaN</td>\n      <td>NaN</td>\n      <td>NaN</td>\n      <td>NaN</td>\n      <td>NaN</td>\n      <td>NaN</td>\n      <td>NaN</td>\n      <td>NaN</td>\n      <td>NaN</td>\n      <td>NaN</td>\n      <td>NaN</td>\n      <td>NaN</td>\n      <td>NaN</td>\n      <td>NaN</td>\n      <td>NaN</td>\n      <td>NaN</td>\n      <td>NaN</td>\n      <td>NaN</td>\n      <td>NaN</td>\n      <td>NaN</td>\n      <td>NaN</td>\n      <td>NaN</td>\n      <td>NaN</td>\n      <td>NaN</td>\n      <td>NaN</td>\n      <td>NaN</td>\n      <td>NaN</td>\n      <td>NaN</td>\n      <td>NaN</td>\n      <td>NaN</td>\n      <td>NaN</td>\n      <td>NaN</td>\n      <td>0.0</td>\n      <td>0.0</td>\n      <td>0.0</td>\n      <td>0.0</td>\n      <td>-1106.0</td>\n      <td>0</td>\n      <td>0</td>\n      <td>0</td>\n      <td>0</td>\n      <td>0</td>\n      <td>0</td>\n      <td>1</td>\n      <td>0</td>\n      <td>0</td>\n      <td>0</td>\n      <td>0</td>\n      <td>0</td>\n      <td>0</td>\n      <td>0</td>\n      <td>0</td>\n      <td>0</td>\n      <td>0</td>\n      <td>0</td>\n      <td>0</td>\n      <td>0</td>\n      <td>0.0</td>\n      <td>0.0</td>\n      <td>0.0</td>\n      <td>0.0</td>\n      <td>0.0</td>\n      <td>0.0</td>\n      <td>0.0</td>\n      <td>0.0</td>\n      <td>1.0</td>\n      <td>0.0</td>\n      <td>0.0</td>\n      <td>0.0</td>\n      <td>6.0</td>\n      <td>0.0</td>\n      <td>0.0</td>\n      <td>0.0</td>\n      <td>1.0</td>\n      <td>0.0</td>\n      <td>5.0</td>\n      <td>62.0</td>\n      <td>0.0</td>\n      <td>0.0</td>\n      <td>0.0</td>\n      <td>3.0</td>\n      <td>0.0</td>\n      <td>0.0</td>\n      <td>1.0</td>\n      <td>0.0</td>\n      <td>592.0</td>\n    </tr>\n  </tbody>\n</table>\n</div>"
     },
     "metadata": {},
     "execution_count": 6
    }
   ],
   "source": [
    "data_train.head()"
   ]
  },
  {
   "cell_type": "code",
   "execution_count": 7,
   "metadata": {},
   "outputs": [],
   "source": [
    "pd.set_option('display.max_columns',40)\n",
    "pd.set_option('display.max_rows',30)"
   ]
  },
  {
   "cell_type": "code",
   "execution_count": 5,
   "metadata": {},
   "outputs": [],
   "source": [
    "data_train.drop(columns=['Unnamed: 0','SK_ID_CURR'],axis=1,inplace=True)"
   ]
  },
  {
   "cell_type": "code",
   "execution_count": 9,
   "metadata": {},
   "outputs": [
    {
     "output_type": "execute_result",
     "data": {
      "text/plain": [
       "307511"
      ]
     },
     "metadata": {},
     "execution_count": 9
    }
   ],
   "source": [
    "len(data_train)"
   ]
  },
  {
   "source": [
    "Dataset di atas memberikan kita 307.511 baris data riwayat peminjaman aktif (data_train), \n",
    "## Columns\n",
    "### data_train:\n",
    "152 entries, SK_ID_CURR to AMT_MINUS"
   ],
   "cell_type": "markdown",
   "metadata": {}
  },
  {
   "cell_type": "code",
   "execution_count": 10,
   "metadata": {
    "tags": []
   },
   "outputs": [
    {
     "output_type": "stream",
     "name": "stdout",
     "text": [
      "<class 'pandas.core.frame.DataFrame'>\nRangeIndex: 307511 entries, 0 to 307510\nColumns: 144 entries, TARGET to CNT_INSTALMENT_FUTURE\ndtypes: float64(88), int64(40), object(16)\nmemory usage: 337.8+ MB\n"
     ]
    }
   ],
   "source": [
    "data_train.info()"
   ]
  },
  {
   "cell_type": "code",
   "execution_count": 11,
   "metadata": {},
   "outputs": [
    {
     "output_type": "execute_result",
     "data": {
      "text/plain": [
       "                          feature    dtype    null  null%  unique  \\\n",
       "0                          TARGET    int64       0   0.00       2   \n",
       "1              NAME_CONTRACT_TYPE   object       0   0.00       2   \n",
       "2                     CODE_GENDER   object       0   0.00       3   \n",
       "3                    FLAG_OWN_CAR   object       0   0.00       2   \n",
       "4                 FLAG_OWN_REALTY   object       0   0.00       2   \n",
       "5                    CNT_CHILDREN    int64       0   0.00      15   \n",
       "6                AMT_INCOME_TOTAL  float64       0   0.00    2548   \n",
       "7                      AMT_CREDIT  float64       0   0.00    5603   \n",
       "8                     AMT_ANNUITY  float64      12   0.00   13672   \n",
       "9                 AMT_GOODS_PRICE  float64     278   0.09    1002   \n",
       "10                NAME_TYPE_SUITE   object    1292   0.42       7   \n",
       "11               NAME_INCOME_TYPE   object       0   0.00       8   \n",
       "12            NAME_EDUCATION_TYPE   object       0   0.00       5   \n",
       "13             NAME_FAMILY_STATUS   object       0   0.00       6   \n",
       "14              NAME_HOUSING_TYPE   object       0   0.00       6   \n",
       "15     REGION_POPULATION_RELATIVE  float64       0   0.00      81   \n",
       "16                     DAYS_BIRTH    int64       0   0.00   17460   \n",
       "17                  DAYS_EMPLOYED    int64       0   0.00   12574   \n",
       "18              DAYS_REGISTRATION  float64       0   0.00   15688   \n",
       "19                DAYS_ID_PUBLISH    int64       0   0.00    6168   \n",
       "20                    OWN_CAR_AGE  float64  202929  65.99      62   \n",
       "21                     FLAG_MOBIL    int64       0   0.00       2   \n",
       "22                 FLAG_EMP_PHONE    int64       0   0.00       2   \n",
       "23                FLAG_WORK_PHONE    int64       0   0.00       2   \n",
       "24               FLAG_CONT_MOBILE    int64       0   0.00       2   \n",
       "25                     FLAG_PHONE    int64       0   0.00       2   \n",
       "26                     FLAG_EMAIL    int64       0   0.00       2   \n",
       "27                OCCUPATION_TYPE   object       0   0.00      11   \n",
       "28                CNT_FAM_MEMBERS  float64       2   0.00      17   \n",
       "29           REGION_RATING_CLIENT    int64       0   0.00       3   \n",
       "30    REGION_RATING_CLIENT_W_CITY    int64       0   0.00       3   \n",
       "31     WEEKDAY_APPR_PROCESS_START   object       0   0.00       7   \n",
       "32        HOUR_APPR_PROCESS_START    int64       0   0.00      24   \n",
       "33     REG_REGION_NOT_LIVE_REGION    int64       0   0.00       2   \n",
       "34     REG_REGION_NOT_WORK_REGION    int64       0   0.00       2   \n",
       "35    LIVE_REGION_NOT_WORK_REGION    int64       0   0.00       2   \n",
       "36         REG_CITY_NOT_LIVE_CITY    int64       0   0.00       2   \n",
       "37         REG_CITY_NOT_WORK_CITY    int64       0   0.00       2   \n",
       "38        LIVE_CITY_NOT_WORK_CITY    int64       0   0.00       2   \n",
       "39              ORGANIZATION_TYPE   object       0   0.00      11   \n",
       "40                   EXT_SOURCE_1  float64  173378  56.38  114584   \n",
       "41                   EXT_SOURCE_2  float64     660   0.21  119831   \n",
       "42                   EXT_SOURCE_3  float64   60965  19.83     814   \n",
       "43                 APARTMENTS_AVG  float64  156061  50.75    2339   \n",
       "44               BASEMENTAREA_AVG  float64  179943  58.52    3780   \n",
       "45    YEARS_BEGINEXPLUATATION_AVG  float64  150007  48.78     285   \n",
       "46                YEARS_BUILD_AVG  float64  204488  66.50     149   \n",
       "47                 COMMONAREA_AVG  float64  214865  69.87    3181   \n",
       "48                  ELEVATORS_AVG  float64  163891  53.30     257   \n",
       "49                  ENTRANCES_AVG  float64  154828  50.35     285   \n",
       "50                  FLOORSMAX_AVG  float64  153020  49.76     403   \n",
       "51                  FLOORSMIN_AVG  float64  208642  67.85     305   \n",
       "52                   LANDAREA_AVG  float64  182590  59.38    3527   \n",
       "53           LIVINGAPARTMENTS_AVG  float64  210199  68.35    1868   \n",
       "54                 LIVINGAREA_AVG  float64  154350  50.19    5199   \n",
       "55        NONLIVINGAPARTMENTS_AVG  float64  213514  69.43     386   \n",
       "56              NONLIVINGAREA_AVG  float64  169682  55.18    3290   \n",
       "57                APARTMENTS_MODE  float64  156061  50.75     760   \n",
       "58              BASEMENTAREA_MODE  float64  179943  58.52    3841   \n",
       "59   YEARS_BEGINEXPLUATATION_MODE  float64  150007  48.78     221   \n",
       "60               YEARS_BUILD_MODE  float64  204488  66.50     154   \n",
       "61                COMMONAREA_MODE  float64  214865  69.87    3128   \n",
       "62                 ELEVATORS_MODE  float64  163891  53.30      26   \n",
       "63                 ENTRANCES_MODE  float64  154828  50.35      30   \n",
       "64                 FLOORSMAX_MODE  float64  153020  49.76      25   \n",
       "65                 FLOORSMIN_MODE  float64  208642  67.85      25   \n",
       "66                  LANDAREA_MODE  float64  182590  59.38    3563   \n",
       "67          LIVINGAPARTMENTS_MODE  float64  210199  68.35     736   \n",
       "68                LIVINGAREA_MODE  float64  154350  50.19    5301   \n",
       "69       NONLIVINGAPARTMENTS_MODE  float64  213514  69.43     167   \n",
       "70             NONLIVINGAREA_MODE  float64  169682  55.18    3327   \n",
       "71                APARTMENTS_MEDI  float64  156061  50.75    1148   \n",
       "72              BASEMENTAREA_MEDI  float64  179943  58.52    3772   \n",
       "73   YEARS_BEGINEXPLUATATION_MEDI  float64  150007  48.78     245   \n",
       "74               YEARS_BUILD_MEDI  float64  204488  66.50     151   \n",
       "75                COMMONAREA_MEDI  float64  214865  69.87    3202   \n",
       "76                 ELEVATORS_MEDI  float64  163891  53.30      46   \n",
       "77                 ENTRANCES_MEDI  float64  154828  50.35      46   \n",
       "78                 FLOORSMAX_MEDI  float64  153020  49.76      49   \n",
       "79                 FLOORSMIN_MEDI  float64  208642  67.85      47   \n",
       "80                  LANDAREA_MEDI  float64  182590  59.38    3560   \n",
       "81          LIVINGAPARTMENTS_MEDI  float64  210199  68.35    1097   \n",
       "82                LIVINGAREA_MEDI  float64  154350  50.19    5281   \n",
       "83       NONLIVINGAPARTMENTS_MEDI  float64  213514  69.43     214   \n",
       "84             NONLIVINGAREA_MEDI  float64  169682  55.18    3323   \n",
       "85             FONDKAPREMONT_MODE   object  210295  68.39       4   \n",
       "86                 HOUSETYPE_MODE   object  154297  50.18       3   \n",
       "87                 TOTALAREA_MODE  float64  148431  48.27    5116   \n",
       "88             WALLSMATERIAL_MODE   object  156341  50.84       7   \n",
       "89            EMERGENCYSTATE_MODE   object  145755  47.40       2   \n",
       "90       OBS_30_CNT_SOCIAL_CIRCLE  float64    1021   0.33      33   \n",
       "91       DEF_30_CNT_SOCIAL_CIRCLE  float64    1021   0.33      10   \n",
       "92       OBS_60_CNT_SOCIAL_CIRCLE  float64    1021   0.33      33   \n",
       "93       DEF_60_CNT_SOCIAL_CIRCLE  float64    1021   0.33       9   \n",
       "94         DAYS_LAST_PHONE_CHANGE  float64       1   0.00    3773   \n",
       "95                FLAG_DOCUMENT_2    int64       0   0.00       2   \n",
       "96                FLAG_DOCUMENT_3    int64       0   0.00       2   \n",
       "97                FLAG_DOCUMENT_4    int64       0   0.00       2   \n",
       "98                FLAG_DOCUMENT_5    int64       0   0.00       2   \n",
       "99                FLAG_DOCUMENT_6    int64       0   0.00       2   \n",
       "100               FLAG_DOCUMENT_7    int64       0   0.00       2   \n",
       "101               FLAG_DOCUMENT_8    int64       0   0.00       2   \n",
       "102               FLAG_DOCUMENT_9    int64       0   0.00       2   \n",
       "103              FLAG_DOCUMENT_10    int64       0   0.00       2   \n",
       "104              FLAG_DOCUMENT_11    int64       0   0.00       2   \n",
       "105              FLAG_DOCUMENT_12    int64       0   0.00       2   \n",
       "106              FLAG_DOCUMENT_13    int64       0   0.00       2   \n",
       "107              FLAG_DOCUMENT_14    int64       0   0.00       2   \n",
       "108              FLAG_DOCUMENT_15    int64       0   0.00       2   \n",
       "109              FLAG_DOCUMENT_16    int64       0   0.00       2   \n",
       "110              FLAG_DOCUMENT_17    int64       0   0.00       2   \n",
       "111              FLAG_DOCUMENT_18    int64       0   0.00       2   \n",
       "112              FLAG_DOCUMENT_19    int64       0   0.00       2   \n",
       "113              FLAG_DOCUMENT_20    int64       0   0.00       2   \n",
       "114              FLAG_DOCUMENT_21    int64       0   0.00       2   \n",
       "115    AMT_REQ_CREDIT_BUREAU_HOUR  float64   41519  13.50       5   \n",
       "116     AMT_REQ_CREDIT_BUREAU_DAY  float64   41519  13.50       9   \n",
       "117    AMT_REQ_CREDIT_BUREAU_WEEK  float64   41519  13.50       9   \n",
       "118     AMT_REQ_CREDIT_BUREAU_MON  float64   41519  13.50      24   \n",
       "119     AMT_REQ_CREDIT_BUREAU_QRT  float64   41519  13.50      11   \n",
       "120    AMT_REQ_CREDIT_BUREAU_YEAR  float64   41519  13.50      25   \n",
       "121                    Active_CBC  float64   44020  14.31      23   \n",
       "122                  Bad debt_CBC  float64   44020  14.31       2   \n",
       "123                    Closed_CBC  float64   44020  14.31      54   \n",
       "124                      Sold_CBC  float64   44020  14.31       8   \n",
       "125            CREDIT_DAY_OVERDUE  float64   44020  14.31     879   \n",
       "126           AMT_CREDIT_SUM_DEBT  float64   44020  14.31  155001   \n",
       "127                   Approved_PA  float64   16454   5.35      26   \n",
       "128                   Canceled_PA  float64   16454   5.35      39   \n",
       "129                    Refused_PA  float64   16454   5.35      46   \n",
       "130               Unused offer_PA  float64   16454   5.35      11   \n",
       "131                        New_PA  float64   16454   5.35      18   \n",
       "132                  Refreshed_PA  float64   16454   5.35      24   \n",
       "133                   Repeater_PA  float64   16454   5.35      64   \n",
       "134                    Active_PCB  float64   18067   5.88     212   \n",
       "135            Amortized debt_PCB  float64   18067   5.88       9   \n",
       "136                  Approved_PCB  float64   18067   5.88      12   \n",
       "137                  Canceled_PCB  float64   18067   5.88       2   \n",
       "138                 Completed_PCB  float64   18067   5.88      47   \n",
       "139                    Demand_PCB  float64   18067   5.88      53   \n",
       "140     Returned to the store_PCB  float64   18067   5.88       5   \n",
       "141                    Signed_PCB  float64   18067   5.88      32   \n",
       "142                    SK_DPD_PCB  float64   18067   5.88    3708   \n",
       "143         CNT_INSTALMENT_FUTURE  float64   18067   5.88    2892   \n",
       "\n",
       "                                          uniquesample  \n",
       "0                                               [1, 0]  \n",
       "1                        [Cash loans, Revolving loans]  \n",
       "2                                          [M, F, XNA]  \n",
       "3                                               [N, Y]  \n",
       "4                                               [Y, N]  \n",
       "5                                      [0, 1, 2, 3, 4]  \n",
       "6    [202500.0, 270000.0, 67500.0, 135000.0, 121500.0]  \n",
       "7    [406597.5, 1293502.5, 135000.0, 312682.5, 5130...  \n",
       "8         [24700.5, 35698.5, 6750.0, 29686.5, 21865.5]  \n",
       "9    [351000.0, 1129500.0, 135000.0, 297000.0, 5130...  \n",
       "10   [Unaccompanied, Family, Spouse, partner, Child...  \n",
       "11   [Working, State servant, Commercial associate,...  \n",
       "12   [Secondary / secondary special, Higher educati...  \n",
       "13   [Single / not married, Married, Civil marriage...  \n",
       "14   [House / apartment, Rented apartment, With par...  \n",
       "15   [0.018801, 0.003540999999999999, 0.010032, 0.0...  \n",
       "16             [-9461, -16765, -19046, -19005, -19932]  \n",
       "17                   [-637, -1188, -225, -3039, -3038]  \n",
       "18       [-3648.0, -1186.0, -4260.0, -9833.0, -4311.0]  \n",
       "19                  [-2120, -291, -2531, -2437, -3458]  \n",
       "20                        [nan, 26.0, 17.0, 8.0, 23.0]  \n",
       "21                                              [1, 0]  \n",
       "22                                              [1, 0]  \n",
       "23                                              [0, 1]  \n",
       "24                                              [1, 0]  \n",
       "25                                              [1, 0]  \n",
       "26                                              [0, 1]  \n",
       "27   [Laborers, Core staff, Accountants, Managers, ...  \n",
       "28                           [1.0, 2.0, 3.0, 4.0, 5.0]  \n",
       "29                                           [2, 1, 3]  \n",
       "30                                           [2, 1, 3]  \n",
       "31     [WEDNESDAY, MONDAY, THURSDAY, SUNDAY, SATURDAY]  \n",
       "32                                 [10, 11, 9, 17, 16]  \n",
       "33                                              [0, 1]  \n",
       "34                                              [0, 1]  \n",
       "35                                              [0, 1]  \n",
       "36                                              [0, 1]  \n",
       "37                                              [0, 1]  \n",
       "38                                              [0, 1]  \n",
       "39   [Business Entity Type 3, School, Government, O...  \n",
       "40   [0.08303696739132256, 0.3112673113812225, nan,...  \n",
       "41   [0.2629485927471776, 0.6222457752555098, 0.555...  \n",
       "42   [0.13937578009978951, nan, 0.7295666907060153,...  \n",
       "43               [0.0247, 0.0959, nan, 0.0825, 0.1474]  \n",
       "44               [0.0369, 0.0529, nan, 0.0973, 0.1335]  \n",
       "45               [0.9722, 0.9851, nan, 0.9811, 0.9806]  \n",
       "46   [0.6192, 0.7959999999999999, nan, 0.7348, 0.9796]  \n",
       "47               [0.0143, 0.0605, nan, 0.0582, 0.1143]  \n",
       "48                         [0.0, 0.08, nan, 0.16, 0.4]  \n",
       "49                [0.069, 0.0345, nan, 0.2069, 0.1379]  \n",
       "50               [0.0833, 0.2917, nan, 0.1667, 0.3333]  \n",
       "51                 [0.125, 0.3333, nan, 0.375, 0.7083]  \n",
       "52                [0.0369, 0.013, nan, 0.0135, 0.0931]  \n",
       "53               [0.0202, 0.0773, nan, 0.1202, 0.2849]  \n",
       "54                [0.019, 0.0549, nan, 0.0778, 0.1397]  \n",
       "55                  [0.0, 0.0039, nan, 0.0193, 0.0077]  \n",
       "56                  [0.0, 0.0098, nan, 0.1001, 0.0044]  \n",
       "57                [0.0252, 0.0924, nan, 0.084, 0.1502]  \n",
       "58                [0.0383, 0.0538, nan, 0.101, 0.1386]  \n",
       "59               [0.9722, 0.9851, nan, 0.9811, 0.9806]  \n",
       "60                [0.6341, 0.804, nan, 0.7452, 0.9804]  \n",
       "61               [0.0144, 0.0497, nan, 0.0587, 0.1153]  \n",
       "62                  [0.0, 0.0806, nan, 0.1611, 0.4028]  \n",
       "63                [0.069, 0.0345, nan, 0.2069, 0.1379]  \n",
       "64               [0.0833, 0.2917, nan, 0.1667, 0.3333]  \n",
       "65                 [0.125, 0.3333, nan, 0.375, 0.7083]  \n",
       "66               [0.0377, 0.0128, nan, 0.0138, 0.0952]  \n",
       "67                 [0.022, 0.079, nan, 0.1313, 0.3113]  \n",
       "68                [0.0198, 0.0554, nan, 0.081, 0.1456]  \n",
       "69                  [0.0, nan, 0.0195, 0.0078, 0.0039]  \n",
       "70                   [0.0, nan, 0.106, 0.0047, 0.0045]  \n",
       "71                [0.025, 0.0968, nan, 0.0833, 0.1489]  \n",
       "72               [0.0369, 0.0529, nan, 0.0973, 0.1335]  \n",
       "73               [0.9722, 0.9851, nan, 0.9811, 0.9806]  \n",
       "74               [0.6243, 0.7987, nan, 0.7383, 0.9799]  \n",
       "75                [0.0144, 0.0608, nan, 0.0585, 0.115]  \n",
       "76                         [0.0, 0.08, nan, 0.16, 0.4]  \n",
       "77                [0.069, 0.0345, nan, 0.2069, 0.1379]  \n",
       "78               [0.0833, 0.2917, nan, 0.1667, 0.3333]  \n",
       "79                 [0.125, 0.3333, nan, 0.375, 0.7083]  \n",
       "80               [0.0375, 0.0132, nan, 0.0137, 0.0947]  \n",
       "81               [0.0205, 0.0787, nan, 0.1223, 0.2899]  \n",
       "82               [0.0193, 0.0558, nan, 0.0792, 0.1422]  \n",
       "83                  [0.0, 0.0039, nan, 0.0194, 0.0078]  \n",
       "84                    [0.0, 0.01, nan, 0.1022, 0.0045]  \n",
       "85   [reg oper account, nan, org spec account, reg ...  \n",
       "86   [block of flats, nan, terraced house, specific...  \n",
       "87               [0.0149, 0.0714, nan, 0.0612, 0.1417]  \n",
       "88            [Stone, brick, Block, nan, Panel, Mixed]  \n",
       "89                                      [No, nan, Yes]  \n",
       "90                           [2.0, 1.0, 0.0, 4.0, 8.0]  \n",
       "91                           [2.0, 0.0, 1.0, nan, 3.0]  \n",
       "92                           [2.0, 1.0, 0.0, 4.0, 8.0]  \n",
       "93                           [2.0, 0.0, 1.0, nan, 3.0]  \n",
       "94          [-1134.0, -828.0, -815.0, -617.0, -1106.0]  \n",
       "95                                              [0, 1]  \n",
       "96                                              [1, 0]  \n",
       "97                                              [0, 1]  \n",
       "98                                              [0, 1]  \n",
       "99                                              [0, 1]  \n",
       "100                                             [0, 1]  \n",
       "101                                             [0, 1]  \n",
       "102                                             [0, 1]  \n",
       "103                                             [0, 1]  \n",
       "104                                             [0, 1]  \n",
       "105                                             [0, 1]  \n",
       "106                                             [0, 1]  \n",
       "107                                             [0, 1]  \n",
       "108                                             [0, 1]  \n",
       "109                                             [0, 1]  \n",
       "110                                             [0, 1]  \n",
       "111                                             [0, 1]  \n",
       "112                                             [0, 1]  \n",
       "113                                             [0, 1]  \n",
       "114                                             [0, 1]  \n",
       "115                          [0.0, nan, 1.0, 2.0, 3.0]  \n",
       "116                          [0.0, nan, 1.0, 3.0, 2.0]  \n",
       "117                          [0.0, nan, 1.0, 3.0, 2.0]  \n",
       "118                          [0.0, nan, 1.0, 2.0, 6.0]  \n",
       "119                          [0.0, nan, 1.0, 2.0, 4.0]  \n",
       "120                          [1.0, 0.0, nan, 2.0, 4.0]  \n",
       "121                          [2.0, 1.0, 0.0, nan, 4.0]  \n",
       "122                                    [0.0, nan, 1.0]  \n",
       "123                          [6.0, 3.0, 2.0, nan, 1.0]  \n",
       "124                          [0.0, nan, 1.0, 4.0, 2.0]  \n",
       "125                    [0.0, nan, 55.0, 1272.0, 161.0]  \n",
       "126          [245781.0, 0.0, nan, 240057.0, 1077349.5]  \n",
       "127                          [1.0, 3.0, 5.0, 6.0, 4.0]  \n",
       "128                          [0.0, 3.0, 1.0, nan, 6.0]  \n",
       "129                         [0.0, 1.0, nan, 10.0, 8.0]  \n",
       "130                          [0.0, nan, 1.0, 3.0, 2.0]  \n",
       "131                          [1.0, 0.0, nan, 2.0, 3.0]  \n",
       "132                          [0.0, 2.0, 1.0, nan, 6.0]  \n",
       "133                          [0.0, 1.0, 8.0, 5.0, 3.0]  \n",
       "134                      [19.0, 26.0, 3.0, 18.0, 62.0]  \n",
       "135                       [0.0, nan, 40.0, 11.0, 49.0]  \n",
       "136                          [0.0, nan, 1.0, 3.0, 2.0]  \n",
       "137                                    [0.0, nan, 1.0]  \n",
       "138                          [0.0, 2.0, 1.0, 3.0, 4.0]  \n",
       "139                        [0.0, nan, 2.0, 27.0, 64.0]  \n",
       "140                          [0.0, 1.0, nan, 2.0, 3.0]  \n",
       "141                          [0.0, 1.0, nan, 4.0, 6.0]  \n",
       "142                 [0.0, 28142.0, 15425.0, 13.0, nan]  \n",
       "143                  [285.0, 162.0, 9.0, 173.0, 592.0]  "
      ],
      "text/html": "<div>\n<style scoped>\n    .dataframe tbody tr th:only-of-type {\n        vertical-align: middle;\n    }\n\n    .dataframe tbody tr th {\n        vertical-align: top;\n    }\n\n    .dataframe thead th {\n        text-align: right;\n    }\n</style>\n<table border=\"1\" class=\"dataframe\">\n  <thead>\n    <tr style=\"text-align: right;\">\n      <th></th>\n      <th>feature</th>\n      <th>dtype</th>\n      <th>null</th>\n      <th>null%</th>\n      <th>unique</th>\n      <th>uniquesample</th>\n    </tr>\n  </thead>\n  <tbody>\n    <tr>\n      <th>0</th>\n      <td>TARGET</td>\n      <td>int64</td>\n      <td>0</td>\n      <td>0.00</td>\n      <td>2</td>\n      <td>[1, 0]</td>\n    </tr>\n    <tr>\n      <th>1</th>\n      <td>NAME_CONTRACT_TYPE</td>\n      <td>object</td>\n      <td>0</td>\n      <td>0.00</td>\n      <td>2</td>\n      <td>[Cash loans, Revolving loans]</td>\n    </tr>\n    <tr>\n      <th>2</th>\n      <td>CODE_GENDER</td>\n      <td>object</td>\n      <td>0</td>\n      <td>0.00</td>\n      <td>3</td>\n      <td>[M, F, XNA]</td>\n    </tr>\n    <tr>\n      <th>3</th>\n      <td>FLAG_OWN_CAR</td>\n      <td>object</td>\n      <td>0</td>\n      <td>0.00</td>\n      <td>2</td>\n      <td>[N, Y]</td>\n    </tr>\n    <tr>\n      <th>4</th>\n      <td>FLAG_OWN_REALTY</td>\n      <td>object</td>\n      <td>0</td>\n      <td>0.00</td>\n      <td>2</td>\n      <td>[Y, N]</td>\n    </tr>\n    <tr>\n      <th>5</th>\n      <td>CNT_CHILDREN</td>\n      <td>int64</td>\n      <td>0</td>\n      <td>0.00</td>\n      <td>15</td>\n      <td>[0, 1, 2, 3, 4]</td>\n    </tr>\n    <tr>\n      <th>6</th>\n      <td>AMT_INCOME_TOTAL</td>\n      <td>float64</td>\n      <td>0</td>\n      <td>0.00</td>\n      <td>2548</td>\n      <td>[202500.0, 270000.0, 67500.0, 135000.0, 121500.0]</td>\n    </tr>\n    <tr>\n      <th>7</th>\n      <td>AMT_CREDIT</td>\n      <td>float64</td>\n      <td>0</td>\n      <td>0.00</td>\n      <td>5603</td>\n      <td>[406597.5, 1293502.5, 135000.0, 312682.5, 5130...</td>\n    </tr>\n    <tr>\n      <th>8</th>\n      <td>AMT_ANNUITY</td>\n      <td>float64</td>\n      <td>12</td>\n      <td>0.00</td>\n      <td>13672</td>\n      <td>[24700.5, 35698.5, 6750.0, 29686.5, 21865.5]</td>\n    </tr>\n    <tr>\n      <th>9</th>\n      <td>AMT_GOODS_PRICE</td>\n      <td>float64</td>\n      <td>278</td>\n      <td>0.09</td>\n      <td>1002</td>\n      <td>[351000.0, 1129500.0, 135000.0, 297000.0, 5130...</td>\n    </tr>\n    <tr>\n      <th>10</th>\n      <td>NAME_TYPE_SUITE</td>\n      <td>object</td>\n      <td>1292</td>\n      <td>0.42</td>\n      <td>7</td>\n      <td>[Unaccompanied, Family, Spouse, partner, Child...</td>\n    </tr>\n    <tr>\n      <th>11</th>\n      <td>NAME_INCOME_TYPE</td>\n      <td>object</td>\n      <td>0</td>\n      <td>0.00</td>\n      <td>8</td>\n      <td>[Working, State servant, Commercial associate,...</td>\n    </tr>\n    <tr>\n      <th>12</th>\n      <td>NAME_EDUCATION_TYPE</td>\n      <td>object</td>\n      <td>0</td>\n      <td>0.00</td>\n      <td>5</td>\n      <td>[Secondary / secondary special, Higher educati...</td>\n    </tr>\n    <tr>\n      <th>13</th>\n      <td>NAME_FAMILY_STATUS</td>\n      <td>object</td>\n      <td>0</td>\n      <td>0.00</td>\n      <td>6</td>\n      <td>[Single / not married, Married, Civil marriage...</td>\n    </tr>\n    <tr>\n      <th>14</th>\n      <td>NAME_HOUSING_TYPE</td>\n      <td>object</td>\n      <td>0</td>\n      <td>0.00</td>\n      <td>6</td>\n      <td>[House / apartment, Rented apartment, With par...</td>\n    </tr>\n    <tr>\n      <th>15</th>\n      <td>REGION_POPULATION_RELATIVE</td>\n      <td>float64</td>\n      <td>0</td>\n      <td>0.00</td>\n      <td>81</td>\n      <td>[0.018801, 0.003540999999999999, 0.010032, 0.0...</td>\n    </tr>\n    <tr>\n      <th>16</th>\n      <td>DAYS_BIRTH</td>\n      <td>int64</td>\n      <td>0</td>\n      <td>0.00</td>\n      <td>17460</td>\n      <td>[-9461, -16765, -19046, -19005, -19932]</td>\n    </tr>\n    <tr>\n      <th>17</th>\n      <td>DAYS_EMPLOYED</td>\n      <td>int64</td>\n      <td>0</td>\n      <td>0.00</td>\n      <td>12574</td>\n      <td>[-637, -1188, -225, -3039, -3038]</td>\n    </tr>\n    <tr>\n      <th>18</th>\n      <td>DAYS_REGISTRATION</td>\n      <td>float64</td>\n      <td>0</td>\n      <td>0.00</td>\n      <td>15688</td>\n      <td>[-3648.0, -1186.0, -4260.0, -9833.0, -4311.0]</td>\n    </tr>\n    <tr>\n      <th>19</th>\n      <td>DAYS_ID_PUBLISH</td>\n      <td>int64</td>\n      <td>0</td>\n      <td>0.00</td>\n      <td>6168</td>\n      <td>[-2120, -291, -2531, -2437, -3458]</td>\n    </tr>\n    <tr>\n      <th>20</th>\n      <td>OWN_CAR_AGE</td>\n      <td>float64</td>\n      <td>202929</td>\n      <td>65.99</td>\n      <td>62</td>\n      <td>[nan, 26.0, 17.0, 8.0, 23.0]</td>\n    </tr>\n    <tr>\n      <th>21</th>\n      <td>FLAG_MOBIL</td>\n      <td>int64</td>\n      <td>0</td>\n      <td>0.00</td>\n      <td>2</td>\n      <td>[1, 0]</td>\n    </tr>\n    <tr>\n      <th>22</th>\n      <td>FLAG_EMP_PHONE</td>\n      <td>int64</td>\n      <td>0</td>\n      <td>0.00</td>\n      <td>2</td>\n      <td>[1, 0]</td>\n    </tr>\n    <tr>\n      <th>23</th>\n      <td>FLAG_WORK_PHONE</td>\n      <td>int64</td>\n      <td>0</td>\n      <td>0.00</td>\n      <td>2</td>\n      <td>[0, 1]</td>\n    </tr>\n    <tr>\n      <th>24</th>\n      <td>FLAG_CONT_MOBILE</td>\n      <td>int64</td>\n      <td>0</td>\n      <td>0.00</td>\n      <td>2</td>\n      <td>[1, 0]</td>\n    </tr>\n    <tr>\n      <th>25</th>\n      <td>FLAG_PHONE</td>\n      <td>int64</td>\n      <td>0</td>\n      <td>0.00</td>\n      <td>2</td>\n      <td>[1, 0]</td>\n    </tr>\n    <tr>\n      <th>26</th>\n      <td>FLAG_EMAIL</td>\n      <td>int64</td>\n      <td>0</td>\n      <td>0.00</td>\n      <td>2</td>\n      <td>[0, 1]</td>\n    </tr>\n    <tr>\n      <th>27</th>\n      <td>OCCUPATION_TYPE</td>\n      <td>object</td>\n      <td>0</td>\n      <td>0.00</td>\n      <td>11</td>\n      <td>[Laborers, Core staff, Accountants, Managers, ...</td>\n    </tr>\n    <tr>\n      <th>28</th>\n      <td>CNT_FAM_MEMBERS</td>\n      <td>float64</td>\n      <td>2</td>\n      <td>0.00</td>\n      <td>17</td>\n      <td>[1.0, 2.0, 3.0, 4.0, 5.0]</td>\n    </tr>\n    <tr>\n      <th>29</th>\n      <td>REGION_RATING_CLIENT</td>\n      <td>int64</td>\n      <td>0</td>\n      <td>0.00</td>\n      <td>3</td>\n      <td>[2, 1, 3]</td>\n    </tr>\n    <tr>\n      <th>30</th>\n      <td>REGION_RATING_CLIENT_W_CITY</td>\n      <td>int64</td>\n      <td>0</td>\n      <td>0.00</td>\n      <td>3</td>\n      <td>[2, 1, 3]</td>\n    </tr>\n    <tr>\n      <th>31</th>\n      <td>WEEKDAY_APPR_PROCESS_START</td>\n      <td>object</td>\n      <td>0</td>\n      <td>0.00</td>\n      <td>7</td>\n      <td>[WEDNESDAY, MONDAY, THURSDAY, SUNDAY, SATURDAY]</td>\n    </tr>\n    <tr>\n      <th>32</th>\n      <td>HOUR_APPR_PROCESS_START</td>\n      <td>int64</td>\n      <td>0</td>\n      <td>0.00</td>\n      <td>24</td>\n      <td>[10, 11, 9, 17, 16]</td>\n    </tr>\n    <tr>\n      <th>33</th>\n      <td>REG_REGION_NOT_LIVE_REGION</td>\n      <td>int64</td>\n      <td>0</td>\n      <td>0.00</td>\n      <td>2</td>\n      <td>[0, 1]</td>\n    </tr>\n    <tr>\n      <th>34</th>\n      <td>REG_REGION_NOT_WORK_REGION</td>\n      <td>int64</td>\n      <td>0</td>\n      <td>0.00</td>\n      <td>2</td>\n      <td>[0, 1]</td>\n    </tr>\n    <tr>\n      <th>35</th>\n      <td>LIVE_REGION_NOT_WORK_REGION</td>\n      <td>int64</td>\n      <td>0</td>\n      <td>0.00</td>\n      <td>2</td>\n      <td>[0, 1]</td>\n    </tr>\n    <tr>\n      <th>36</th>\n      <td>REG_CITY_NOT_LIVE_CITY</td>\n      <td>int64</td>\n      <td>0</td>\n      <td>0.00</td>\n      <td>2</td>\n      <td>[0, 1]</td>\n    </tr>\n    <tr>\n      <th>37</th>\n      <td>REG_CITY_NOT_WORK_CITY</td>\n      <td>int64</td>\n      <td>0</td>\n      <td>0.00</td>\n      <td>2</td>\n      <td>[0, 1]</td>\n    </tr>\n    <tr>\n      <th>38</th>\n      <td>LIVE_CITY_NOT_WORK_CITY</td>\n      <td>int64</td>\n      <td>0</td>\n      <td>0.00</td>\n      <td>2</td>\n      <td>[0, 1]</td>\n    </tr>\n    <tr>\n      <th>39</th>\n      <td>ORGANIZATION_TYPE</td>\n      <td>object</td>\n      <td>0</td>\n      <td>0.00</td>\n      <td>11</td>\n      <td>[Business Entity Type 3, School, Government, O...</td>\n    </tr>\n    <tr>\n      <th>40</th>\n      <td>EXT_SOURCE_1</td>\n      <td>float64</td>\n      <td>173378</td>\n      <td>56.38</td>\n      <td>114584</td>\n      <td>[0.08303696739132256, 0.3112673113812225, nan,...</td>\n    </tr>\n    <tr>\n      <th>41</th>\n      <td>EXT_SOURCE_2</td>\n      <td>float64</td>\n      <td>660</td>\n      <td>0.21</td>\n      <td>119831</td>\n      <td>[0.2629485927471776, 0.6222457752555098, 0.555...</td>\n    </tr>\n    <tr>\n      <th>42</th>\n      <td>EXT_SOURCE_3</td>\n      <td>float64</td>\n      <td>60965</td>\n      <td>19.83</td>\n      <td>814</td>\n      <td>[0.13937578009978951, nan, 0.7295666907060153,...</td>\n    </tr>\n    <tr>\n      <th>43</th>\n      <td>APARTMENTS_AVG</td>\n      <td>float64</td>\n      <td>156061</td>\n      <td>50.75</td>\n      <td>2339</td>\n      <td>[0.0247, 0.0959, nan, 0.0825, 0.1474]</td>\n    </tr>\n    <tr>\n      <th>44</th>\n      <td>BASEMENTAREA_AVG</td>\n      <td>float64</td>\n      <td>179943</td>\n      <td>58.52</td>\n      <td>3780</td>\n      <td>[0.0369, 0.0529, nan, 0.0973, 0.1335]</td>\n    </tr>\n    <tr>\n      <th>45</th>\n      <td>YEARS_BEGINEXPLUATATION_AVG</td>\n      <td>float64</td>\n      <td>150007</td>\n      <td>48.78</td>\n      <td>285</td>\n      <td>[0.9722, 0.9851, nan, 0.9811, 0.9806]</td>\n    </tr>\n    <tr>\n      <th>46</th>\n      <td>YEARS_BUILD_AVG</td>\n      <td>float64</td>\n      <td>204488</td>\n      <td>66.50</td>\n      <td>149</td>\n      <td>[0.6192, 0.7959999999999999, nan, 0.7348, 0.9796]</td>\n    </tr>\n    <tr>\n      <th>47</th>\n      <td>COMMONAREA_AVG</td>\n      <td>float64</td>\n      <td>214865</td>\n      <td>69.87</td>\n      <td>3181</td>\n      <td>[0.0143, 0.0605, nan, 0.0582, 0.1143]</td>\n    </tr>\n    <tr>\n      <th>48</th>\n      <td>ELEVATORS_AVG</td>\n      <td>float64</td>\n      <td>163891</td>\n      <td>53.30</td>\n      <td>257</td>\n      <td>[0.0, 0.08, nan, 0.16, 0.4]</td>\n    </tr>\n    <tr>\n      <th>49</th>\n      <td>ENTRANCES_AVG</td>\n      <td>float64</td>\n      <td>154828</td>\n      <td>50.35</td>\n      <td>285</td>\n      <td>[0.069, 0.0345, nan, 0.2069, 0.1379]</td>\n    </tr>\n    <tr>\n      <th>50</th>\n      <td>FLOORSMAX_AVG</td>\n      <td>float64</td>\n      <td>153020</td>\n      <td>49.76</td>\n      <td>403</td>\n      <td>[0.0833, 0.2917, nan, 0.1667, 0.3333]</td>\n    </tr>\n    <tr>\n      <th>51</th>\n      <td>FLOORSMIN_AVG</td>\n      <td>float64</td>\n      <td>208642</td>\n      <td>67.85</td>\n      <td>305</td>\n      <td>[0.125, 0.3333, nan, 0.375, 0.7083]</td>\n    </tr>\n    <tr>\n      <th>52</th>\n      <td>LANDAREA_AVG</td>\n      <td>float64</td>\n      <td>182590</td>\n      <td>59.38</td>\n      <td>3527</td>\n      <td>[0.0369, 0.013, nan, 0.0135, 0.0931]</td>\n    </tr>\n    <tr>\n      <th>53</th>\n      <td>LIVINGAPARTMENTS_AVG</td>\n      <td>float64</td>\n      <td>210199</td>\n      <td>68.35</td>\n      <td>1868</td>\n      <td>[0.0202, 0.0773, nan, 0.1202, 0.2849]</td>\n    </tr>\n    <tr>\n      <th>54</th>\n      <td>LIVINGAREA_AVG</td>\n      <td>float64</td>\n      <td>154350</td>\n      <td>50.19</td>\n      <td>5199</td>\n      <td>[0.019, 0.0549, nan, 0.0778, 0.1397]</td>\n    </tr>\n    <tr>\n      <th>55</th>\n      <td>NONLIVINGAPARTMENTS_AVG</td>\n      <td>float64</td>\n      <td>213514</td>\n      <td>69.43</td>\n      <td>386</td>\n      <td>[0.0, 0.0039, nan, 0.0193, 0.0077]</td>\n    </tr>\n    <tr>\n      <th>56</th>\n      <td>NONLIVINGAREA_AVG</td>\n      <td>float64</td>\n      <td>169682</td>\n      <td>55.18</td>\n      <td>3290</td>\n      <td>[0.0, 0.0098, nan, 0.1001, 0.0044]</td>\n    </tr>\n    <tr>\n      <th>57</th>\n      <td>APARTMENTS_MODE</td>\n      <td>float64</td>\n      <td>156061</td>\n      <td>50.75</td>\n      <td>760</td>\n      <td>[0.0252, 0.0924, nan, 0.084, 0.1502]</td>\n    </tr>\n    <tr>\n      <th>58</th>\n      <td>BASEMENTAREA_MODE</td>\n      <td>float64</td>\n      <td>179943</td>\n      <td>58.52</td>\n      <td>3841</td>\n      <td>[0.0383, 0.0538, nan, 0.101, 0.1386]</td>\n    </tr>\n    <tr>\n      <th>59</th>\n      <td>YEARS_BEGINEXPLUATATION_MODE</td>\n      <td>float64</td>\n      <td>150007</td>\n      <td>48.78</td>\n      <td>221</td>\n      <td>[0.9722, 0.9851, nan, 0.9811, 0.9806]</td>\n    </tr>\n    <tr>\n      <th>60</th>\n      <td>YEARS_BUILD_MODE</td>\n      <td>float64</td>\n      <td>204488</td>\n      <td>66.50</td>\n      <td>154</td>\n      <td>[0.6341, 0.804, nan, 0.7452, 0.9804]</td>\n    </tr>\n    <tr>\n      <th>61</th>\n      <td>COMMONAREA_MODE</td>\n      <td>float64</td>\n      <td>214865</td>\n      <td>69.87</td>\n      <td>3128</td>\n      <td>[0.0144, 0.0497, nan, 0.0587, 0.1153]</td>\n    </tr>\n    <tr>\n      <th>62</th>\n      <td>ELEVATORS_MODE</td>\n      <td>float64</td>\n      <td>163891</td>\n      <td>53.30</td>\n      <td>26</td>\n      <td>[0.0, 0.0806, nan, 0.1611, 0.4028]</td>\n    </tr>\n    <tr>\n      <th>63</th>\n      <td>ENTRANCES_MODE</td>\n      <td>float64</td>\n      <td>154828</td>\n      <td>50.35</td>\n      <td>30</td>\n      <td>[0.069, 0.0345, nan, 0.2069, 0.1379]</td>\n    </tr>\n    <tr>\n      <th>64</th>\n      <td>FLOORSMAX_MODE</td>\n      <td>float64</td>\n      <td>153020</td>\n      <td>49.76</td>\n      <td>25</td>\n      <td>[0.0833, 0.2917, nan, 0.1667, 0.3333]</td>\n    </tr>\n    <tr>\n      <th>65</th>\n      <td>FLOORSMIN_MODE</td>\n      <td>float64</td>\n      <td>208642</td>\n      <td>67.85</td>\n      <td>25</td>\n      <td>[0.125, 0.3333, nan, 0.375, 0.7083]</td>\n    </tr>\n    <tr>\n      <th>66</th>\n      <td>LANDAREA_MODE</td>\n      <td>float64</td>\n      <td>182590</td>\n      <td>59.38</td>\n      <td>3563</td>\n      <td>[0.0377, 0.0128, nan, 0.0138, 0.0952]</td>\n    </tr>\n    <tr>\n      <th>67</th>\n      <td>LIVINGAPARTMENTS_MODE</td>\n      <td>float64</td>\n      <td>210199</td>\n      <td>68.35</td>\n      <td>736</td>\n      <td>[0.022, 0.079, nan, 0.1313, 0.3113]</td>\n    </tr>\n    <tr>\n      <th>68</th>\n      <td>LIVINGAREA_MODE</td>\n      <td>float64</td>\n      <td>154350</td>\n      <td>50.19</td>\n      <td>5301</td>\n      <td>[0.0198, 0.0554, nan, 0.081, 0.1456]</td>\n    </tr>\n    <tr>\n      <th>69</th>\n      <td>NONLIVINGAPARTMENTS_MODE</td>\n      <td>float64</td>\n      <td>213514</td>\n      <td>69.43</td>\n      <td>167</td>\n      <td>[0.0, nan, 0.0195, 0.0078, 0.0039]</td>\n    </tr>\n    <tr>\n      <th>70</th>\n      <td>NONLIVINGAREA_MODE</td>\n      <td>float64</td>\n      <td>169682</td>\n      <td>55.18</td>\n      <td>3327</td>\n      <td>[0.0, nan, 0.106, 0.0047, 0.0045]</td>\n    </tr>\n    <tr>\n      <th>71</th>\n      <td>APARTMENTS_MEDI</td>\n      <td>float64</td>\n      <td>156061</td>\n      <td>50.75</td>\n      <td>1148</td>\n      <td>[0.025, 0.0968, nan, 0.0833, 0.1489]</td>\n    </tr>\n    <tr>\n      <th>72</th>\n      <td>BASEMENTAREA_MEDI</td>\n      <td>float64</td>\n      <td>179943</td>\n      <td>58.52</td>\n      <td>3772</td>\n      <td>[0.0369, 0.0529, nan, 0.0973, 0.1335]</td>\n    </tr>\n    <tr>\n      <th>73</th>\n      <td>YEARS_BEGINEXPLUATATION_MEDI</td>\n      <td>float64</td>\n      <td>150007</td>\n      <td>48.78</td>\n      <td>245</td>\n      <td>[0.9722, 0.9851, nan, 0.9811, 0.9806]</td>\n    </tr>\n    <tr>\n      <th>74</th>\n      <td>YEARS_BUILD_MEDI</td>\n      <td>float64</td>\n      <td>204488</td>\n      <td>66.50</td>\n      <td>151</td>\n      <td>[0.6243, 0.7987, nan, 0.7383, 0.9799]</td>\n    </tr>\n    <tr>\n      <th>75</th>\n      <td>COMMONAREA_MEDI</td>\n      <td>float64</td>\n      <td>214865</td>\n      <td>69.87</td>\n      <td>3202</td>\n      <td>[0.0144, 0.0608, nan, 0.0585, 0.115]</td>\n    </tr>\n    <tr>\n      <th>76</th>\n      <td>ELEVATORS_MEDI</td>\n      <td>float64</td>\n      <td>163891</td>\n      <td>53.30</td>\n      <td>46</td>\n      <td>[0.0, 0.08, nan, 0.16, 0.4]</td>\n    </tr>\n    <tr>\n      <th>77</th>\n      <td>ENTRANCES_MEDI</td>\n      <td>float64</td>\n      <td>154828</td>\n      <td>50.35</td>\n      <td>46</td>\n      <td>[0.069, 0.0345, nan, 0.2069, 0.1379]</td>\n    </tr>\n    <tr>\n      <th>78</th>\n      <td>FLOORSMAX_MEDI</td>\n      <td>float64</td>\n      <td>153020</td>\n      <td>49.76</td>\n      <td>49</td>\n      <td>[0.0833, 0.2917, nan, 0.1667, 0.3333]</td>\n    </tr>\n    <tr>\n      <th>79</th>\n      <td>FLOORSMIN_MEDI</td>\n      <td>float64</td>\n      <td>208642</td>\n      <td>67.85</td>\n      <td>47</td>\n      <td>[0.125, 0.3333, nan, 0.375, 0.7083]</td>\n    </tr>\n    <tr>\n      <th>80</th>\n      <td>LANDAREA_MEDI</td>\n      <td>float64</td>\n      <td>182590</td>\n      <td>59.38</td>\n      <td>3560</td>\n      <td>[0.0375, 0.0132, nan, 0.0137, 0.0947]</td>\n    </tr>\n    <tr>\n      <th>81</th>\n      <td>LIVINGAPARTMENTS_MEDI</td>\n      <td>float64</td>\n      <td>210199</td>\n      <td>68.35</td>\n      <td>1097</td>\n      <td>[0.0205, 0.0787, nan, 0.1223, 0.2899]</td>\n    </tr>\n    <tr>\n      <th>82</th>\n      <td>LIVINGAREA_MEDI</td>\n      <td>float64</td>\n      <td>154350</td>\n      <td>50.19</td>\n      <td>5281</td>\n      <td>[0.0193, 0.0558, nan, 0.0792, 0.1422]</td>\n    </tr>\n    <tr>\n      <th>83</th>\n      <td>NONLIVINGAPARTMENTS_MEDI</td>\n      <td>float64</td>\n      <td>213514</td>\n      <td>69.43</td>\n      <td>214</td>\n      <td>[0.0, 0.0039, nan, 0.0194, 0.0078]</td>\n    </tr>\n    <tr>\n      <th>84</th>\n      <td>NONLIVINGAREA_MEDI</td>\n      <td>float64</td>\n      <td>169682</td>\n      <td>55.18</td>\n      <td>3323</td>\n      <td>[0.0, 0.01, nan, 0.1022, 0.0045]</td>\n    </tr>\n    <tr>\n      <th>85</th>\n      <td>FONDKAPREMONT_MODE</td>\n      <td>object</td>\n      <td>210295</td>\n      <td>68.39</td>\n      <td>4</td>\n      <td>[reg oper account, nan, org spec account, reg ...</td>\n    </tr>\n    <tr>\n      <th>86</th>\n      <td>HOUSETYPE_MODE</td>\n      <td>object</td>\n      <td>154297</td>\n      <td>50.18</td>\n      <td>3</td>\n      <td>[block of flats, nan, terraced house, specific...</td>\n    </tr>\n    <tr>\n      <th>87</th>\n      <td>TOTALAREA_MODE</td>\n      <td>float64</td>\n      <td>148431</td>\n      <td>48.27</td>\n      <td>5116</td>\n      <td>[0.0149, 0.0714, nan, 0.0612, 0.1417]</td>\n    </tr>\n    <tr>\n      <th>88</th>\n      <td>WALLSMATERIAL_MODE</td>\n      <td>object</td>\n      <td>156341</td>\n      <td>50.84</td>\n      <td>7</td>\n      <td>[Stone, brick, Block, nan, Panel, Mixed]</td>\n    </tr>\n    <tr>\n      <th>89</th>\n      <td>EMERGENCYSTATE_MODE</td>\n      <td>object</td>\n      <td>145755</td>\n      <td>47.40</td>\n      <td>2</td>\n      <td>[No, nan, Yes]</td>\n    </tr>\n    <tr>\n      <th>90</th>\n      <td>OBS_30_CNT_SOCIAL_CIRCLE</td>\n      <td>float64</td>\n      <td>1021</td>\n      <td>0.33</td>\n      <td>33</td>\n      <td>[2.0, 1.0, 0.0, 4.0, 8.0]</td>\n    </tr>\n    <tr>\n      <th>91</th>\n      <td>DEF_30_CNT_SOCIAL_CIRCLE</td>\n      <td>float64</td>\n      <td>1021</td>\n      <td>0.33</td>\n      <td>10</td>\n      <td>[2.0, 0.0, 1.0, nan, 3.0]</td>\n    </tr>\n    <tr>\n      <th>92</th>\n      <td>OBS_60_CNT_SOCIAL_CIRCLE</td>\n      <td>float64</td>\n      <td>1021</td>\n      <td>0.33</td>\n      <td>33</td>\n      <td>[2.0, 1.0, 0.0, 4.0, 8.0]</td>\n    </tr>\n    <tr>\n      <th>93</th>\n      <td>DEF_60_CNT_SOCIAL_CIRCLE</td>\n      <td>float64</td>\n      <td>1021</td>\n      <td>0.33</td>\n      <td>9</td>\n      <td>[2.0, 0.0, 1.0, nan, 3.0]</td>\n    </tr>\n    <tr>\n      <th>94</th>\n      <td>DAYS_LAST_PHONE_CHANGE</td>\n      <td>float64</td>\n      <td>1</td>\n      <td>0.00</td>\n      <td>3773</td>\n      <td>[-1134.0, -828.0, -815.0, -617.0, -1106.0]</td>\n    </tr>\n    <tr>\n      <th>95</th>\n      <td>FLAG_DOCUMENT_2</td>\n      <td>int64</td>\n      <td>0</td>\n      <td>0.00</td>\n      <td>2</td>\n      <td>[0, 1]</td>\n    </tr>\n    <tr>\n      <th>96</th>\n      <td>FLAG_DOCUMENT_3</td>\n      <td>int64</td>\n      <td>0</td>\n      <td>0.00</td>\n      <td>2</td>\n      <td>[1, 0]</td>\n    </tr>\n    <tr>\n      <th>97</th>\n      <td>FLAG_DOCUMENT_4</td>\n      <td>int64</td>\n      <td>0</td>\n      <td>0.00</td>\n      <td>2</td>\n      <td>[0, 1]</td>\n    </tr>\n    <tr>\n      <th>98</th>\n      <td>FLAG_DOCUMENT_5</td>\n      <td>int64</td>\n      <td>0</td>\n      <td>0.00</td>\n      <td>2</td>\n      <td>[0, 1]</td>\n    </tr>\n    <tr>\n      <th>99</th>\n      <td>FLAG_DOCUMENT_6</td>\n      <td>int64</td>\n      <td>0</td>\n      <td>0.00</td>\n      <td>2</td>\n      <td>[0, 1]</td>\n    </tr>\n    <tr>\n      <th>100</th>\n      <td>FLAG_DOCUMENT_7</td>\n      <td>int64</td>\n      <td>0</td>\n      <td>0.00</td>\n      <td>2</td>\n      <td>[0, 1]</td>\n    </tr>\n    <tr>\n      <th>101</th>\n      <td>FLAG_DOCUMENT_8</td>\n      <td>int64</td>\n      <td>0</td>\n      <td>0.00</td>\n      <td>2</td>\n      <td>[0, 1]</td>\n    </tr>\n    <tr>\n      <th>102</th>\n      <td>FLAG_DOCUMENT_9</td>\n      <td>int64</td>\n      <td>0</td>\n      <td>0.00</td>\n      <td>2</td>\n      <td>[0, 1]</td>\n    </tr>\n    <tr>\n      <th>103</th>\n      <td>FLAG_DOCUMENT_10</td>\n      <td>int64</td>\n      <td>0</td>\n      <td>0.00</td>\n      <td>2</td>\n      <td>[0, 1]</td>\n    </tr>\n    <tr>\n      <th>104</th>\n      <td>FLAG_DOCUMENT_11</td>\n      <td>int64</td>\n      <td>0</td>\n      <td>0.00</td>\n      <td>2</td>\n      <td>[0, 1]</td>\n    </tr>\n    <tr>\n      <th>105</th>\n      <td>FLAG_DOCUMENT_12</td>\n      <td>int64</td>\n      <td>0</td>\n      <td>0.00</td>\n      <td>2</td>\n      <td>[0, 1]</td>\n    </tr>\n    <tr>\n      <th>106</th>\n      <td>FLAG_DOCUMENT_13</td>\n      <td>int64</td>\n      <td>0</td>\n      <td>0.00</td>\n      <td>2</td>\n      <td>[0, 1]</td>\n    </tr>\n    <tr>\n      <th>107</th>\n      <td>FLAG_DOCUMENT_14</td>\n      <td>int64</td>\n      <td>0</td>\n      <td>0.00</td>\n      <td>2</td>\n      <td>[0, 1]</td>\n    </tr>\n    <tr>\n      <th>108</th>\n      <td>FLAG_DOCUMENT_15</td>\n      <td>int64</td>\n      <td>0</td>\n      <td>0.00</td>\n      <td>2</td>\n      <td>[0, 1]</td>\n    </tr>\n    <tr>\n      <th>109</th>\n      <td>FLAG_DOCUMENT_16</td>\n      <td>int64</td>\n      <td>0</td>\n      <td>0.00</td>\n      <td>2</td>\n      <td>[0, 1]</td>\n    </tr>\n    <tr>\n      <th>110</th>\n      <td>FLAG_DOCUMENT_17</td>\n      <td>int64</td>\n      <td>0</td>\n      <td>0.00</td>\n      <td>2</td>\n      <td>[0, 1]</td>\n    </tr>\n    <tr>\n      <th>111</th>\n      <td>FLAG_DOCUMENT_18</td>\n      <td>int64</td>\n      <td>0</td>\n      <td>0.00</td>\n      <td>2</td>\n      <td>[0, 1]</td>\n    </tr>\n    <tr>\n      <th>112</th>\n      <td>FLAG_DOCUMENT_19</td>\n      <td>int64</td>\n      <td>0</td>\n      <td>0.00</td>\n      <td>2</td>\n      <td>[0, 1]</td>\n    </tr>\n    <tr>\n      <th>113</th>\n      <td>FLAG_DOCUMENT_20</td>\n      <td>int64</td>\n      <td>0</td>\n      <td>0.00</td>\n      <td>2</td>\n      <td>[0, 1]</td>\n    </tr>\n    <tr>\n      <th>114</th>\n      <td>FLAG_DOCUMENT_21</td>\n      <td>int64</td>\n      <td>0</td>\n      <td>0.00</td>\n      <td>2</td>\n      <td>[0, 1]</td>\n    </tr>\n    <tr>\n      <th>115</th>\n      <td>AMT_REQ_CREDIT_BUREAU_HOUR</td>\n      <td>float64</td>\n      <td>41519</td>\n      <td>13.50</td>\n      <td>5</td>\n      <td>[0.0, nan, 1.0, 2.0, 3.0]</td>\n    </tr>\n    <tr>\n      <th>116</th>\n      <td>AMT_REQ_CREDIT_BUREAU_DAY</td>\n      <td>float64</td>\n      <td>41519</td>\n      <td>13.50</td>\n      <td>9</td>\n      <td>[0.0, nan, 1.0, 3.0, 2.0]</td>\n    </tr>\n    <tr>\n      <th>117</th>\n      <td>AMT_REQ_CREDIT_BUREAU_WEEK</td>\n      <td>float64</td>\n      <td>41519</td>\n      <td>13.50</td>\n      <td>9</td>\n      <td>[0.0, nan, 1.0, 3.0, 2.0]</td>\n    </tr>\n    <tr>\n      <th>118</th>\n      <td>AMT_REQ_CREDIT_BUREAU_MON</td>\n      <td>float64</td>\n      <td>41519</td>\n      <td>13.50</td>\n      <td>24</td>\n      <td>[0.0, nan, 1.0, 2.0, 6.0]</td>\n    </tr>\n    <tr>\n      <th>119</th>\n      <td>AMT_REQ_CREDIT_BUREAU_QRT</td>\n      <td>float64</td>\n      <td>41519</td>\n      <td>13.50</td>\n      <td>11</td>\n      <td>[0.0, nan, 1.0, 2.0, 4.0]</td>\n    </tr>\n    <tr>\n      <th>120</th>\n      <td>AMT_REQ_CREDIT_BUREAU_YEAR</td>\n      <td>float64</td>\n      <td>41519</td>\n      <td>13.50</td>\n      <td>25</td>\n      <td>[1.0, 0.0, nan, 2.0, 4.0]</td>\n    </tr>\n    <tr>\n      <th>121</th>\n      <td>Active_CBC</td>\n      <td>float64</td>\n      <td>44020</td>\n      <td>14.31</td>\n      <td>23</td>\n      <td>[2.0, 1.0, 0.0, nan, 4.0]</td>\n    </tr>\n    <tr>\n      <th>122</th>\n      <td>Bad debt_CBC</td>\n      <td>float64</td>\n      <td>44020</td>\n      <td>14.31</td>\n      <td>2</td>\n      <td>[0.0, nan, 1.0]</td>\n    </tr>\n    <tr>\n      <th>123</th>\n      <td>Closed_CBC</td>\n      <td>float64</td>\n      <td>44020</td>\n      <td>14.31</td>\n      <td>54</td>\n      <td>[6.0, 3.0, 2.0, nan, 1.0]</td>\n    </tr>\n    <tr>\n      <th>124</th>\n      <td>Sold_CBC</td>\n      <td>float64</td>\n      <td>44020</td>\n      <td>14.31</td>\n      <td>8</td>\n      <td>[0.0, nan, 1.0, 4.0, 2.0]</td>\n    </tr>\n    <tr>\n      <th>125</th>\n      <td>CREDIT_DAY_OVERDUE</td>\n      <td>float64</td>\n      <td>44020</td>\n      <td>14.31</td>\n      <td>879</td>\n      <td>[0.0, nan, 55.0, 1272.0, 161.0]</td>\n    </tr>\n    <tr>\n      <th>126</th>\n      <td>AMT_CREDIT_SUM_DEBT</td>\n      <td>float64</td>\n      <td>44020</td>\n      <td>14.31</td>\n      <td>155001</td>\n      <td>[245781.0, 0.0, nan, 240057.0, 1077349.5]</td>\n    </tr>\n    <tr>\n      <th>127</th>\n      <td>Approved_PA</td>\n      <td>float64</td>\n      <td>16454</td>\n      <td>5.35</td>\n      <td>26</td>\n      <td>[1.0, 3.0, 5.0, 6.0, 4.0]</td>\n    </tr>\n    <tr>\n      <th>128</th>\n      <td>Canceled_PA</td>\n      <td>float64</td>\n      <td>16454</td>\n      <td>5.35</td>\n      <td>39</td>\n      <td>[0.0, 3.0, 1.0, nan, 6.0]</td>\n    </tr>\n    <tr>\n      <th>129</th>\n      <td>Refused_PA</td>\n      <td>float64</td>\n      <td>16454</td>\n      <td>5.35</td>\n      <td>46</td>\n      <td>[0.0, 1.0, nan, 10.0, 8.0]</td>\n    </tr>\n    <tr>\n      <th>130</th>\n      <td>Unused offer_PA</td>\n      <td>float64</td>\n      <td>16454</td>\n      <td>5.35</td>\n      <td>11</td>\n      <td>[0.0, nan, 1.0, 3.0, 2.0]</td>\n    </tr>\n    <tr>\n      <th>131</th>\n      <td>New_PA</td>\n      <td>float64</td>\n      <td>16454</td>\n      <td>5.35</td>\n      <td>18</td>\n      <td>[1.0, 0.0, nan, 2.0, 3.0]</td>\n    </tr>\n    <tr>\n      <th>132</th>\n      <td>Refreshed_PA</td>\n      <td>float64</td>\n      <td>16454</td>\n      <td>5.35</td>\n      <td>24</td>\n      <td>[0.0, 2.0, 1.0, nan, 6.0]</td>\n    </tr>\n    <tr>\n      <th>133</th>\n      <td>Repeater_PA</td>\n      <td>float64</td>\n      <td>16454</td>\n      <td>5.35</td>\n      <td>64</td>\n      <td>[0.0, 1.0, 8.0, 5.0, 3.0]</td>\n    </tr>\n    <tr>\n      <th>134</th>\n      <td>Active_PCB</td>\n      <td>float64</td>\n      <td>18067</td>\n      <td>5.88</td>\n      <td>212</td>\n      <td>[19.0, 26.0, 3.0, 18.0, 62.0]</td>\n    </tr>\n    <tr>\n      <th>135</th>\n      <td>Amortized debt_PCB</td>\n      <td>float64</td>\n      <td>18067</td>\n      <td>5.88</td>\n      <td>9</td>\n      <td>[0.0, nan, 40.0, 11.0, 49.0]</td>\n    </tr>\n    <tr>\n      <th>136</th>\n      <td>Approved_PCB</td>\n      <td>float64</td>\n      <td>18067</td>\n      <td>5.88</td>\n      <td>12</td>\n      <td>[0.0, nan, 1.0, 3.0, 2.0]</td>\n    </tr>\n    <tr>\n      <th>137</th>\n      <td>Canceled_PCB</td>\n      <td>float64</td>\n      <td>18067</td>\n      <td>5.88</td>\n      <td>2</td>\n      <td>[0.0, nan, 1.0]</td>\n    </tr>\n    <tr>\n      <th>138</th>\n      <td>Completed_PCB</td>\n      <td>float64</td>\n      <td>18067</td>\n      <td>5.88</td>\n      <td>47</td>\n      <td>[0.0, 2.0, 1.0, 3.0, 4.0]</td>\n    </tr>\n    <tr>\n      <th>139</th>\n      <td>Demand_PCB</td>\n      <td>float64</td>\n      <td>18067</td>\n      <td>5.88</td>\n      <td>53</td>\n      <td>[0.0, nan, 2.0, 27.0, 64.0]</td>\n    </tr>\n    <tr>\n      <th>140</th>\n      <td>Returned to the store_PCB</td>\n      <td>float64</td>\n      <td>18067</td>\n      <td>5.88</td>\n      <td>5</td>\n      <td>[0.0, 1.0, nan, 2.0, 3.0]</td>\n    </tr>\n    <tr>\n      <th>141</th>\n      <td>Signed_PCB</td>\n      <td>float64</td>\n      <td>18067</td>\n      <td>5.88</td>\n      <td>32</td>\n      <td>[0.0, 1.0, nan, 4.0, 6.0]</td>\n    </tr>\n    <tr>\n      <th>142</th>\n      <td>SK_DPD_PCB</td>\n      <td>float64</td>\n      <td>18067</td>\n      <td>5.88</td>\n      <td>3708</td>\n      <td>[0.0, 28142.0, 15425.0, 13.0, nan]</td>\n    </tr>\n    <tr>\n      <th>143</th>\n      <td>CNT_INSTALMENT_FUTURE</td>\n      <td>float64</td>\n      <td>18067</td>\n      <td>5.88</td>\n      <td>2892</td>\n      <td>[285.0, 162.0, 9.0, 173.0, 592.0]</td>\n    </tr>\n  </tbody>\n</table>\n</div>"
     },
     "metadata": {},
     "execution_count": 11
    }
   ],
   "source": [
    "pd.set_option('display.max_rows',145)\n",
    "list_item=[]\n",
    "for col in data_train.columns:\n",
    "    list_item.append([col,data_train[col].dtype,data_train[col].isna().sum(),round((data_train[col].isna().sum()/len(data_train[col])*100),2),data_train[col].nunique(), list(data_train[col].unique()[:5])])\n",
    "dfDesc_dt=pd.DataFrame(list_item,columns='feature dtype null null% unique uniquesample'.split())\n",
    "dfDesc_dt"
   ]
  },
  {
   "cell_type": "code",
   "execution_count": 12,
   "metadata": {},
   "outputs": [
    {
     "output_type": "execute_result",
     "data": {
      "text/plain": [
       "EXT_SOURCE_3                   -0.178919\n",
       "EXT_SOURCE_2                   -0.160472\n",
       "EXT_SOURCE_1                   -0.155317\n",
       "DAYS_EMPLOYED                  -0.044932\n",
       "FLOORSMAX_AVG                  -0.044003\n",
       "FLOORSMAX_MEDI                 -0.043768\n",
       "FLOORSMAX_MODE                 -0.043226\n",
       "AMT_GOODS_PRICE                -0.039645\n",
       "REGION_POPULATION_RELATIVE     -0.037227\n",
       "Active_PCB                     -0.035866\n",
       "ELEVATORS_AVG                  -0.034199\n",
       "ELEVATORS_MEDI                 -0.033863\n",
       "FLOORSMIN_AVG                  -0.033614\n",
       "FLOORSMIN_MEDI                 -0.033394\n",
       "LIVINGAREA_AVG                 -0.032997\n",
       "LIVINGAREA_MEDI                -0.032739\n",
       "FLOORSMIN_MODE                 -0.032698\n",
       "TOTALAREA_MODE                 -0.032596\n",
       "ELEVATORS_MODE                 -0.032131\n",
       "Approved_PA                    -0.031553\n",
       "Closed_CBC                     -0.030812\n",
       "LIVINGAREA_MODE                -0.030685\n",
       "AMT_CREDIT                     -0.030369\n",
       "APARTMENTS_AVG                 -0.029498\n",
       "APARTMENTS_MEDI                -0.029184\n",
       "FLAG_DOCUMENT_6                -0.028602\n",
       "APARTMENTS_MODE                -0.027284\n",
       "LIVINGAPARTMENTS_AVG           -0.025031\n",
       "LIVINGAPARTMENTS_MEDI          -0.024621\n",
       "HOUR_APPR_PROCESS_START        -0.024166\n",
       "FLAG_PHONE                     -0.023806\n",
       "LIVINGAPARTMENTS_MODE          -0.023393\n",
       "BASEMENTAREA_AVG               -0.022746\n",
       "YEARS_BUILD_MEDI               -0.022326\n",
       "YEARS_BUILD_AVG                -0.022149\n",
       "BASEMENTAREA_MEDI              -0.022081\n",
       "YEARS_BUILD_MODE               -0.022068\n",
       "BASEMENTAREA_MODE              -0.019952\n",
       "Completed_PCB                  -0.019547\n",
       "ENTRANCES_AVG                  -0.019172\n",
       "ENTRANCES_MEDI                 -0.019025\n",
       "COMMONAREA_MEDI                -0.018573\n",
       "COMMONAREA_AVG                 -0.018550\n",
       "ENTRANCES_MODE                 -0.017387\n",
       "COMMONAREA_MODE                -0.016340\n",
       "Refreshed_PA                   -0.014140\n",
       "NONLIVINGAREA_AVG              -0.013578\n",
       "NONLIVINGAREA_MEDI             -0.013337\n",
       "AMT_ANNUITY                    -0.012817\n",
       "NONLIVINGAREA_MODE             -0.012711\n",
       "AMT_REQ_CREDIT_BUREAU_MON      -0.012462\n",
       "FLAG_DOCUMENT_16               -0.011615\n",
       "FLAG_DOCUMENT_13               -0.011583\n",
       "LANDAREA_MEDI                  -0.011256\n",
       "LANDAREA_AVG                   -0.010885\n",
       "LANDAREA_MODE                  -0.010174\n",
       "YEARS_BEGINEXPLUATATION_MEDI   -0.009993\n",
       "YEARS_BEGINEXPLUATATION_AVG    -0.009728\n",
       "FLAG_DOCUMENT_14               -0.009464\n",
       "YEARS_BEGINEXPLUATATION_MODE   -0.009036\n",
       "FLAG_DOCUMENT_8                -0.008040\n",
       "FLAG_DOCUMENT_18               -0.007952\n",
       "FLAG_DOCUMENT_15               -0.006536\n",
       "CNT_INSTALMENT_FUTURE          -0.005881\n",
       "Signed_PCB                     -0.004421\n",
       "FLAG_DOCUMENT_9                -0.004352\n",
       "FLAG_DOCUMENT_11               -0.004229\n",
       "AMT_INCOME_TOTAL               -0.003982\n",
       "FLAG_DOCUMENT_17               -0.003378\n",
       "NONLIVINGAPARTMENTS_AVG        -0.003176\n",
       "NONLIVINGAPARTMENTS_MEDI       -0.002757\n",
       "FLAG_DOCUMENT_4                -0.002672\n",
       "Approved_PCB                   -0.002044\n",
       "AMT_REQ_CREDIT_BUREAU_QRT      -0.002022\n",
       "FLAG_EMAIL                     -0.001758\n",
       "NONLIVINGAPARTMENTS_MODE       -0.001557\n",
       "FLAG_DOCUMENT_7                -0.001520\n",
       "FLAG_DOCUMENT_10               -0.001414\n",
       "FLAG_DOCUMENT_19               -0.001358\n",
       "FLAG_DOCUMENT_12               -0.000756\n",
       "FLAG_DOCUMENT_5                -0.000316\n",
       "FLAG_DOCUMENT_20                0.000215\n",
       "FLAG_CONT_MOBILE                0.000370\n",
       "Unused offer_PA                 0.000517\n",
       "FLAG_MOBIL                      0.000534\n",
       "AMT_REQ_CREDIT_BUREAU_WEEK      0.000788\n",
       "AMT_REQ_CREDIT_BUREAU_HOUR      0.000930\n",
       "Canceled_PCB                    0.002001\n",
       "AMT_REQ_CREDIT_BUREAU_DAY       0.002704\n",
       "LIVE_REGION_NOT_WORK_REGION     0.002819\n",
       "FLAG_DOCUMENT_21                0.003709\n",
       "Demand_PCB                      0.003753\n",
       "Bad debt_CBC                    0.004003\n",
       "SK_DPD_PCB                      0.004740\n",
       "FLAG_DOCUMENT_2                 0.005417\n",
       "Amortized debt_PCB              0.005526\n",
       "REG_REGION_NOT_LIVE_REGION      0.005576\n",
       "CREDIT_DAY_OVERDUE              0.006298\n",
       "REG_REGION_NOT_WORK_REGION      0.006942\n",
       "AMT_CREDIT_SUM_DEBT             0.007144\n",
       "OBS_60_CNT_SOCIAL_CIRCLE        0.009022\n",
       "Returned to the store_PCB       0.009103\n",
       "OBS_30_CNT_SOCIAL_CIRCLE        0.009131\n",
       "CNT_FAM_MEMBERS                 0.009308\n",
       "Sold_CBC                        0.012058\n",
       "Repeater_PA                     0.016274\n",
       "Canceled_PA                     0.019031\n",
       "CNT_CHILDREN                    0.019187\n",
       "AMT_REQ_CREDIT_BUREAU_YEAR      0.019930\n",
       "FLAG_WORK_PHONE                 0.028524\n",
       "DEF_60_CNT_SOCIAL_CIRCLE        0.031276\n",
       "DEF_30_CNT_SOCIAL_CIRCLE        0.032248\n",
       "LIVE_CITY_NOT_WORK_CITY         0.032518\n",
       "OWN_CAR_AGE                     0.037612\n",
       "DAYS_REGISTRATION               0.041975\n",
       "FLAG_DOCUMENT_3                 0.044346\n",
       "REG_CITY_NOT_LIVE_CITY          0.044395\n",
       "FLAG_EMP_PHONE                  0.045982\n",
       "New_PA                          0.046048\n",
       "REG_CITY_NOT_WORK_CITY          0.050994\n",
       "DAYS_ID_PUBLISH                 0.051457\n",
       "DAYS_LAST_PHONE_CHANGE          0.055218\n",
       "REGION_RATING_CLIENT            0.058899\n",
       "REGION_RATING_CLIENT_W_CITY     0.060893\n",
       "Refused_PA                      0.064469\n",
       "Active_CBC                      0.067128\n",
       "DAYS_BIRTH                      0.078239\n",
       "TARGET                          1.000000\n",
       "Name: TARGET, dtype: float64"
      ]
     },
     "metadata": {},
     "execution_count": 12
    }
   ],
   "source": [
    "data_train.corr()['TARGET'].sort_values()"
   ]
  },
  {
   "cell_type": "markdown",
   "metadata": {},
   "source": [
    "## 1. FEATURE SELECTION & ENGINERING\n",
    "\n",
    "Langkah selanjutnya adalah menentukan fitur dengan menganalisa korelasi antara semua fitur dengan fitur target\n",
    "\n",
    "## Target FEATURE (Y)\n",
    "fitur yang dilabeli sebagai target adalah TARGET yang terdapat pada data_train. dimana kolom ini menjelaskan bahwa peminjam kesulitan untuk membayar pinjaman\n",
    "\n",
    "## Train FEATURE (X)\n",
    "dalam mengukur risk berdasarkan manajemen resiko terdapat pedoman 5C antara lain:\n",
    "\n",
    "dataset data_train memiliki informasi karakteristik pinjaman antara lain seperti:\n",
    "\n",
    "- NAME_CONTRACT_TYPE as tipe pinjaman\n",
    "- CODE_GENDER as jenis kelamin\n",
    "- FLAG_OWN_CAR as apakah peminjam memiliki mobil\n",
    "- FLAG_OWN_REALTY as apakah peminjam memiliki aset tidak bergerak\n",
    "- CNT_CHILDREN as jumlah anak\n",
    "- AMT_CREDIT as jumlah utang pinjaman\n",
    "- AMT_ANNUITY as jumlah cicilan\n",
    "- AMT_GOOD_PRICE as harga barang\n",
    "- NAME_TYPE_SUITE as adakah yang menemani\n",
    "- NAME_INCOME_TYPE as tipe pemasukan peminjam\n",
    "- NAME_EDUCATION_TYPE as tingkat pendidikan peminjam\n",
    "- NAME_FAMILY_STATUS as status keluarga (nikah, cerai, single)\n",
    "- NAME_HOUSING_TYPE as tipe tempat tinggal\n",
    "- DAYS_EMPLOYED as jumlah hari kerja\n",
    "- OWN_CAR_AGE as umur kepemilikan mobil\n",
    "- FLAG_CONT_MOBILE as apakah nomer HP bisa dihubungi\n",
    "- OCCUPATION_TYPE as tipe pekerjaan\n",
    "- CNT_FAM_MEMBERS as jumlah anggota keluarga\n",
    "- ORGANIZATION_TYPE as tempat orang bekerja"
   ]
  },
  {
   "cell_type": "code",
   "execution_count": 6,
   "metadata": {},
   "outputs": [],
   "source": [
    "data_dump=data_train.drop(columns=data_train.columns[43:143],axis=1)"
   ]
  },
  {
   "source": [
    "### Feature Enginering\n",
    "\n",
    "for simplify days_birth will be convert to age and days_employed will be convert into age_employed"
   ],
   "cell_type": "markdown",
   "metadata": {}
  },
  {
   "cell_type": "code",
   "execution_count": 7,
   "metadata": {},
   "outputs": [],
   "source": [
    "from math import ceil,floor\n",
    "data_dump['AGE']=data_dump['DAYS_BIRTH'].apply(lambda x:np.abs(ceil(x/365)) if x/365<1 else np.abs(floor(x/365)))\n",
    "data_dump['YEARS_EMPLOYED']=data_dump['DAYS_EMPLOYED'].apply(lambda x:np.abs(ceil(x/365)) if x/365<1 else np.abs(floor(x/365)))\n",
    "data_dump['YEARS_ID']=data_dump['DAYS_ID_PUBLISH'].apply(lambda x:np.abs(ceil(x/365)) if x/365<1 else np.abs(floor(x/365)))\n",
    "data_dump['YEARS_ID_CHANGE']=data_dump['DAYS_REGISTRATION'].apply(lambda x:np.abs(ceil(x/365)) if x/365<1 else np.abs(floor(x/365)))\n",
    "data_dump.drop(['DAYS_BIRTH','DAYS_EMPLOYED','DAYS_ID_PUBLISH','DAYS_REGISTRATION'],axis=1,inplace=True)"
   ]
  },
  {
   "source": [
    "Insert feature needed but dropped"
   ],
   "cell_type": "markdown",
   "metadata": {}
  },
  {
   "cell_type": "code",
   "execution_count": 8,
   "metadata": {},
   "outputs": [],
   "source": [
    "l_need=['Active_CBC','Refused_PA','REGION_RATING_CLIENT_W_CITY','REGION_RATING_CLIENT','DAYS_LAST_PHONE_CHANGE','REG_CITY_NOT_WORK_CITY','New_PA','FLAG_EMP_PHONE','REG_CITY_NOT_LIVE_CITY','FLAG_DOCUMENT_3','OWN_CAR_AGE','LIVE_CITY_NOT_WORK_CITY','FLAG_WORK_PHONE','CNT_CHILDREN','Canceled_PA','CNT_FAM_MEMBERS','FLAG_DOCUMENT_2','CNT_FAM_MEMBERS','Active_PCB','Approved_PA','FLAG_DOCUMENT_6','FLAG_PHONE','Completed_PCB']\n",
    "for i in l_need:\n",
    "    if i not in data_dump.columns:\n",
    "        data_dump[i]=data_train[i]"
   ]
  },
  {
   "source": [
    "show the last structure of feature"
   ],
   "cell_type": "markdown",
   "metadata": {}
  },
  {
   "cell_type": "code",
   "execution_count": 9,
   "metadata": {},
   "outputs": [],
   "source": [
    "pd.set_option('display.max_rows',100)"
   ]
  },
  {
   "cell_type": "code",
   "execution_count": 10,
   "metadata": {},
   "outputs": [
    {
     "output_type": "execute_result",
     "data": {
      "text/plain": [
       "                        feature    dtype    null  null%  unique  \\\n",
       "0                        TARGET    int64       0   0.00       2   \n",
       "1            NAME_CONTRACT_TYPE   object       0   0.00       2   \n",
       "2                   CODE_GENDER   object       0   0.00       3   \n",
       "3                  FLAG_OWN_CAR   object       0   0.00       2   \n",
       "4               FLAG_OWN_REALTY   object       0   0.00       2   \n",
       "5                  CNT_CHILDREN    int64       0   0.00      15   \n",
       "6              AMT_INCOME_TOTAL  float64       0   0.00    2548   \n",
       "7                    AMT_CREDIT  float64       0   0.00    5603   \n",
       "8                   AMT_ANNUITY  float64      12   0.00   13672   \n",
       "9               AMT_GOODS_PRICE  float64     278   0.09    1002   \n",
       "10              NAME_TYPE_SUITE   object    1292   0.42       7   \n",
       "11             NAME_INCOME_TYPE   object       0   0.00       8   \n",
       "12          NAME_EDUCATION_TYPE   object       0   0.00       5   \n",
       "13           NAME_FAMILY_STATUS   object       0   0.00       6   \n",
       "14            NAME_HOUSING_TYPE   object       0   0.00       6   \n",
       "15   REGION_POPULATION_RELATIVE  float64       0   0.00      81   \n",
       "16                  OWN_CAR_AGE  float64  202929  65.99      62   \n",
       "17                   FLAG_MOBIL    int64       0   0.00       2   \n",
       "18               FLAG_EMP_PHONE    int64       0   0.00       2   \n",
       "19              FLAG_WORK_PHONE    int64       0   0.00       2   \n",
       "20             FLAG_CONT_MOBILE    int64       0   0.00       2   \n",
       "21                   FLAG_PHONE    int64       0   0.00       2   \n",
       "22                   FLAG_EMAIL    int64       0   0.00       2   \n",
       "23              OCCUPATION_TYPE   object       0   0.00      11   \n",
       "24              CNT_FAM_MEMBERS  float64       2   0.00      17   \n",
       "25         REGION_RATING_CLIENT    int64       0   0.00       3   \n",
       "26  REGION_RATING_CLIENT_W_CITY    int64       0   0.00       3   \n",
       "27   WEEKDAY_APPR_PROCESS_START   object       0   0.00       7   \n",
       "28      HOUR_APPR_PROCESS_START    int64       0   0.00      24   \n",
       "29   REG_REGION_NOT_LIVE_REGION    int64       0   0.00       2   \n",
       "30   REG_REGION_NOT_WORK_REGION    int64       0   0.00       2   \n",
       "31  LIVE_REGION_NOT_WORK_REGION    int64       0   0.00       2   \n",
       "32       REG_CITY_NOT_LIVE_CITY    int64       0   0.00       2   \n",
       "33       REG_CITY_NOT_WORK_CITY    int64       0   0.00       2   \n",
       "34      LIVE_CITY_NOT_WORK_CITY    int64       0   0.00       2   \n",
       "35            ORGANIZATION_TYPE   object       0   0.00      11   \n",
       "36                 EXT_SOURCE_1  float64  173378  56.38  114584   \n",
       "37                 EXT_SOURCE_2  float64     660   0.21  119831   \n",
       "38                 EXT_SOURCE_3  float64   60965  19.83     814   \n",
       "39        CNT_INSTALMENT_FUTURE  float64   18067   5.88    2892   \n",
       "40                          AGE    int64       0   0.00      50   \n",
       "41               YEARS_EMPLOYED    int64       0   0.00      51   \n",
       "42                     YEARS_ID    int64       0   0.00      19   \n",
       "43              YEARS_ID_CHANGE    int64       0   0.00      66   \n",
       "44                   Active_CBC  float64   44020  14.31      23   \n",
       "45                   Refused_PA  float64   16454   5.35      46   \n",
       "46       DAYS_LAST_PHONE_CHANGE  float64       1   0.00    3773   \n",
       "47                       New_PA  float64   16454   5.35      18   \n",
       "48              FLAG_DOCUMENT_3    int64       0   0.00       2   \n",
       "49                  Canceled_PA  float64   16454   5.35      39   \n",
       "50              FLAG_DOCUMENT_2    int64       0   0.00       2   \n",
       "51                   Active_PCB  float64   18067   5.88     212   \n",
       "52                  Approved_PA  float64   16454   5.35      26   \n",
       "53              FLAG_DOCUMENT_6    int64       0   0.00       2   \n",
       "54                Completed_PCB  float64   18067   5.88      47   \n",
       "\n",
       "                                         uniquesample  \n",
       "0                                              [1, 0]  \n",
       "1                       [Cash loans, Revolving loans]  \n",
       "2                                         [M, F, XNA]  \n",
       "3                                              [N, Y]  \n",
       "4                                              [Y, N]  \n",
       "5                                     [0, 1, 2, 3, 4]  \n",
       "6   [202500.0, 270000.0, 67500.0, 135000.0, 121500.0]  \n",
       "7   [406597.5, 1293502.5, 135000.0, 312682.5, 5130...  \n",
       "8        [24700.5, 35698.5, 6750.0, 29686.5, 21865.5]  \n",
       "9   [351000.0, 1129500.0, 135000.0, 297000.0, 5130...  \n",
       "10  [Unaccompanied, Family, Spouse, partner, Child...  \n",
       "11  [Working, State servant, Commercial associate,...  \n",
       "12  [Secondary / secondary special, Higher educati...  \n",
       "13  [Single / not married, Married, Civil marriage...  \n",
       "14  [House / apartment, Rented apartment, With par...  \n",
       "15  [0.018801, 0.003540999999999999, 0.010032, 0.0...  \n",
       "16                       [nan, 26.0, 17.0, 8.0, 23.0]  \n",
       "17                                             [1, 0]  \n",
       "18                                             [1, 0]  \n",
       "19                                             [0, 1]  \n",
       "20                                             [1, 0]  \n",
       "21                                             [1, 0]  \n",
       "22                                             [0, 1]  \n",
       "23  [Laborers, Core staff, Accountants, Managers, ...  \n",
       "24                          [1.0, 2.0, 3.0, 4.0, 5.0]  \n",
       "25                                          [2, 1, 3]  \n",
       "26                                          [2, 1, 3]  \n",
       "27    [WEDNESDAY, MONDAY, THURSDAY, SUNDAY, SATURDAY]  \n",
       "28                                [10, 11, 9, 17, 16]  \n",
       "29                                             [0, 1]  \n",
       "30                                             [0, 1]  \n",
       "31                                             [0, 1]  \n",
       "32                                             [0, 1]  \n",
       "33                                             [0, 1]  \n",
       "34                                             [0, 1]  \n",
       "35  [Business Entity Type 3, School, Government, O...  \n",
       "36  [0.08303696739132256, 0.3112673113812225, nan,...  \n",
       "37  [0.2629485927471776, 0.6222457752555098, 0.555...  \n",
       "38  [0.13937578009978951, nan, 0.7295666907060153,...  \n",
       "39                  [285.0, 162.0, 9.0, 173.0, 592.0]  \n",
       "40                               [25, 45, 52, 54, 46]  \n",
       "41                                    [1, 3, 0, 8, 4]  \n",
       "42                                    [5, 0, 6, 9, 1]  \n",
       "43                                 [9, 3, 11, 26, 13]  \n",
       "44                          [2.0, 1.0, 0.0, nan, 4.0]  \n",
       "45                         [0.0, 1.0, nan, 10.0, 8.0]  \n",
       "46         [-1134.0, -828.0, -815.0, -617.0, -1106.0]  \n",
       "47                          [1.0, 0.0, nan, 2.0, 3.0]  \n",
       "48                                             [1, 0]  \n",
       "49                          [0.0, 3.0, 1.0, nan, 6.0]  \n",
       "50                                             [0, 1]  \n",
       "51                      [19.0, 26.0, 3.0, 18.0, 62.0]  \n",
       "52                          [1.0, 3.0, 5.0, 6.0, 4.0]  \n",
       "53                                             [0, 1]  \n",
       "54                          [0.0, 2.0, 1.0, 3.0, 4.0]  "
      ],
      "text/html": "<div>\n<style scoped>\n    .dataframe tbody tr th:only-of-type {\n        vertical-align: middle;\n    }\n\n    .dataframe tbody tr th {\n        vertical-align: top;\n    }\n\n    .dataframe thead th {\n        text-align: right;\n    }\n</style>\n<table border=\"1\" class=\"dataframe\">\n  <thead>\n    <tr style=\"text-align: right;\">\n      <th></th>\n      <th>feature</th>\n      <th>dtype</th>\n      <th>null</th>\n      <th>null%</th>\n      <th>unique</th>\n      <th>uniquesample</th>\n    </tr>\n  </thead>\n  <tbody>\n    <tr>\n      <th>0</th>\n      <td>TARGET</td>\n      <td>int64</td>\n      <td>0</td>\n      <td>0.00</td>\n      <td>2</td>\n      <td>[1, 0]</td>\n    </tr>\n    <tr>\n      <th>1</th>\n      <td>NAME_CONTRACT_TYPE</td>\n      <td>object</td>\n      <td>0</td>\n      <td>0.00</td>\n      <td>2</td>\n      <td>[Cash loans, Revolving loans]</td>\n    </tr>\n    <tr>\n      <th>2</th>\n      <td>CODE_GENDER</td>\n      <td>object</td>\n      <td>0</td>\n      <td>0.00</td>\n      <td>3</td>\n      <td>[M, F, XNA]</td>\n    </tr>\n    <tr>\n      <th>3</th>\n      <td>FLAG_OWN_CAR</td>\n      <td>object</td>\n      <td>0</td>\n      <td>0.00</td>\n      <td>2</td>\n      <td>[N, Y]</td>\n    </tr>\n    <tr>\n      <th>4</th>\n      <td>FLAG_OWN_REALTY</td>\n      <td>object</td>\n      <td>0</td>\n      <td>0.00</td>\n      <td>2</td>\n      <td>[Y, N]</td>\n    </tr>\n    <tr>\n      <th>5</th>\n      <td>CNT_CHILDREN</td>\n      <td>int64</td>\n      <td>0</td>\n      <td>0.00</td>\n      <td>15</td>\n      <td>[0, 1, 2, 3, 4]</td>\n    </tr>\n    <tr>\n      <th>6</th>\n      <td>AMT_INCOME_TOTAL</td>\n      <td>float64</td>\n      <td>0</td>\n      <td>0.00</td>\n      <td>2548</td>\n      <td>[202500.0, 270000.0, 67500.0, 135000.0, 121500.0]</td>\n    </tr>\n    <tr>\n      <th>7</th>\n      <td>AMT_CREDIT</td>\n      <td>float64</td>\n      <td>0</td>\n      <td>0.00</td>\n      <td>5603</td>\n      <td>[406597.5, 1293502.5, 135000.0, 312682.5, 5130...</td>\n    </tr>\n    <tr>\n      <th>8</th>\n      <td>AMT_ANNUITY</td>\n      <td>float64</td>\n      <td>12</td>\n      <td>0.00</td>\n      <td>13672</td>\n      <td>[24700.5, 35698.5, 6750.0, 29686.5, 21865.5]</td>\n    </tr>\n    <tr>\n      <th>9</th>\n      <td>AMT_GOODS_PRICE</td>\n      <td>float64</td>\n      <td>278</td>\n      <td>0.09</td>\n      <td>1002</td>\n      <td>[351000.0, 1129500.0, 135000.0, 297000.0, 5130...</td>\n    </tr>\n    <tr>\n      <th>10</th>\n      <td>NAME_TYPE_SUITE</td>\n      <td>object</td>\n      <td>1292</td>\n      <td>0.42</td>\n      <td>7</td>\n      <td>[Unaccompanied, Family, Spouse, partner, Child...</td>\n    </tr>\n    <tr>\n      <th>11</th>\n      <td>NAME_INCOME_TYPE</td>\n      <td>object</td>\n      <td>0</td>\n      <td>0.00</td>\n      <td>8</td>\n      <td>[Working, State servant, Commercial associate,...</td>\n    </tr>\n    <tr>\n      <th>12</th>\n      <td>NAME_EDUCATION_TYPE</td>\n      <td>object</td>\n      <td>0</td>\n      <td>0.00</td>\n      <td>5</td>\n      <td>[Secondary / secondary special, Higher educati...</td>\n    </tr>\n    <tr>\n      <th>13</th>\n      <td>NAME_FAMILY_STATUS</td>\n      <td>object</td>\n      <td>0</td>\n      <td>0.00</td>\n      <td>6</td>\n      <td>[Single / not married, Married, Civil marriage...</td>\n    </tr>\n    <tr>\n      <th>14</th>\n      <td>NAME_HOUSING_TYPE</td>\n      <td>object</td>\n      <td>0</td>\n      <td>0.00</td>\n      <td>6</td>\n      <td>[House / apartment, Rented apartment, With par...</td>\n    </tr>\n    <tr>\n      <th>15</th>\n      <td>REGION_POPULATION_RELATIVE</td>\n      <td>float64</td>\n      <td>0</td>\n      <td>0.00</td>\n      <td>81</td>\n      <td>[0.018801, 0.003540999999999999, 0.010032, 0.0...</td>\n    </tr>\n    <tr>\n      <th>16</th>\n      <td>OWN_CAR_AGE</td>\n      <td>float64</td>\n      <td>202929</td>\n      <td>65.99</td>\n      <td>62</td>\n      <td>[nan, 26.0, 17.0, 8.0, 23.0]</td>\n    </tr>\n    <tr>\n      <th>17</th>\n      <td>FLAG_MOBIL</td>\n      <td>int64</td>\n      <td>0</td>\n      <td>0.00</td>\n      <td>2</td>\n      <td>[1, 0]</td>\n    </tr>\n    <tr>\n      <th>18</th>\n      <td>FLAG_EMP_PHONE</td>\n      <td>int64</td>\n      <td>0</td>\n      <td>0.00</td>\n      <td>2</td>\n      <td>[1, 0]</td>\n    </tr>\n    <tr>\n      <th>19</th>\n      <td>FLAG_WORK_PHONE</td>\n      <td>int64</td>\n      <td>0</td>\n      <td>0.00</td>\n      <td>2</td>\n      <td>[0, 1]</td>\n    </tr>\n    <tr>\n      <th>20</th>\n      <td>FLAG_CONT_MOBILE</td>\n      <td>int64</td>\n      <td>0</td>\n      <td>0.00</td>\n      <td>2</td>\n      <td>[1, 0]</td>\n    </tr>\n    <tr>\n      <th>21</th>\n      <td>FLAG_PHONE</td>\n      <td>int64</td>\n      <td>0</td>\n      <td>0.00</td>\n      <td>2</td>\n      <td>[1, 0]</td>\n    </tr>\n    <tr>\n      <th>22</th>\n      <td>FLAG_EMAIL</td>\n      <td>int64</td>\n      <td>0</td>\n      <td>0.00</td>\n      <td>2</td>\n      <td>[0, 1]</td>\n    </tr>\n    <tr>\n      <th>23</th>\n      <td>OCCUPATION_TYPE</td>\n      <td>object</td>\n      <td>0</td>\n      <td>0.00</td>\n      <td>11</td>\n      <td>[Laborers, Core staff, Accountants, Managers, ...</td>\n    </tr>\n    <tr>\n      <th>24</th>\n      <td>CNT_FAM_MEMBERS</td>\n      <td>float64</td>\n      <td>2</td>\n      <td>0.00</td>\n      <td>17</td>\n      <td>[1.0, 2.0, 3.0, 4.0, 5.0]</td>\n    </tr>\n    <tr>\n      <th>25</th>\n      <td>REGION_RATING_CLIENT</td>\n      <td>int64</td>\n      <td>0</td>\n      <td>0.00</td>\n      <td>3</td>\n      <td>[2, 1, 3]</td>\n    </tr>\n    <tr>\n      <th>26</th>\n      <td>REGION_RATING_CLIENT_W_CITY</td>\n      <td>int64</td>\n      <td>0</td>\n      <td>0.00</td>\n      <td>3</td>\n      <td>[2, 1, 3]</td>\n    </tr>\n    <tr>\n      <th>27</th>\n      <td>WEEKDAY_APPR_PROCESS_START</td>\n      <td>object</td>\n      <td>0</td>\n      <td>0.00</td>\n      <td>7</td>\n      <td>[WEDNESDAY, MONDAY, THURSDAY, SUNDAY, SATURDAY]</td>\n    </tr>\n    <tr>\n      <th>28</th>\n      <td>HOUR_APPR_PROCESS_START</td>\n      <td>int64</td>\n      <td>0</td>\n      <td>0.00</td>\n      <td>24</td>\n      <td>[10, 11, 9, 17, 16]</td>\n    </tr>\n    <tr>\n      <th>29</th>\n      <td>REG_REGION_NOT_LIVE_REGION</td>\n      <td>int64</td>\n      <td>0</td>\n      <td>0.00</td>\n      <td>2</td>\n      <td>[0, 1]</td>\n    </tr>\n    <tr>\n      <th>30</th>\n      <td>REG_REGION_NOT_WORK_REGION</td>\n      <td>int64</td>\n      <td>0</td>\n      <td>0.00</td>\n      <td>2</td>\n      <td>[0, 1]</td>\n    </tr>\n    <tr>\n      <th>31</th>\n      <td>LIVE_REGION_NOT_WORK_REGION</td>\n      <td>int64</td>\n      <td>0</td>\n      <td>0.00</td>\n      <td>2</td>\n      <td>[0, 1]</td>\n    </tr>\n    <tr>\n      <th>32</th>\n      <td>REG_CITY_NOT_LIVE_CITY</td>\n      <td>int64</td>\n      <td>0</td>\n      <td>0.00</td>\n      <td>2</td>\n      <td>[0, 1]</td>\n    </tr>\n    <tr>\n      <th>33</th>\n      <td>REG_CITY_NOT_WORK_CITY</td>\n      <td>int64</td>\n      <td>0</td>\n      <td>0.00</td>\n      <td>2</td>\n      <td>[0, 1]</td>\n    </tr>\n    <tr>\n      <th>34</th>\n      <td>LIVE_CITY_NOT_WORK_CITY</td>\n      <td>int64</td>\n      <td>0</td>\n      <td>0.00</td>\n      <td>2</td>\n      <td>[0, 1]</td>\n    </tr>\n    <tr>\n      <th>35</th>\n      <td>ORGANIZATION_TYPE</td>\n      <td>object</td>\n      <td>0</td>\n      <td>0.00</td>\n      <td>11</td>\n      <td>[Business Entity Type 3, School, Government, O...</td>\n    </tr>\n    <tr>\n      <th>36</th>\n      <td>EXT_SOURCE_1</td>\n      <td>float64</td>\n      <td>173378</td>\n      <td>56.38</td>\n      <td>114584</td>\n      <td>[0.08303696739132256, 0.3112673113812225, nan,...</td>\n    </tr>\n    <tr>\n      <th>37</th>\n      <td>EXT_SOURCE_2</td>\n      <td>float64</td>\n      <td>660</td>\n      <td>0.21</td>\n      <td>119831</td>\n      <td>[0.2629485927471776, 0.6222457752555098, 0.555...</td>\n    </tr>\n    <tr>\n      <th>38</th>\n      <td>EXT_SOURCE_3</td>\n      <td>float64</td>\n      <td>60965</td>\n      <td>19.83</td>\n      <td>814</td>\n      <td>[0.13937578009978951, nan, 0.7295666907060153,...</td>\n    </tr>\n    <tr>\n      <th>39</th>\n      <td>CNT_INSTALMENT_FUTURE</td>\n      <td>float64</td>\n      <td>18067</td>\n      <td>5.88</td>\n      <td>2892</td>\n      <td>[285.0, 162.0, 9.0, 173.0, 592.0]</td>\n    </tr>\n    <tr>\n      <th>40</th>\n      <td>AGE</td>\n      <td>int64</td>\n      <td>0</td>\n      <td>0.00</td>\n      <td>50</td>\n      <td>[25, 45, 52, 54, 46]</td>\n    </tr>\n    <tr>\n      <th>41</th>\n      <td>YEARS_EMPLOYED</td>\n      <td>int64</td>\n      <td>0</td>\n      <td>0.00</td>\n      <td>51</td>\n      <td>[1, 3, 0, 8, 4]</td>\n    </tr>\n    <tr>\n      <th>42</th>\n      <td>YEARS_ID</td>\n      <td>int64</td>\n      <td>0</td>\n      <td>0.00</td>\n      <td>19</td>\n      <td>[5, 0, 6, 9, 1]</td>\n    </tr>\n    <tr>\n      <th>43</th>\n      <td>YEARS_ID_CHANGE</td>\n      <td>int64</td>\n      <td>0</td>\n      <td>0.00</td>\n      <td>66</td>\n      <td>[9, 3, 11, 26, 13]</td>\n    </tr>\n    <tr>\n      <th>44</th>\n      <td>Active_CBC</td>\n      <td>float64</td>\n      <td>44020</td>\n      <td>14.31</td>\n      <td>23</td>\n      <td>[2.0, 1.0, 0.0, nan, 4.0]</td>\n    </tr>\n    <tr>\n      <th>45</th>\n      <td>Refused_PA</td>\n      <td>float64</td>\n      <td>16454</td>\n      <td>5.35</td>\n      <td>46</td>\n      <td>[0.0, 1.0, nan, 10.0, 8.0]</td>\n    </tr>\n    <tr>\n      <th>46</th>\n      <td>DAYS_LAST_PHONE_CHANGE</td>\n      <td>float64</td>\n      <td>1</td>\n      <td>0.00</td>\n      <td>3773</td>\n      <td>[-1134.0, -828.0, -815.0, -617.0, -1106.0]</td>\n    </tr>\n    <tr>\n      <th>47</th>\n      <td>New_PA</td>\n      <td>float64</td>\n      <td>16454</td>\n      <td>5.35</td>\n      <td>18</td>\n      <td>[1.0, 0.0, nan, 2.0, 3.0]</td>\n    </tr>\n    <tr>\n      <th>48</th>\n      <td>FLAG_DOCUMENT_3</td>\n      <td>int64</td>\n      <td>0</td>\n      <td>0.00</td>\n      <td>2</td>\n      <td>[1, 0]</td>\n    </tr>\n    <tr>\n      <th>49</th>\n      <td>Canceled_PA</td>\n      <td>float64</td>\n      <td>16454</td>\n      <td>5.35</td>\n      <td>39</td>\n      <td>[0.0, 3.0, 1.0, nan, 6.0]</td>\n    </tr>\n    <tr>\n      <th>50</th>\n      <td>FLAG_DOCUMENT_2</td>\n      <td>int64</td>\n      <td>0</td>\n      <td>0.00</td>\n      <td>2</td>\n      <td>[0, 1]</td>\n    </tr>\n    <tr>\n      <th>51</th>\n      <td>Active_PCB</td>\n      <td>float64</td>\n      <td>18067</td>\n      <td>5.88</td>\n      <td>212</td>\n      <td>[19.0, 26.0, 3.0, 18.0, 62.0]</td>\n    </tr>\n    <tr>\n      <th>52</th>\n      <td>Approved_PA</td>\n      <td>float64</td>\n      <td>16454</td>\n      <td>5.35</td>\n      <td>26</td>\n      <td>[1.0, 3.0, 5.0, 6.0, 4.0]</td>\n    </tr>\n    <tr>\n      <th>53</th>\n      <td>FLAG_DOCUMENT_6</td>\n      <td>int64</td>\n      <td>0</td>\n      <td>0.00</td>\n      <td>2</td>\n      <td>[0, 1]</td>\n    </tr>\n    <tr>\n      <th>54</th>\n      <td>Completed_PCB</td>\n      <td>float64</td>\n      <td>18067</td>\n      <td>5.88</td>\n      <td>47</td>\n      <td>[0.0, 2.0, 1.0, 3.0, 4.0]</td>\n    </tr>\n  </tbody>\n</table>\n</div>"
     },
     "metadata": {},
     "execution_count": 10
    }
   ],
   "source": [
    "list_item=[]\n",
    "for col in data_dump.columns:\n",
    "    list_item.append([col,data_dump[col].dtype,data_dump[col].isna().sum(),round((data_dump[col].isna().sum()/len(data_dump[col])*100),2),data_dump[col].nunique(), list(data_dump[col].unique()[:5])])\n",
    "dfDesc_dp=pd.DataFrame(list_item,columns='feature dtype null null% unique uniquesample'.split())\n",
    "dfDesc_dp"
   ]
  },
  {
   "source": [
    "Feature Enginering days feature into years"
   ],
   "cell_type": "markdown",
   "metadata": {}
  },
  {
   "cell_type": "code",
   "execution_count": 11,
   "metadata": {},
   "outputs": [],
   "source": [
    "data_dump['YEARS_LAST_PHONE_CHANGE']=data_dump['DAYS_LAST_PHONE_CHANGE'].dropna().apply(lambda x:np.abs(ceil(x/365)) if x/365<1 else np.abs(floor(x/365)))\n",
    "data_dump.drop('DAYS_LAST_PHONE_CHANGE',axis=1,inplace=True)"
   ]
  },
  {
   "source": [
    "Drop some feature"
   ],
   "cell_type": "markdown",
   "metadata": {}
  },
  {
   "cell_type": "code",
   "execution_count": 12,
   "metadata": {},
   "outputs": [],
   "source": [
    "data_dump.drop(columns=['FLAG_MOBIL', 'REG_REGION_NOT_LIVE_REGION','REG_REGION_NOT_WORK_REGION','LIVE_REGION_NOT_WORK_REGION','FLAG_EMAIL','WEEKDAY_APPR_PROCESS_START','HOUR_APPR_PROCESS_START'],axis=1,inplace=True)"
   ]
  },
  {
   "source": [
    "# Dealing with missing value"
   ],
   "cell_type": "markdown",
   "metadata": {}
  },
  {
   "cell_type": "code",
   "execution_count": 13,
   "metadata": {},
   "outputs": [
    {
     "output_type": "execute_result",
     "data": {
      "text/plain": [
       "                        feature    dtype    null  null%  unique  \\\n",
       "0                        TARGET    int64       0   0.00       2   \n",
       "1            NAME_CONTRACT_TYPE   object       0   0.00       2   \n",
       "2                   CODE_GENDER   object       0   0.00       3   \n",
       "3                  FLAG_OWN_CAR   object       0   0.00       2   \n",
       "4               FLAG_OWN_REALTY   object       0   0.00       2   \n",
       "5                  CNT_CHILDREN    int64       0   0.00      15   \n",
       "6              AMT_INCOME_TOTAL  float64       0   0.00    2548   \n",
       "7                    AMT_CREDIT  float64       0   0.00    5603   \n",
       "8                   AMT_ANNUITY  float64      12   0.00   13672   \n",
       "9               AMT_GOODS_PRICE  float64     278   0.09    1002   \n",
       "10              NAME_TYPE_SUITE   object    1292   0.42       7   \n",
       "11             NAME_INCOME_TYPE   object       0   0.00       8   \n",
       "12          NAME_EDUCATION_TYPE   object       0   0.00       5   \n",
       "13           NAME_FAMILY_STATUS   object       0   0.00       6   \n",
       "14            NAME_HOUSING_TYPE   object       0   0.00       6   \n",
       "15   REGION_POPULATION_RELATIVE  float64       0   0.00      81   \n",
       "16                  OWN_CAR_AGE  float64  202929  65.99      62   \n",
       "17               FLAG_EMP_PHONE    int64       0   0.00       2   \n",
       "18              FLAG_WORK_PHONE    int64       0   0.00       2   \n",
       "19             FLAG_CONT_MOBILE    int64       0   0.00       2   \n",
       "20                   FLAG_PHONE    int64       0   0.00       2   \n",
       "21              OCCUPATION_TYPE   object       0   0.00      11   \n",
       "22              CNT_FAM_MEMBERS  float64       2   0.00      17   \n",
       "23         REGION_RATING_CLIENT    int64       0   0.00       3   \n",
       "24  REGION_RATING_CLIENT_W_CITY    int64       0   0.00       3   \n",
       "25       REG_CITY_NOT_LIVE_CITY    int64       0   0.00       2   \n",
       "26       REG_CITY_NOT_WORK_CITY    int64       0   0.00       2   \n",
       "27      LIVE_CITY_NOT_WORK_CITY    int64       0   0.00       2   \n",
       "28            ORGANIZATION_TYPE   object       0   0.00      11   \n",
       "29                 EXT_SOURCE_1  float64  173378  56.38  114584   \n",
       "30                 EXT_SOURCE_2  float64     660   0.21  119831   \n",
       "31                 EXT_SOURCE_3  float64   60965  19.83     814   \n",
       "32        CNT_INSTALMENT_FUTURE  float64   18067   5.88    2892   \n",
       "33                          AGE    int64       0   0.00      50   \n",
       "34               YEARS_EMPLOYED    int64       0   0.00      51   \n",
       "35                     YEARS_ID    int64       0   0.00      19   \n",
       "36              YEARS_ID_CHANGE    int64       0   0.00      66   \n",
       "37                   Active_CBC  float64   44020  14.31      23   \n",
       "38                   Refused_PA  float64   16454   5.35      46   \n",
       "39                       New_PA  float64   16454   5.35      18   \n",
       "40              FLAG_DOCUMENT_3    int64       0   0.00       2   \n",
       "41                  Canceled_PA  float64   16454   5.35      39   \n",
       "42              FLAG_DOCUMENT_2    int64       0   0.00       2   \n",
       "43                   Active_PCB  float64   18067   5.88     212   \n",
       "44                  Approved_PA  float64   16454   5.35      26   \n",
       "45              FLAG_DOCUMENT_6    int64       0   0.00       2   \n",
       "46                Completed_PCB  float64   18067   5.88      47   \n",
       "47      YEARS_LAST_PHONE_CHANGE  float64       1   0.00      12   \n",
       "\n",
       "                                         uniquesample  \n",
       "0                                                 [0]  \n",
       "1                                        [Cash loans]  \n",
       "2                                              [M, F]  \n",
       "3                                              [N, Y]  \n",
       "4                                              [N, Y]  \n",
       "5                                           [0, 2, 1]  \n",
       "6    [42867.0, 63000.0, 103500.0, 153000.0, 135000.0]  \n",
       "7   [276813.0, 592560.0, 254700.0, 354276.0, 72846...  \n",
       "8         [17874.0, 38907.0, 6750.0, 17937.0, 6066.0]  \n",
       "9   [684000.0, 135000.0, 720000.0, 450000.0, 81000...  \n",
       "10                   [Family, Unaccompanied, Other_B]  \n",
       "11         [Commercial associate, Working, Pensioner]  \n",
       "12  [Secondary / secondary special, Higher education]  \n",
       "13  [Married, Separated, Single / not married, Widow]  \n",
       "14                  [House / apartment, With parents]  \n",
       "15    [0.030755, 0.006852, 0.018801, 0.04622, 0.0228]  \n",
       "16                              [1.0, nan, 11.0, 7.0]  \n",
       "17                                             [1, 0]  \n",
       "18                                             [0, 1]  \n",
       "19                                                [1]  \n",
       "20                                             [0, 1]  \n",
       "21          [Medicine staff, Core staff, Sales staff]  \n",
       "22                                         [2.0, 1.0]  \n",
       "23                                             [2, 3]  \n",
       "24                                             [1, 2]  \n",
       "25                                             [1, 0]  \n",
       "26                                                [0]  \n",
       "27                                             [0, 1]  \n",
       "28  [XNA, Transport: type 4, Other, Government, Me...  \n",
       "29      [nan, 0.4603679980188473, 0.5431908367458087]  \n",
       "30  [0.7742954870232435, 0.5359447432048026, 0.460...  \n",
       "31  [0.3876253444214701, 0.7338145369642702, 0.664...  \n",
       "32                  [1520.0, 113.0, 69.0, 15.0, 55.0]  \n",
       "33                               [30, 58, 25, 67, 46]  \n",
       "34                                    [2, 1000, 0, 3]  \n",
       "35                                 [11, 10, 1, 2, 12]  \n",
       "36                                    [23, 3, 15, 17]  \n",
       "37                               [3.0, nan, 2.0, 1.0]  \n",
       "38                                              [0.0]  \n",
       "39                                         [nan, 1.0]  \n",
       "40                                             [0, 1]  \n",
       "41                               [3.0, 0.0, 2.0, nan]  \n",
       "42                                                [0]  \n",
       "43                      [25.0, 58.0, 64.0, 20.0, 8.0]  \n",
       "44                                    [5.0, 1.0, 2.0]  \n",
       "45                                                [0]  \n",
       "46                               [4.0, 1.0, 2.0, 5.0]  \n",
       "47                               [1.0, 0.0, 8.0, 5.0]  "
      ],
      "text/html": "<div>\n<style scoped>\n    .dataframe tbody tr th:only-of-type {\n        vertical-align: middle;\n    }\n\n    .dataframe tbody tr th {\n        vertical-align: top;\n    }\n\n    .dataframe thead th {\n        text-align: right;\n    }\n</style>\n<table border=\"1\" class=\"dataframe\">\n  <thead>\n    <tr style=\"text-align: right;\">\n      <th></th>\n      <th>feature</th>\n      <th>dtype</th>\n      <th>null</th>\n      <th>null%</th>\n      <th>unique</th>\n      <th>uniquesample</th>\n    </tr>\n  </thead>\n  <tbody>\n    <tr>\n      <th>0</th>\n      <td>TARGET</td>\n      <td>int64</td>\n      <td>0</td>\n      <td>0.00</td>\n      <td>2</td>\n      <td>[0]</td>\n    </tr>\n    <tr>\n      <th>1</th>\n      <td>NAME_CONTRACT_TYPE</td>\n      <td>object</td>\n      <td>0</td>\n      <td>0.00</td>\n      <td>2</td>\n      <td>[Cash loans]</td>\n    </tr>\n    <tr>\n      <th>2</th>\n      <td>CODE_GENDER</td>\n      <td>object</td>\n      <td>0</td>\n      <td>0.00</td>\n      <td>3</td>\n      <td>[M, F]</td>\n    </tr>\n    <tr>\n      <th>3</th>\n      <td>FLAG_OWN_CAR</td>\n      <td>object</td>\n      <td>0</td>\n      <td>0.00</td>\n      <td>2</td>\n      <td>[N, Y]</td>\n    </tr>\n    <tr>\n      <th>4</th>\n      <td>FLAG_OWN_REALTY</td>\n      <td>object</td>\n      <td>0</td>\n      <td>0.00</td>\n      <td>2</td>\n      <td>[N, Y]</td>\n    </tr>\n    <tr>\n      <th>5</th>\n      <td>CNT_CHILDREN</td>\n      <td>int64</td>\n      <td>0</td>\n      <td>0.00</td>\n      <td>15</td>\n      <td>[0, 2, 1]</td>\n    </tr>\n    <tr>\n      <th>6</th>\n      <td>AMT_INCOME_TOTAL</td>\n      <td>float64</td>\n      <td>0</td>\n      <td>0.00</td>\n      <td>2548</td>\n      <td>[42867.0, 63000.0, 103500.0, 153000.0, 135000.0]</td>\n    </tr>\n    <tr>\n      <th>7</th>\n      <td>AMT_CREDIT</td>\n      <td>float64</td>\n      <td>0</td>\n      <td>0.00</td>\n      <td>5603</td>\n      <td>[276813.0, 592560.0, 254700.0, 354276.0, 72846...</td>\n    </tr>\n    <tr>\n      <th>8</th>\n      <td>AMT_ANNUITY</td>\n      <td>float64</td>\n      <td>12</td>\n      <td>0.00</td>\n      <td>13672</td>\n      <td>[17874.0, 38907.0, 6750.0, 17937.0, 6066.0]</td>\n    </tr>\n    <tr>\n      <th>9</th>\n      <td>AMT_GOODS_PRICE</td>\n      <td>float64</td>\n      <td>278</td>\n      <td>0.09</td>\n      <td>1002</td>\n      <td>[684000.0, 135000.0, 720000.0, 450000.0, 81000...</td>\n    </tr>\n    <tr>\n      <th>10</th>\n      <td>NAME_TYPE_SUITE</td>\n      <td>object</td>\n      <td>1292</td>\n      <td>0.42</td>\n      <td>7</td>\n      <td>[Family, Unaccompanied, Other_B]</td>\n    </tr>\n    <tr>\n      <th>11</th>\n      <td>NAME_INCOME_TYPE</td>\n      <td>object</td>\n      <td>0</td>\n      <td>0.00</td>\n      <td>8</td>\n      <td>[Commercial associate, Working, Pensioner]</td>\n    </tr>\n    <tr>\n      <th>12</th>\n      <td>NAME_EDUCATION_TYPE</td>\n      <td>object</td>\n      <td>0</td>\n      <td>0.00</td>\n      <td>5</td>\n      <td>[Secondary / secondary special, Higher education]</td>\n    </tr>\n    <tr>\n      <th>13</th>\n      <td>NAME_FAMILY_STATUS</td>\n      <td>object</td>\n      <td>0</td>\n      <td>0.00</td>\n      <td>6</td>\n      <td>[Married, Separated, Single / not married, Widow]</td>\n    </tr>\n    <tr>\n      <th>14</th>\n      <td>NAME_HOUSING_TYPE</td>\n      <td>object</td>\n      <td>0</td>\n      <td>0.00</td>\n      <td>6</td>\n      <td>[House / apartment, With parents]</td>\n    </tr>\n    <tr>\n      <th>15</th>\n      <td>REGION_POPULATION_RELATIVE</td>\n      <td>float64</td>\n      <td>0</td>\n      <td>0.00</td>\n      <td>81</td>\n      <td>[0.030755, 0.006852, 0.018801, 0.04622, 0.0228]</td>\n    </tr>\n    <tr>\n      <th>16</th>\n      <td>OWN_CAR_AGE</td>\n      <td>float64</td>\n      <td>202929</td>\n      <td>65.99</td>\n      <td>62</td>\n      <td>[1.0, nan, 11.0, 7.0]</td>\n    </tr>\n    <tr>\n      <th>17</th>\n      <td>FLAG_EMP_PHONE</td>\n      <td>int64</td>\n      <td>0</td>\n      <td>0.00</td>\n      <td>2</td>\n      <td>[1, 0]</td>\n    </tr>\n    <tr>\n      <th>18</th>\n      <td>FLAG_WORK_PHONE</td>\n      <td>int64</td>\n      <td>0</td>\n      <td>0.00</td>\n      <td>2</td>\n      <td>[0, 1]</td>\n    </tr>\n    <tr>\n      <th>19</th>\n      <td>FLAG_CONT_MOBILE</td>\n      <td>int64</td>\n      <td>0</td>\n      <td>0.00</td>\n      <td>2</td>\n      <td>[1]</td>\n    </tr>\n    <tr>\n      <th>20</th>\n      <td>FLAG_PHONE</td>\n      <td>int64</td>\n      <td>0</td>\n      <td>0.00</td>\n      <td>2</td>\n      <td>[0, 1]</td>\n    </tr>\n    <tr>\n      <th>21</th>\n      <td>OCCUPATION_TYPE</td>\n      <td>object</td>\n      <td>0</td>\n      <td>0.00</td>\n      <td>11</td>\n      <td>[Medicine staff, Core staff, Sales staff]</td>\n    </tr>\n    <tr>\n      <th>22</th>\n      <td>CNT_FAM_MEMBERS</td>\n      <td>float64</td>\n      <td>2</td>\n      <td>0.00</td>\n      <td>17</td>\n      <td>[2.0, 1.0]</td>\n    </tr>\n    <tr>\n      <th>23</th>\n      <td>REGION_RATING_CLIENT</td>\n      <td>int64</td>\n      <td>0</td>\n      <td>0.00</td>\n      <td>3</td>\n      <td>[2, 3]</td>\n    </tr>\n    <tr>\n      <th>24</th>\n      <td>REGION_RATING_CLIENT_W_CITY</td>\n      <td>int64</td>\n      <td>0</td>\n      <td>0.00</td>\n      <td>3</td>\n      <td>[1, 2]</td>\n    </tr>\n    <tr>\n      <th>25</th>\n      <td>REG_CITY_NOT_LIVE_CITY</td>\n      <td>int64</td>\n      <td>0</td>\n      <td>0.00</td>\n      <td>2</td>\n      <td>[1, 0]</td>\n    </tr>\n    <tr>\n      <th>26</th>\n      <td>REG_CITY_NOT_WORK_CITY</td>\n      <td>int64</td>\n      <td>0</td>\n      <td>0.00</td>\n      <td>2</td>\n      <td>[0]</td>\n    </tr>\n    <tr>\n      <th>27</th>\n      <td>LIVE_CITY_NOT_WORK_CITY</td>\n      <td>int64</td>\n      <td>0</td>\n      <td>0.00</td>\n      <td>2</td>\n      <td>[0, 1]</td>\n    </tr>\n    <tr>\n      <th>28</th>\n      <td>ORGANIZATION_TYPE</td>\n      <td>object</td>\n      <td>0</td>\n      <td>0.00</td>\n      <td>11</td>\n      <td>[XNA, Transport: type 4, Other, Government, Me...</td>\n    </tr>\n    <tr>\n      <th>29</th>\n      <td>EXT_SOURCE_1</td>\n      <td>float64</td>\n      <td>173378</td>\n      <td>56.38</td>\n      <td>114584</td>\n      <td>[nan, 0.4603679980188473, 0.5431908367458087]</td>\n    </tr>\n    <tr>\n      <th>30</th>\n      <td>EXT_SOURCE_2</td>\n      <td>float64</td>\n      <td>660</td>\n      <td>0.21</td>\n      <td>119831</td>\n      <td>[0.7742954870232435, 0.5359447432048026, 0.460...</td>\n    </tr>\n    <tr>\n      <th>31</th>\n      <td>EXT_SOURCE_3</td>\n      <td>float64</td>\n      <td>60965</td>\n      <td>19.83</td>\n      <td>814</td>\n      <td>[0.3876253444214701, 0.7338145369642702, 0.664...</td>\n    </tr>\n    <tr>\n      <th>32</th>\n      <td>CNT_INSTALMENT_FUTURE</td>\n      <td>float64</td>\n      <td>18067</td>\n      <td>5.88</td>\n      <td>2892</td>\n      <td>[1520.0, 113.0, 69.0, 15.0, 55.0]</td>\n    </tr>\n    <tr>\n      <th>33</th>\n      <td>AGE</td>\n      <td>int64</td>\n      <td>0</td>\n      <td>0.00</td>\n      <td>50</td>\n      <td>[30, 58, 25, 67, 46]</td>\n    </tr>\n    <tr>\n      <th>34</th>\n      <td>YEARS_EMPLOYED</td>\n      <td>int64</td>\n      <td>0</td>\n      <td>0.00</td>\n      <td>51</td>\n      <td>[2, 1000, 0, 3]</td>\n    </tr>\n    <tr>\n      <th>35</th>\n      <td>YEARS_ID</td>\n      <td>int64</td>\n      <td>0</td>\n      <td>0.00</td>\n      <td>19</td>\n      <td>[11, 10, 1, 2, 12]</td>\n    </tr>\n    <tr>\n      <th>36</th>\n      <td>YEARS_ID_CHANGE</td>\n      <td>int64</td>\n      <td>0</td>\n      <td>0.00</td>\n      <td>66</td>\n      <td>[23, 3, 15, 17]</td>\n    </tr>\n    <tr>\n      <th>37</th>\n      <td>Active_CBC</td>\n      <td>float64</td>\n      <td>44020</td>\n      <td>14.31</td>\n      <td>23</td>\n      <td>[3.0, nan, 2.0, 1.0]</td>\n    </tr>\n    <tr>\n      <th>38</th>\n      <td>Refused_PA</td>\n      <td>float64</td>\n      <td>16454</td>\n      <td>5.35</td>\n      <td>46</td>\n      <td>[0.0]</td>\n    </tr>\n    <tr>\n      <th>39</th>\n      <td>New_PA</td>\n      <td>float64</td>\n      <td>16454</td>\n      <td>5.35</td>\n      <td>18</td>\n      <td>[nan, 1.0]</td>\n    </tr>\n    <tr>\n      <th>40</th>\n      <td>FLAG_DOCUMENT_3</td>\n      <td>int64</td>\n      <td>0</td>\n      <td>0.00</td>\n      <td>2</td>\n      <td>[0, 1]</td>\n    </tr>\n    <tr>\n      <th>41</th>\n      <td>Canceled_PA</td>\n      <td>float64</td>\n      <td>16454</td>\n      <td>5.35</td>\n      <td>39</td>\n      <td>[3.0, 0.0, 2.0, nan]</td>\n    </tr>\n    <tr>\n      <th>42</th>\n      <td>FLAG_DOCUMENT_2</td>\n      <td>int64</td>\n      <td>0</td>\n      <td>0.00</td>\n      <td>2</td>\n      <td>[0]</td>\n    </tr>\n    <tr>\n      <th>43</th>\n      <td>Active_PCB</td>\n      <td>float64</td>\n      <td>18067</td>\n      <td>5.88</td>\n      <td>212</td>\n      <td>[25.0, 58.0, 64.0, 20.0, 8.0]</td>\n    </tr>\n    <tr>\n      <th>44</th>\n      <td>Approved_PA</td>\n      <td>float64</td>\n      <td>16454</td>\n      <td>5.35</td>\n      <td>26</td>\n      <td>[5.0, 1.0, 2.0]</td>\n    </tr>\n    <tr>\n      <th>45</th>\n      <td>FLAG_DOCUMENT_6</td>\n      <td>int64</td>\n      <td>0</td>\n      <td>0.00</td>\n      <td>2</td>\n      <td>[0]</td>\n    </tr>\n    <tr>\n      <th>46</th>\n      <td>Completed_PCB</td>\n      <td>float64</td>\n      <td>18067</td>\n      <td>5.88</td>\n      <td>47</td>\n      <td>[4.0, 1.0, 2.0, 5.0]</td>\n    </tr>\n    <tr>\n      <th>47</th>\n      <td>YEARS_LAST_PHONE_CHANGE</td>\n      <td>float64</td>\n      <td>1</td>\n      <td>0.00</td>\n      <td>12</td>\n      <td>[1.0, 0.0, 8.0, 5.0]</td>\n    </tr>\n  </tbody>\n</table>\n</div>"
     },
     "metadata": {},
     "execution_count": 13
    }
   ],
   "source": [
    "list_item=[]\n",
    "for col in data_dump.columns:\n",
    "    list_item.append([col,data_dump[col].dtype,data_dump[col].isna().sum(),round((data_dump[col].isna().sum()/len(data_dump[col])*100),2),data_dump[col].nunique(), list(data_dump[col].sample(5).drop_duplicates().values)])\n",
    "dfDesc_dp=pd.DataFrame(list_item,columns='feature dtype null null% unique uniquesample'.split())\n",
    "dfDesc_dp"
   ]
  },
  {
   "cell_type": "code",
   "execution_count": 14,
   "metadata": {},
   "outputs": [
    {
     "output_type": "execute_result",
     "data": {
      "text/plain": [
       "                    feature     nom          %\n",
       "0               AMT_ANNUITY      12   0.003902\n",
       "1           AMT_GOODS_PRICE     278   0.090403\n",
       "2           NAME_TYPE_SUITE    1292   0.420148\n",
       "3               OWN_CAR_AGE  202929  65.990810\n",
       "4           CNT_FAM_MEMBERS       2   0.000650\n",
       "5              EXT_SOURCE_1  173378  56.381073\n",
       "6              EXT_SOURCE_2     660   0.214626\n",
       "7              EXT_SOURCE_3   60965  19.825307\n",
       "8     CNT_INSTALMENT_FUTURE   18067   5.875237\n",
       "9                Active_CBC   44020  14.314935\n",
       "10               Refused_PA   16454   5.350703\n",
       "11                   New_PA   16454   5.350703\n",
       "12              Canceled_PA   16454   5.350703\n",
       "13               Active_PCB   18067   5.875237\n",
       "14              Approved_PA   16454   5.350703\n",
       "15            Completed_PCB   18067   5.875237\n",
       "16  YEARS_LAST_PHONE_CHANGE       1   0.000325"
      ],
      "text/html": "<div>\n<style scoped>\n    .dataframe tbody tr th:only-of-type {\n        vertical-align: middle;\n    }\n\n    .dataframe tbody tr th {\n        vertical-align: top;\n    }\n\n    .dataframe thead th {\n        text-align: right;\n    }\n</style>\n<table border=\"1\" class=\"dataframe\">\n  <thead>\n    <tr style=\"text-align: right;\">\n      <th></th>\n      <th>feature</th>\n      <th>nom</th>\n      <th>%</th>\n    </tr>\n  </thead>\n  <tbody>\n    <tr>\n      <th>0</th>\n      <td>AMT_ANNUITY</td>\n      <td>12</td>\n      <td>0.003902</td>\n    </tr>\n    <tr>\n      <th>1</th>\n      <td>AMT_GOODS_PRICE</td>\n      <td>278</td>\n      <td>0.090403</td>\n    </tr>\n    <tr>\n      <th>2</th>\n      <td>NAME_TYPE_SUITE</td>\n      <td>1292</td>\n      <td>0.420148</td>\n    </tr>\n    <tr>\n      <th>3</th>\n      <td>OWN_CAR_AGE</td>\n      <td>202929</td>\n      <td>65.990810</td>\n    </tr>\n    <tr>\n      <th>4</th>\n      <td>CNT_FAM_MEMBERS</td>\n      <td>2</td>\n      <td>0.000650</td>\n    </tr>\n    <tr>\n      <th>5</th>\n      <td>EXT_SOURCE_1</td>\n      <td>173378</td>\n      <td>56.381073</td>\n    </tr>\n    <tr>\n      <th>6</th>\n      <td>EXT_SOURCE_2</td>\n      <td>660</td>\n      <td>0.214626</td>\n    </tr>\n    <tr>\n      <th>7</th>\n      <td>EXT_SOURCE_3</td>\n      <td>60965</td>\n      <td>19.825307</td>\n    </tr>\n    <tr>\n      <th>8</th>\n      <td>CNT_INSTALMENT_FUTURE</td>\n      <td>18067</td>\n      <td>5.875237</td>\n    </tr>\n    <tr>\n      <th>9</th>\n      <td>Active_CBC</td>\n      <td>44020</td>\n      <td>14.314935</td>\n    </tr>\n    <tr>\n      <th>10</th>\n      <td>Refused_PA</td>\n      <td>16454</td>\n      <td>5.350703</td>\n    </tr>\n    <tr>\n      <th>11</th>\n      <td>New_PA</td>\n      <td>16454</td>\n      <td>5.350703</td>\n    </tr>\n    <tr>\n      <th>12</th>\n      <td>Canceled_PA</td>\n      <td>16454</td>\n      <td>5.350703</td>\n    </tr>\n    <tr>\n      <th>13</th>\n      <td>Active_PCB</td>\n      <td>18067</td>\n      <td>5.875237</td>\n    </tr>\n    <tr>\n      <th>14</th>\n      <td>Approved_PA</td>\n      <td>16454</td>\n      <td>5.350703</td>\n    </tr>\n    <tr>\n      <th>15</th>\n      <td>Completed_PCB</td>\n      <td>18067</td>\n      <td>5.875237</td>\n    </tr>\n    <tr>\n      <th>16</th>\n      <td>YEARS_LAST_PHONE_CHANGE</td>\n      <td>1</td>\n      <td>0.000325</td>\n    </tr>\n  </tbody>\n</table>\n</div>"
     },
     "metadata": {},
     "execution_count": 14
    }
   ],
   "source": [
    "null=isna_table(data_dump)\n",
    "null.reset_index(inplace=True)\n",
    "null=null.rename(columns={'index':'feature'})\n",
    "null"
   ]
  },
  {
   "source": [
    "### Credit Bureau Credit"
   ],
   "cell_type": "markdown",
   "metadata": {}
  },
  {
   "cell_type": "code",
   "execution_count": 15,
   "metadata": {},
   "outputs": [
    {
     "output_type": "execute_result",
     "data": {
      "text/plain": [
       "      feature    nom          %\n",
       "9  Active_CBC  44020  14.314935"
      ],
      "text/html": "<div>\n<style scoped>\n    .dataframe tbody tr th:only-of-type {\n        vertical-align: middle;\n    }\n\n    .dataframe tbody tr th {\n        vertical-align: top;\n    }\n\n    .dataframe thead th {\n        text-align: right;\n    }\n</style>\n<table border=\"1\" class=\"dataframe\">\n  <thead>\n    <tr style=\"text-align: right;\">\n      <th></th>\n      <th>feature</th>\n      <th>nom</th>\n      <th>%</th>\n    </tr>\n  </thead>\n  <tbody>\n    <tr>\n      <th>9</th>\n      <td>Active_CBC</td>\n      <td>44020</td>\n      <td>14.314935</td>\n    </tr>\n  </tbody>\n</table>\n</div>"
     },
     "metadata": {},
     "execution_count": 15
    }
   ],
   "source": [
    "null[(null['feature']=='Active_CBC')|(null['feature']=='Year Credit Late_Bureau')|(null['feature']=='Closed_CBC')]"
   ]
  },
  {
   "source": [
    "Jumlah null di feature ini dikarenakan ketiadaan data jumlah credit aktif di credit bureau credit sehingga akan diisi 0"
   ],
   "cell_type": "markdown",
   "metadata": {}
  },
  {
   "cell_type": "code",
   "execution_count": 17,
   "metadata": {},
   "outputs": [],
   "source": [
    "data_dump['Active_CBC'].fillna(0,inplace=True)\n",
    "# data_dump['Closed_CBC'].fillna(0,inplace=True)"
   ]
  },
  {
   "source": [
    "### Previous Application"
   ],
   "cell_type": "markdown",
   "metadata": {}
  },
  {
   "cell_type": "code",
   "execution_count": 18,
   "metadata": {},
   "outputs": [
    {
     "output_type": "execute_result",
     "data": {
      "text/plain": [
       "        feature    nom         %\n",
       "10   Refused_PA  16454  5.350703\n",
       "11       New_PA  16454  5.350703\n",
       "12  Canceled_PA  16454  5.350703\n",
       "14  Approved_PA  16454  5.350703"
      ],
      "text/html": "<div>\n<style scoped>\n    .dataframe tbody tr th:only-of-type {\n        vertical-align: middle;\n    }\n\n    .dataframe tbody tr th {\n        vertical-align: top;\n    }\n\n    .dataframe thead th {\n        text-align: right;\n    }\n</style>\n<table border=\"1\" class=\"dataframe\">\n  <thead>\n    <tr style=\"text-align: right;\">\n      <th></th>\n      <th>feature</th>\n      <th>nom</th>\n      <th>%</th>\n    </tr>\n  </thead>\n  <tbody>\n    <tr>\n      <th>10</th>\n      <td>Refused_PA</td>\n      <td>16454</td>\n      <td>5.350703</td>\n    </tr>\n    <tr>\n      <th>11</th>\n      <td>New_PA</td>\n      <td>16454</td>\n      <td>5.350703</td>\n    </tr>\n    <tr>\n      <th>12</th>\n      <td>Canceled_PA</td>\n      <td>16454</td>\n      <td>5.350703</td>\n    </tr>\n    <tr>\n      <th>14</th>\n      <td>Approved_PA</td>\n      <td>16454</td>\n      <td>5.350703</td>\n    </tr>\n  </tbody>\n</table>\n</div>"
     },
     "metadata": {},
     "execution_count": 18
    }
   ],
   "source": [
    "null[(null['feature']=='Refused_PA')|(null['feature']=='New_PA')|(null['feature']=='Canceled_PA')|(null['feature']=='Approved_PA')]"
   ]
  },
  {
   "source": [
    "melihat kesamaan jumlah null di atas dapat disimpulkan bahwa kasus pinjaman tersebut tidak memiliki data di Previous Application sehingga kita isi dengan nilai 0"
   ],
   "cell_type": "markdown",
   "metadata": {}
  },
  {
   "cell_type": "code",
   "execution_count": 19,
   "metadata": {},
   "outputs": [],
   "source": [
    "data_dump['Refused_PA'].fillna(0,inplace=True)\n",
    "data_dump['New_PA'].fillna(0,inplace=True)\n",
    "data_dump['Canceled_PA'].fillna(0,inplace=True)\n",
    "data_dump['Approved_PA'].fillna(0,inplace=True)"
   ]
  },
  {
   "source": [
    "### Pos Cash Balanced"
   ],
   "cell_type": "markdown",
   "metadata": {}
  },
  {
   "cell_type": "code",
   "execution_count": 20,
   "metadata": {},
   "outputs": [
    {
     "output_type": "execute_result",
     "data": {
      "text/plain": [
       "                  feature    nom         %\n",
       "8   CNT_INSTALMENT_FUTURE  18067  5.875237\n",
       "13             Active_PCB  18067  5.875237\n",
       "15          Completed_PCB  18067  5.875237"
      ],
      "text/html": "<div>\n<style scoped>\n    .dataframe tbody tr th:only-of-type {\n        vertical-align: middle;\n    }\n\n    .dataframe tbody tr th {\n        vertical-align: top;\n    }\n\n    .dataframe thead th {\n        text-align: right;\n    }\n</style>\n<table border=\"1\" class=\"dataframe\">\n  <thead>\n    <tr style=\"text-align: right;\">\n      <th></th>\n      <th>feature</th>\n      <th>nom</th>\n      <th>%</th>\n    </tr>\n  </thead>\n  <tbody>\n    <tr>\n      <th>8</th>\n      <td>CNT_INSTALMENT_FUTURE</td>\n      <td>18067</td>\n      <td>5.875237</td>\n    </tr>\n    <tr>\n      <th>13</th>\n      <td>Active_PCB</td>\n      <td>18067</td>\n      <td>5.875237</td>\n    </tr>\n    <tr>\n      <th>15</th>\n      <td>Completed_PCB</td>\n      <td>18067</td>\n      <td>5.875237</td>\n    </tr>\n  </tbody>\n</table>\n</div>"
     },
     "metadata": {},
     "execution_count": 20
    }
   ],
   "source": [
    "null[(null['feature']=='Completed_PCB')|(null['feature']=='Active_PCB')|(null['feature']=='CNT_INSTALMENT_FUTURE')]"
   ]
  },
  {
   "source": [
    "melihat kesamaan jumlah null di atas dapat disimpulkan bahwa kasus pinjaman tersebut tidak memiliki data di Pos Cash Balanced sehingga kita isi dengan nilai 0"
   ],
   "cell_type": "markdown",
   "metadata": {}
  },
  {
   "cell_type": "code",
   "execution_count": 21,
   "metadata": {},
   "outputs": [],
   "source": [
    "data_dump['Completed_PCB'].fillna(0,inplace=True)\n",
    "data_dump['Active_PCB'].fillna(0,inplace=True)\n",
    "data_dump['CNT_INSTALMENT_FUTURE'].fillna(0,inplace=True)"
   ]
  },
  {
   "source": [
    "### Checking Null"
   ],
   "cell_type": "markdown",
   "metadata": {}
  },
  {
   "cell_type": "code",
   "execution_count": 22,
   "metadata": {},
   "outputs": [
    {
     "output_type": "execute_result",
     "data": {
      "text/plain": [
       "                   feature     nom          %\n",
       "0              AMT_ANNUITY      12   0.003902\n",
       "1          AMT_GOODS_PRICE     278   0.090403\n",
       "2          NAME_TYPE_SUITE    1292   0.420148\n",
       "3              OWN_CAR_AGE  202929  65.990810\n",
       "4          CNT_FAM_MEMBERS       2   0.000650\n",
       "5             EXT_SOURCE_1  173378  56.381073\n",
       "6             EXT_SOURCE_2     660   0.214626\n",
       "7             EXT_SOURCE_3   60965  19.825307\n",
       "8  YEARS_LAST_PHONE_CHANGE       1   0.000325"
      ],
      "text/html": "<div>\n<style scoped>\n    .dataframe tbody tr th:only-of-type {\n        vertical-align: middle;\n    }\n\n    .dataframe tbody tr th {\n        vertical-align: top;\n    }\n\n    .dataframe thead th {\n        text-align: right;\n    }\n</style>\n<table border=\"1\" class=\"dataframe\">\n  <thead>\n    <tr style=\"text-align: right;\">\n      <th></th>\n      <th>feature</th>\n      <th>nom</th>\n      <th>%</th>\n    </tr>\n  </thead>\n  <tbody>\n    <tr>\n      <th>0</th>\n      <td>AMT_ANNUITY</td>\n      <td>12</td>\n      <td>0.003902</td>\n    </tr>\n    <tr>\n      <th>1</th>\n      <td>AMT_GOODS_PRICE</td>\n      <td>278</td>\n      <td>0.090403</td>\n    </tr>\n    <tr>\n      <th>2</th>\n      <td>NAME_TYPE_SUITE</td>\n      <td>1292</td>\n      <td>0.420148</td>\n    </tr>\n    <tr>\n      <th>3</th>\n      <td>OWN_CAR_AGE</td>\n      <td>202929</td>\n      <td>65.990810</td>\n    </tr>\n    <tr>\n      <th>4</th>\n      <td>CNT_FAM_MEMBERS</td>\n      <td>2</td>\n      <td>0.000650</td>\n    </tr>\n    <tr>\n      <th>5</th>\n      <td>EXT_SOURCE_1</td>\n      <td>173378</td>\n      <td>56.381073</td>\n    </tr>\n    <tr>\n      <th>6</th>\n      <td>EXT_SOURCE_2</td>\n      <td>660</td>\n      <td>0.214626</td>\n    </tr>\n    <tr>\n      <th>7</th>\n      <td>EXT_SOURCE_3</td>\n      <td>60965</td>\n      <td>19.825307</td>\n    </tr>\n    <tr>\n      <th>8</th>\n      <td>YEARS_LAST_PHONE_CHANGE</td>\n      <td>1</td>\n      <td>0.000325</td>\n    </tr>\n  </tbody>\n</table>\n</div>"
     },
     "metadata": {},
     "execution_count": 22
    }
   ],
   "source": [
    "null=isna_table(data_dump)\n",
    "null.reset_index(inplace=True)\n",
    "null=null.rename(columns={'index':'feature'})\n",
    "null"
   ]
  },
  {
   "source": [
    "## EXT_SOURCE Feature\n",
    "\n",
    "EXT_SOURCE feature adalah rating yang diberikan oleh organisasi pihak ketiga terhadap seseorang/pinjaman tertentu. rating ini sudah dinormalize oleh home credit.\n",
    "\n",
    "melihat beberapa kasus di atas, kasus Credit Bereau Credit, Previous Application, dan Pos Cash balance. dapat dilihat bahwa nan terjadi karena client/pinjaman tersebut tidak memiliki data di sana, sehingga saya berasumsi terjadinya nan pada EXT_SOURCE adalah ketiadaan data atau belum diberikan rating dari organisasi-organisasi ini kepada client/pinjaman sehingga saya memutuskan untuk membuang data-data tersebut."
   ],
   "cell_type": "markdown",
   "metadata": {}
  },
  {
   "source": [
    "data_dump[['TARGET','EXT_SOURCE_1','EXT_SOURCE_2','EXT_SOURCE_3']]"
   ],
   "cell_type": "code",
   "metadata": {},
   "execution_count": 27,
   "outputs": [
    {
     "output_type": "execute_result",
     "data": {
      "text/plain": [
       "        TARGET  EXT_SOURCE_1  EXT_SOURCE_2  EXT_SOURCE_3\n",
       "0            1      0.083037      0.262949      0.139376\n",
       "1            0      0.311267      0.622246           NaN\n",
       "2            0           NaN      0.555912      0.729567\n",
       "3            0           NaN      0.650442           NaN\n",
       "4            0           NaN      0.322738           NaN\n",
       "...        ...           ...           ...           ...\n",
       "307506       0      0.145570      0.681632           NaN\n",
       "307507       0           NaN      0.115992           NaN\n",
       "307508       0      0.744026      0.535722      0.218859\n",
       "307509       1           NaN      0.514163      0.661024\n",
       "307510       0      0.734460      0.708569      0.113922\n",
       "\n",
       "[307511 rows x 4 columns]"
      ],
      "text/html": "<div>\n<style scoped>\n    .dataframe tbody tr th:only-of-type {\n        vertical-align: middle;\n    }\n\n    .dataframe tbody tr th {\n        vertical-align: top;\n    }\n\n    .dataframe thead th {\n        text-align: right;\n    }\n</style>\n<table border=\"1\" class=\"dataframe\">\n  <thead>\n    <tr style=\"text-align: right;\">\n      <th></th>\n      <th>TARGET</th>\n      <th>EXT_SOURCE_1</th>\n      <th>EXT_SOURCE_2</th>\n      <th>EXT_SOURCE_3</th>\n    </tr>\n  </thead>\n  <tbody>\n    <tr>\n      <th>0</th>\n      <td>1</td>\n      <td>0.083037</td>\n      <td>0.262949</td>\n      <td>0.139376</td>\n    </tr>\n    <tr>\n      <th>1</th>\n      <td>0</td>\n      <td>0.311267</td>\n      <td>0.622246</td>\n      <td>NaN</td>\n    </tr>\n    <tr>\n      <th>2</th>\n      <td>0</td>\n      <td>NaN</td>\n      <td>0.555912</td>\n      <td>0.729567</td>\n    </tr>\n    <tr>\n      <th>3</th>\n      <td>0</td>\n      <td>NaN</td>\n      <td>0.650442</td>\n      <td>NaN</td>\n    </tr>\n    <tr>\n      <th>4</th>\n      <td>0</td>\n      <td>NaN</td>\n      <td>0.322738</td>\n      <td>NaN</td>\n    </tr>\n    <tr>\n      <th>...</th>\n      <td>...</td>\n      <td>...</td>\n      <td>...</td>\n      <td>...</td>\n    </tr>\n    <tr>\n      <th>307506</th>\n      <td>0</td>\n      <td>0.145570</td>\n      <td>0.681632</td>\n      <td>NaN</td>\n    </tr>\n    <tr>\n      <th>307507</th>\n      <td>0</td>\n      <td>NaN</td>\n      <td>0.115992</td>\n      <td>NaN</td>\n    </tr>\n    <tr>\n      <th>307508</th>\n      <td>0</td>\n      <td>0.744026</td>\n      <td>0.535722</td>\n      <td>0.218859</td>\n    </tr>\n    <tr>\n      <th>307509</th>\n      <td>1</td>\n      <td>NaN</td>\n      <td>0.514163</td>\n      <td>0.661024</td>\n    </tr>\n    <tr>\n      <th>307510</th>\n      <td>0</td>\n      <td>0.734460</td>\n      <td>0.708569</td>\n      <td>0.113922</td>\n    </tr>\n  </tbody>\n</table>\n<p>307511 rows × 4 columns</p>\n</div>"
     },
     "metadata": {},
     "execution_count": 27
    }
   ]
  },
  {
   "source": [
    "data_dump[data_dump['TARGET']==1][['TARGET','EXT_SOURCE_1','EXT_SOURCE_2','EXT_SOURCE_3']]"
   ],
   "cell_type": "code",
   "metadata": {},
   "execution_count": 32,
   "outputs": [
    {
     "output_type": "execute_result",
     "data": {
      "text/plain": [
       "        TARGET  EXT_SOURCE_1  EXT_SOURCE_2  EXT_SOURCE_3\n",
       "0            1      0.083037      0.262949      0.139376\n",
       "26           1           NaN      0.548477      0.190706\n",
       "40           1           NaN      0.306841      0.320163\n",
       "42           1      0.468208      0.674203      0.399676\n",
       "81           1           NaN      0.023952      0.720944\n",
       "...        ...           ...           ...           ...\n",
       "307448       1      0.073452      0.329708      0.360613\n",
       "307475       1      0.634729      0.583214      0.424130\n",
       "307481       1           NaN      0.713524      0.511892\n",
       "307489       1           NaN      0.615261      0.397946\n",
       "307509       1           NaN      0.514163      0.661024\n",
       "\n",
       "[24825 rows x 4 columns]"
      ],
      "text/html": "<div>\n<style scoped>\n    .dataframe tbody tr th:only-of-type {\n        vertical-align: middle;\n    }\n\n    .dataframe tbody tr th {\n        vertical-align: top;\n    }\n\n    .dataframe thead th {\n        text-align: right;\n    }\n</style>\n<table border=\"1\" class=\"dataframe\">\n  <thead>\n    <tr style=\"text-align: right;\">\n      <th></th>\n      <th>TARGET</th>\n      <th>EXT_SOURCE_1</th>\n      <th>EXT_SOURCE_2</th>\n      <th>EXT_SOURCE_3</th>\n    </tr>\n  </thead>\n  <tbody>\n    <tr>\n      <th>0</th>\n      <td>1</td>\n      <td>0.083037</td>\n      <td>0.262949</td>\n      <td>0.139376</td>\n    </tr>\n    <tr>\n      <th>26</th>\n      <td>1</td>\n      <td>NaN</td>\n      <td>0.548477</td>\n      <td>0.190706</td>\n    </tr>\n    <tr>\n      <th>40</th>\n      <td>1</td>\n      <td>NaN</td>\n      <td>0.306841</td>\n      <td>0.320163</td>\n    </tr>\n    <tr>\n      <th>42</th>\n      <td>1</td>\n      <td>0.468208</td>\n      <td>0.674203</td>\n      <td>0.399676</td>\n    </tr>\n    <tr>\n      <th>81</th>\n      <td>1</td>\n      <td>NaN</td>\n      <td>0.023952</td>\n      <td>0.720944</td>\n    </tr>\n    <tr>\n      <th>...</th>\n      <td>...</td>\n      <td>...</td>\n      <td>...</td>\n      <td>...</td>\n    </tr>\n    <tr>\n      <th>307448</th>\n      <td>1</td>\n      <td>0.073452</td>\n      <td>0.329708</td>\n      <td>0.360613</td>\n    </tr>\n    <tr>\n      <th>307475</th>\n      <td>1</td>\n      <td>0.634729</td>\n      <td>0.583214</td>\n      <td>0.424130</td>\n    </tr>\n    <tr>\n      <th>307481</th>\n      <td>1</td>\n      <td>NaN</td>\n      <td>0.713524</td>\n      <td>0.511892</td>\n    </tr>\n    <tr>\n      <th>307489</th>\n      <td>1</td>\n      <td>NaN</td>\n      <td>0.615261</td>\n      <td>0.397946</td>\n    </tr>\n    <tr>\n      <th>307509</th>\n      <td>1</td>\n      <td>NaN</td>\n      <td>0.514163</td>\n      <td>0.661024</td>\n    </tr>\n  </tbody>\n</table>\n<p>24825 rows × 4 columns</p>\n</div>"
     },
     "metadata": {},
     "execution_count": 32
    }
   ]
  },
  {
   "cell_type": "code",
   "execution_count": 33,
   "metadata": {},
   "outputs": [
    {
     "output_type": "execute_result",
     "data": {
      "text/plain": [
       "        TARGET  EXT_SOURCE_1  EXT_SOURCE_2  EXT_SOURCE_3\n",
       "1            0      0.311267      0.622246           NaN\n",
       "2            0           NaN      0.555912      0.729567\n",
       "3            0           NaN      0.650442           NaN\n",
       "4            0           NaN      0.322738           NaN\n",
       "5            0           NaN      0.354225      0.621226\n",
       "...        ...           ...           ...           ...\n",
       "307505       0           NaN      0.346391      0.742182\n",
       "307506       0      0.145570      0.681632           NaN\n",
       "307507       0           NaN      0.115992           NaN\n",
       "307508       0      0.744026      0.535722      0.218859\n",
       "307510       0      0.734460      0.708569      0.113922\n",
       "\n",
       "[282686 rows x 4 columns]"
      ],
      "text/html": "<div>\n<style scoped>\n    .dataframe tbody tr th:only-of-type {\n        vertical-align: middle;\n    }\n\n    .dataframe tbody tr th {\n        vertical-align: top;\n    }\n\n    .dataframe thead th {\n        text-align: right;\n    }\n</style>\n<table border=\"1\" class=\"dataframe\">\n  <thead>\n    <tr style=\"text-align: right;\">\n      <th></th>\n      <th>TARGET</th>\n      <th>EXT_SOURCE_1</th>\n      <th>EXT_SOURCE_2</th>\n      <th>EXT_SOURCE_3</th>\n    </tr>\n  </thead>\n  <tbody>\n    <tr>\n      <th>1</th>\n      <td>0</td>\n      <td>0.311267</td>\n      <td>0.622246</td>\n      <td>NaN</td>\n    </tr>\n    <tr>\n      <th>2</th>\n      <td>0</td>\n      <td>NaN</td>\n      <td>0.555912</td>\n      <td>0.729567</td>\n    </tr>\n    <tr>\n      <th>3</th>\n      <td>0</td>\n      <td>NaN</td>\n      <td>0.650442</td>\n      <td>NaN</td>\n    </tr>\n    <tr>\n      <th>4</th>\n      <td>0</td>\n      <td>NaN</td>\n      <td>0.322738</td>\n      <td>NaN</td>\n    </tr>\n    <tr>\n      <th>5</th>\n      <td>0</td>\n      <td>NaN</td>\n      <td>0.354225</td>\n      <td>0.621226</td>\n    </tr>\n    <tr>\n      <th>...</th>\n      <td>...</td>\n      <td>...</td>\n      <td>...</td>\n      <td>...</td>\n    </tr>\n    <tr>\n      <th>307505</th>\n      <td>0</td>\n      <td>NaN</td>\n      <td>0.346391</td>\n      <td>0.742182</td>\n    </tr>\n    <tr>\n      <th>307506</th>\n      <td>0</td>\n      <td>0.145570</td>\n      <td>0.681632</td>\n      <td>NaN</td>\n    </tr>\n    <tr>\n      <th>307507</th>\n      <td>0</td>\n      <td>NaN</td>\n      <td>0.115992</td>\n      <td>NaN</td>\n    </tr>\n    <tr>\n      <th>307508</th>\n      <td>0</td>\n      <td>0.744026</td>\n      <td>0.535722</td>\n      <td>0.218859</td>\n    </tr>\n    <tr>\n      <th>307510</th>\n      <td>0</td>\n      <td>0.734460</td>\n      <td>0.708569</td>\n      <td>0.113922</td>\n    </tr>\n  </tbody>\n</table>\n<p>282686 rows × 4 columns</p>\n</div>"
     },
     "metadata": {},
     "execution_count": 33
    }
   ],
   "source": [
    "data_dump[data_dump['TARGET']==0][['TARGET','EXT_SOURCE_1','EXT_SOURCE_2','EXT_SOURCE_3']]"
   ]
  },
  {
   "cell_type": "code",
   "execution_count": 23,
   "metadata": {},
   "outputs": [],
   "source": [
    "data_dump.drop('EXT_SOURCE_1',axis=1,inplace=True)"
   ]
  },
  {
   "source": [
    "### Own_Car_age"
   ],
   "cell_type": "markdown",
   "metadata": {}
  },
  {
   "cell_type": "code",
   "execution_count": 14,
   "metadata": {},
   "outputs": [
    {
     "output_type": "execute_result",
     "data": {
      "text/plain": [
       "       FLAG_OWN_CAR  OWN_CAR_AGE\n",
       "0                 N          NaN\n",
       "2                 Y         26.0\n",
       "5                 N          NaN\n",
       "6                 Y         17.0\n",
       "7                 Y          8.0\n",
       "...             ...          ...\n",
       "307503            N          NaN\n",
       "307505            N          NaN\n",
       "307508            N          NaN\n",
       "307509            N          NaN\n",
       "307510            N          NaN\n",
       "\n",
       "[229548 rows x 2 columns]"
      ],
      "text/html": "<div>\n<style scoped>\n    .dataframe tbody tr th:only-of-type {\n        vertical-align: middle;\n    }\n\n    .dataframe tbody tr th {\n        vertical-align: top;\n    }\n\n    .dataframe thead th {\n        text-align: right;\n    }\n</style>\n<table border=\"1\" class=\"dataframe\">\n  <thead>\n    <tr style=\"text-align: right;\">\n      <th></th>\n      <th>FLAG_OWN_CAR</th>\n      <th>OWN_CAR_AGE</th>\n    </tr>\n  </thead>\n  <tbody>\n    <tr>\n      <th>0</th>\n      <td>N</td>\n      <td>NaN</td>\n    </tr>\n    <tr>\n      <th>2</th>\n      <td>Y</td>\n      <td>26.0</td>\n    </tr>\n    <tr>\n      <th>5</th>\n      <td>N</td>\n      <td>NaN</td>\n    </tr>\n    <tr>\n      <th>6</th>\n      <td>Y</td>\n      <td>17.0</td>\n    </tr>\n    <tr>\n      <th>7</th>\n      <td>Y</td>\n      <td>8.0</td>\n    </tr>\n    <tr>\n      <th>...</th>\n      <td>...</td>\n      <td>...</td>\n    </tr>\n    <tr>\n      <th>307503</th>\n      <td>N</td>\n      <td>NaN</td>\n    </tr>\n    <tr>\n      <th>307505</th>\n      <td>N</td>\n      <td>NaN</td>\n    </tr>\n    <tr>\n      <th>307508</th>\n      <td>N</td>\n      <td>NaN</td>\n    </tr>\n    <tr>\n      <th>307509</th>\n      <td>N</td>\n      <td>NaN</td>\n    </tr>\n    <tr>\n      <th>307510</th>\n      <td>N</td>\n      <td>NaN</td>\n    </tr>\n  </tbody>\n</table>\n<p>229548 rows × 2 columns</p>\n</div>"
     },
     "metadata": {},
     "execution_count": 14
    }
   ],
   "source": [
    "data_dump[['FLAG_OWN_CAR','OWN_CAR_AGE']]"
   ]
  },
  {
   "cell_type": "code",
   "execution_count": 24,
   "metadata": {
    "tags": []
   },
   "outputs": [],
   "source": [
    "data_dump['OWN_CAR_AGE'].fillna(0,inplace=True)"
   ]
  },
  {
   "source": [
    "### Checking Again"
   ],
   "cell_type": "markdown",
   "metadata": {}
  },
  {
   "cell_type": "code",
   "execution_count": 25,
   "metadata": {},
   "outputs": [
    {
     "output_type": "execute_result",
     "data": {
      "text/plain": [
       "                   feature    nom          %\n",
       "0              AMT_ANNUITY     12   0.003902\n",
       "1          AMT_GOODS_PRICE    278   0.090403\n",
       "2          NAME_TYPE_SUITE   1292   0.420148\n",
       "3          CNT_FAM_MEMBERS      2   0.000650\n",
       "4             EXT_SOURCE_2    660   0.214626\n",
       "5             EXT_SOURCE_3  60965  19.825307\n",
       "6  YEARS_LAST_PHONE_CHANGE      1   0.000325"
      ],
      "text/html": "<div>\n<style scoped>\n    .dataframe tbody tr th:only-of-type {\n        vertical-align: middle;\n    }\n\n    .dataframe tbody tr th {\n        vertical-align: top;\n    }\n\n    .dataframe thead th {\n        text-align: right;\n    }\n</style>\n<table border=\"1\" class=\"dataframe\">\n  <thead>\n    <tr style=\"text-align: right;\">\n      <th></th>\n      <th>feature</th>\n      <th>nom</th>\n      <th>%</th>\n    </tr>\n  </thead>\n  <tbody>\n    <tr>\n      <th>0</th>\n      <td>AMT_ANNUITY</td>\n      <td>12</td>\n      <td>0.003902</td>\n    </tr>\n    <tr>\n      <th>1</th>\n      <td>AMT_GOODS_PRICE</td>\n      <td>278</td>\n      <td>0.090403</td>\n    </tr>\n    <tr>\n      <th>2</th>\n      <td>NAME_TYPE_SUITE</td>\n      <td>1292</td>\n      <td>0.420148</td>\n    </tr>\n    <tr>\n      <th>3</th>\n      <td>CNT_FAM_MEMBERS</td>\n      <td>2</td>\n      <td>0.000650</td>\n    </tr>\n    <tr>\n      <th>4</th>\n      <td>EXT_SOURCE_2</td>\n      <td>660</td>\n      <td>0.214626</td>\n    </tr>\n    <tr>\n      <th>5</th>\n      <td>EXT_SOURCE_3</td>\n      <td>60965</td>\n      <td>19.825307</td>\n    </tr>\n    <tr>\n      <th>6</th>\n      <td>YEARS_LAST_PHONE_CHANGE</td>\n      <td>1</td>\n      <td>0.000325</td>\n    </tr>\n  </tbody>\n</table>\n</div>"
     },
     "metadata": {},
     "execution_count": 25
    }
   ],
   "source": [
    "null=isna_table(data_dump)\n",
    "null.reset_index(inplace=True)\n",
    "null=null.rename(columns={'index':'feature'})\n",
    "null"
   ]
  },
  {
   "source": [
    "membersihkan nan sisanya dengan dropping"
   ],
   "cell_type": "markdown",
   "metadata": {}
  },
  {
   "cell_type": "code",
   "execution_count": 26,
   "metadata": {},
   "outputs": [],
   "source": [
    "data_dump.dropna(subset=null[null['%']<20]['feature'],axis=0,inplace=True)"
   ]
  },
  {
   "cell_type": "code",
   "execution_count": 27,
   "metadata": {},
   "outputs": [
    {
     "output_type": "execute_result",
     "data": {
      "text/plain": [
       "                        feature    dtype  null  null%  unique  \\\n",
       "0                        TARGET    int64     0    0.0       2   \n",
       "1            NAME_CONTRACT_TYPE   object     0    0.0       2   \n",
       "2                   CODE_GENDER   object     0    0.0       3   \n",
       "3                  FLAG_OWN_CAR   object     0    0.0       2   \n",
       "4               FLAG_OWN_REALTY   object     0    0.0       2   \n",
       "5                  CNT_CHILDREN    int64     0    0.0      15   \n",
       "6              AMT_INCOME_TOTAL  float64     0    0.0    2023   \n",
       "7                    AMT_CREDIT  float64     0    0.0    5137   \n",
       "8                   AMT_ANNUITY  float64     0    0.0   12964   \n",
       "9               AMT_GOODS_PRICE  float64     0    0.0     801   \n",
       "10              NAME_TYPE_SUITE   object     0    0.0       7   \n",
       "11             NAME_INCOME_TYPE   object     0    0.0       7   \n",
       "12          NAME_EDUCATION_TYPE   object     0    0.0       5   \n",
       "13           NAME_FAMILY_STATUS   object     0    0.0       5   \n",
       "14            NAME_HOUSING_TYPE   object     0    0.0       6   \n",
       "15   REGION_POPULATION_RELATIVE  float64     0    0.0      81   \n",
       "16                  OWN_CAR_AGE  float64     0    0.0      61   \n",
       "17               FLAG_EMP_PHONE    int64     0    0.0       2   \n",
       "18              FLAG_WORK_PHONE    int64     0    0.0       2   \n",
       "19             FLAG_CONT_MOBILE    int64     0    0.0       2   \n",
       "20                   FLAG_PHONE    int64     0    0.0       2   \n",
       "21              OCCUPATION_TYPE   object     0    0.0      11   \n",
       "22              CNT_FAM_MEMBERS  float64     0    0.0      17   \n",
       "23         REGION_RATING_CLIENT    int64     0    0.0       3   \n",
       "24  REGION_RATING_CLIENT_W_CITY    int64     0    0.0       3   \n",
       "25       REG_CITY_NOT_LIVE_CITY    int64     0    0.0       2   \n",
       "26       REG_CITY_NOT_WORK_CITY    int64     0    0.0       2   \n",
       "27      LIVE_CITY_NOT_WORK_CITY    int64     0    0.0       2   \n",
       "28            ORGANIZATION_TYPE   object     0    0.0      11   \n",
       "29                 EXT_SOURCE_2  float64     0    0.0  107907   \n",
       "30                 EXT_SOURCE_3  float64     0    0.0     814   \n",
       "31        CNT_INSTALMENT_FUTURE  float64     0    0.0    2792   \n",
       "32                          AGE    int64     0    0.0      49   \n",
       "33               YEARS_EMPLOYED    int64     0    0.0      51   \n",
       "34                     YEARS_ID    int64     0    0.0      19   \n",
       "35              YEARS_ID_CHANGE    int64     0    0.0      64   \n",
       "36                   Active_CBC  float64     0    0.0      23   \n",
       "37                   Refused_PA  float64     0    0.0      45   \n",
       "38                       New_PA  float64     0    0.0      18   \n",
       "39              FLAG_DOCUMENT_3    int64     0    0.0       2   \n",
       "40                  Canceled_PA  float64     0    0.0      39   \n",
       "41              FLAG_DOCUMENT_2    int64     0    0.0       1   \n",
       "42                   Active_PCB  float64     0    0.0     212   \n",
       "43                  Approved_PA  float64     0    0.0      26   \n",
       "44              FLAG_DOCUMENT_6    int64     0    0.0       2   \n",
       "45                Completed_PCB  float64     0    0.0      46   \n",
       "46      YEARS_LAST_PHONE_CHANGE  float64     0    0.0      12   \n",
       "\n",
       "                                         uniquesample  \n",
       "0                                              [0, 1]  \n",
       "1                       [Cash loans, Revolving loans]  \n",
       "2                                              [M, F]  \n",
       "3                                              [N, Y]  \n",
       "4                                              [N, Y]  \n",
       "5                                              [0, 1]  \n",
       "6   [148500.0, 450000.0, 121500.0, 135000.0, 24750...  \n",
       "7   [1350000.0, 239850.0, 258768.0, 376920.0, 7819...  \n",
       "8       [21433.5, 11250.0, 31630.5, 26640.0, 10116.0]  \n",
       "9   [643500.0, 360000.0, 720000.0, 450000.0, 95400...  \n",
       "10                            [Unaccompanied, Family]  \n",
       "11         [Commercial associate, Working, Pensioner]  \n",
       "12  [Secondary / secondary special, Higher education]  \n",
       "13    [Married, Single / not married, Civil marriage]  \n",
       "14                  [House / apartment, With parents]  \n",
       "15            [0.010032, 0.032561, 0.004849, 0.02461]  \n",
       "16                                    [0.0, 4.0, 7.0]  \n",
       "17                                             [1, 0]  \n",
       "18                                                [0]  \n",
       "19                                                [1]  \n",
       "20                                             [0, 1]  \n",
       "21                         [Laborers, Other, Drivers]  \n",
       "22                                    [2.0, 1.0, 3.0]  \n",
       "23                                          [2, 3, 1]  \n",
       "24                                             [2, 3]  \n",
       "25                                             [1, 0]  \n",
       "26                                             [0, 1]  \n",
       "27                                             [0, 1]  \n",
       "28  [Other, XNA, Business Entity Type 3, Trade: ty...  \n",
       "29  [0.26486443138156296, 0.4146385428322458, 0.30...  \n",
       "30  [0.34090642641523844, 0.7476633896301825, 0.64...  \n",
       "31                   [36.0, 78.0, 222.0, 948.0, 77.0]  \n",
       "32                               [68, 55, 32, 45, 57]  \n",
       "33                                      [4, 8, 1, 11]  \n",
       "34                                  [2, 8, 7, 10, 12]  \n",
       "35                                [23, 14, 11, 10, 3]  \n",
       "36                                    [3.0, 4.0, 2.0]  \n",
       "37                                         [0.0, 1.0]  \n",
       "38                                         [0.0, 1.0]  \n",
       "39                                                [1]  \n",
       "40                                         [0.0, 2.0]  \n",
       "41                                                [0]  \n",
       "42                            [24.0, 18.0, 42.0, 0.0]  \n",
       "43                                    [3.0, 4.0, 1.0]  \n",
       "44                                                [0]  \n",
       "45                               [1.0, 4.0, 2.0, 5.0]  \n",
       "46                                    [0.0, 5.0, 8.0]  "
      ],
      "text/html": "<div>\n<style scoped>\n    .dataframe tbody tr th:only-of-type {\n        vertical-align: middle;\n    }\n\n    .dataframe tbody tr th {\n        vertical-align: top;\n    }\n\n    .dataframe thead th {\n        text-align: right;\n    }\n</style>\n<table border=\"1\" class=\"dataframe\">\n  <thead>\n    <tr style=\"text-align: right;\">\n      <th></th>\n      <th>feature</th>\n      <th>dtype</th>\n      <th>null</th>\n      <th>null%</th>\n      <th>unique</th>\n      <th>uniquesample</th>\n    </tr>\n  </thead>\n  <tbody>\n    <tr>\n      <th>0</th>\n      <td>TARGET</td>\n      <td>int64</td>\n      <td>0</td>\n      <td>0.0</td>\n      <td>2</td>\n      <td>[0, 1]</td>\n    </tr>\n    <tr>\n      <th>1</th>\n      <td>NAME_CONTRACT_TYPE</td>\n      <td>object</td>\n      <td>0</td>\n      <td>0.0</td>\n      <td>2</td>\n      <td>[Cash loans, Revolving loans]</td>\n    </tr>\n    <tr>\n      <th>2</th>\n      <td>CODE_GENDER</td>\n      <td>object</td>\n      <td>0</td>\n      <td>0.0</td>\n      <td>3</td>\n      <td>[M, F]</td>\n    </tr>\n    <tr>\n      <th>3</th>\n      <td>FLAG_OWN_CAR</td>\n      <td>object</td>\n      <td>0</td>\n      <td>0.0</td>\n      <td>2</td>\n      <td>[N, Y]</td>\n    </tr>\n    <tr>\n      <th>4</th>\n      <td>FLAG_OWN_REALTY</td>\n      <td>object</td>\n      <td>0</td>\n      <td>0.0</td>\n      <td>2</td>\n      <td>[N, Y]</td>\n    </tr>\n    <tr>\n      <th>5</th>\n      <td>CNT_CHILDREN</td>\n      <td>int64</td>\n      <td>0</td>\n      <td>0.0</td>\n      <td>15</td>\n      <td>[0, 1]</td>\n    </tr>\n    <tr>\n      <th>6</th>\n      <td>AMT_INCOME_TOTAL</td>\n      <td>float64</td>\n      <td>0</td>\n      <td>0.0</td>\n      <td>2023</td>\n      <td>[148500.0, 450000.0, 121500.0, 135000.0, 24750...</td>\n    </tr>\n    <tr>\n      <th>7</th>\n      <td>AMT_CREDIT</td>\n      <td>float64</td>\n      <td>0</td>\n      <td>0.0</td>\n      <td>5137</td>\n      <td>[1350000.0, 239850.0, 258768.0, 376920.0, 7819...</td>\n    </tr>\n    <tr>\n      <th>8</th>\n      <td>AMT_ANNUITY</td>\n      <td>float64</td>\n      <td>0</td>\n      <td>0.0</td>\n      <td>12964</td>\n      <td>[21433.5, 11250.0, 31630.5, 26640.0, 10116.0]</td>\n    </tr>\n    <tr>\n      <th>9</th>\n      <td>AMT_GOODS_PRICE</td>\n      <td>float64</td>\n      <td>0</td>\n      <td>0.0</td>\n      <td>801</td>\n      <td>[643500.0, 360000.0, 720000.0, 450000.0, 95400...</td>\n    </tr>\n    <tr>\n      <th>10</th>\n      <td>NAME_TYPE_SUITE</td>\n      <td>object</td>\n      <td>0</td>\n      <td>0.0</td>\n      <td>7</td>\n      <td>[Unaccompanied, Family]</td>\n    </tr>\n    <tr>\n      <th>11</th>\n      <td>NAME_INCOME_TYPE</td>\n      <td>object</td>\n      <td>0</td>\n      <td>0.0</td>\n      <td>7</td>\n      <td>[Commercial associate, Working, Pensioner]</td>\n    </tr>\n    <tr>\n      <th>12</th>\n      <td>NAME_EDUCATION_TYPE</td>\n      <td>object</td>\n      <td>0</td>\n      <td>0.0</td>\n      <td>5</td>\n      <td>[Secondary / secondary special, Higher education]</td>\n    </tr>\n    <tr>\n      <th>13</th>\n      <td>NAME_FAMILY_STATUS</td>\n      <td>object</td>\n      <td>0</td>\n      <td>0.0</td>\n      <td>5</td>\n      <td>[Married, Single / not married, Civil marriage]</td>\n    </tr>\n    <tr>\n      <th>14</th>\n      <td>NAME_HOUSING_TYPE</td>\n      <td>object</td>\n      <td>0</td>\n      <td>0.0</td>\n      <td>6</td>\n      <td>[House / apartment, With parents]</td>\n    </tr>\n    <tr>\n      <th>15</th>\n      <td>REGION_POPULATION_RELATIVE</td>\n      <td>float64</td>\n      <td>0</td>\n      <td>0.0</td>\n      <td>81</td>\n      <td>[0.010032, 0.032561, 0.004849, 0.02461]</td>\n    </tr>\n    <tr>\n      <th>16</th>\n      <td>OWN_CAR_AGE</td>\n      <td>float64</td>\n      <td>0</td>\n      <td>0.0</td>\n      <td>61</td>\n      <td>[0.0, 4.0, 7.0]</td>\n    </tr>\n    <tr>\n      <th>17</th>\n      <td>FLAG_EMP_PHONE</td>\n      <td>int64</td>\n      <td>0</td>\n      <td>0.0</td>\n      <td>2</td>\n      <td>[1, 0]</td>\n    </tr>\n    <tr>\n      <th>18</th>\n      <td>FLAG_WORK_PHONE</td>\n      <td>int64</td>\n      <td>0</td>\n      <td>0.0</td>\n      <td>2</td>\n      <td>[0]</td>\n    </tr>\n    <tr>\n      <th>19</th>\n      <td>FLAG_CONT_MOBILE</td>\n      <td>int64</td>\n      <td>0</td>\n      <td>0.0</td>\n      <td>2</td>\n      <td>[1]</td>\n    </tr>\n    <tr>\n      <th>20</th>\n      <td>FLAG_PHONE</td>\n      <td>int64</td>\n      <td>0</td>\n      <td>0.0</td>\n      <td>2</td>\n      <td>[0, 1]</td>\n    </tr>\n    <tr>\n      <th>21</th>\n      <td>OCCUPATION_TYPE</td>\n      <td>object</td>\n      <td>0</td>\n      <td>0.0</td>\n      <td>11</td>\n      <td>[Laborers, Other, Drivers]</td>\n    </tr>\n    <tr>\n      <th>22</th>\n      <td>CNT_FAM_MEMBERS</td>\n      <td>float64</td>\n      <td>0</td>\n      <td>0.0</td>\n      <td>17</td>\n      <td>[2.0, 1.0, 3.0]</td>\n    </tr>\n    <tr>\n      <th>23</th>\n      <td>REGION_RATING_CLIENT</td>\n      <td>int64</td>\n      <td>0</td>\n      <td>0.0</td>\n      <td>3</td>\n      <td>[2, 3, 1]</td>\n    </tr>\n    <tr>\n      <th>24</th>\n      <td>REGION_RATING_CLIENT_W_CITY</td>\n      <td>int64</td>\n      <td>0</td>\n      <td>0.0</td>\n      <td>3</td>\n      <td>[2, 3]</td>\n    </tr>\n    <tr>\n      <th>25</th>\n      <td>REG_CITY_NOT_LIVE_CITY</td>\n      <td>int64</td>\n      <td>0</td>\n      <td>0.0</td>\n      <td>2</td>\n      <td>[1, 0]</td>\n    </tr>\n    <tr>\n      <th>26</th>\n      <td>REG_CITY_NOT_WORK_CITY</td>\n      <td>int64</td>\n      <td>0</td>\n      <td>0.0</td>\n      <td>2</td>\n      <td>[0, 1]</td>\n    </tr>\n    <tr>\n      <th>27</th>\n      <td>LIVE_CITY_NOT_WORK_CITY</td>\n      <td>int64</td>\n      <td>0</td>\n      <td>0.0</td>\n      <td>2</td>\n      <td>[0, 1]</td>\n    </tr>\n    <tr>\n      <th>28</th>\n      <td>ORGANIZATION_TYPE</td>\n      <td>object</td>\n      <td>0</td>\n      <td>0.0</td>\n      <td>11</td>\n      <td>[Other, XNA, Business Entity Type 3, Trade: ty...</td>\n    </tr>\n    <tr>\n      <th>29</th>\n      <td>EXT_SOURCE_2</td>\n      <td>float64</td>\n      <td>0</td>\n      <td>0.0</td>\n      <td>107907</td>\n      <td>[0.26486443138156296, 0.4146385428322458, 0.30...</td>\n    </tr>\n    <tr>\n      <th>30</th>\n      <td>EXT_SOURCE_3</td>\n      <td>float64</td>\n      <td>0</td>\n      <td>0.0</td>\n      <td>814</td>\n      <td>[0.34090642641523844, 0.7476633896301825, 0.64...</td>\n    </tr>\n    <tr>\n      <th>31</th>\n      <td>CNT_INSTALMENT_FUTURE</td>\n      <td>float64</td>\n      <td>0</td>\n      <td>0.0</td>\n      <td>2792</td>\n      <td>[36.0, 78.0, 222.0, 948.0, 77.0]</td>\n    </tr>\n    <tr>\n      <th>32</th>\n      <td>AGE</td>\n      <td>int64</td>\n      <td>0</td>\n      <td>0.0</td>\n      <td>49</td>\n      <td>[68, 55, 32, 45, 57]</td>\n    </tr>\n    <tr>\n      <th>33</th>\n      <td>YEARS_EMPLOYED</td>\n      <td>int64</td>\n      <td>0</td>\n      <td>0.0</td>\n      <td>51</td>\n      <td>[4, 8, 1, 11]</td>\n    </tr>\n    <tr>\n      <th>34</th>\n      <td>YEARS_ID</td>\n      <td>int64</td>\n      <td>0</td>\n      <td>0.0</td>\n      <td>19</td>\n      <td>[2, 8, 7, 10, 12]</td>\n    </tr>\n    <tr>\n      <th>35</th>\n      <td>YEARS_ID_CHANGE</td>\n      <td>int64</td>\n      <td>0</td>\n      <td>0.0</td>\n      <td>64</td>\n      <td>[23, 14, 11, 10, 3]</td>\n    </tr>\n    <tr>\n      <th>36</th>\n      <td>Active_CBC</td>\n      <td>float64</td>\n      <td>0</td>\n      <td>0.0</td>\n      <td>23</td>\n      <td>[3.0, 4.0, 2.0]</td>\n    </tr>\n    <tr>\n      <th>37</th>\n      <td>Refused_PA</td>\n      <td>float64</td>\n      <td>0</td>\n      <td>0.0</td>\n      <td>45</td>\n      <td>[0.0, 1.0]</td>\n    </tr>\n    <tr>\n      <th>38</th>\n      <td>New_PA</td>\n      <td>float64</td>\n      <td>0</td>\n      <td>0.0</td>\n      <td>18</td>\n      <td>[0.0, 1.0]</td>\n    </tr>\n    <tr>\n      <th>39</th>\n      <td>FLAG_DOCUMENT_3</td>\n      <td>int64</td>\n      <td>0</td>\n      <td>0.0</td>\n      <td>2</td>\n      <td>[1]</td>\n    </tr>\n    <tr>\n      <th>40</th>\n      <td>Canceled_PA</td>\n      <td>float64</td>\n      <td>0</td>\n      <td>0.0</td>\n      <td>39</td>\n      <td>[0.0, 2.0]</td>\n    </tr>\n    <tr>\n      <th>41</th>\n      <td>FLAG_DOCUMENT_2</td>\n      <td>int64</td>\n      <td>0</td>\n      <td>0.0</td>\n      <td>1</td>\n      <td>[0]</td>\n    </tr>\n    <tr>\n      <th>42</th>\n      <td>Active_PCB</td>\n      <td>float64</td>\n      <td>0</td>\n      <td>0.0</td>\n      <td>212</td>\n      <td>[24.0, 18.0, 42.0, 0.0]</td>\n    </tr>\n    <tr>\n      <th>43</th>\n      <td>Approved_PA</td>\n      <td>float64</td>\n      <td>0</td>\n      <td>0.0</td>\n      <td>26</td>\n      <td>[3.0, 4.0, 1.0]</td>\n    </tr>\n    <tr>\n      <th>44</th>\n      <td>FLAG_DOCUMENT_6</td>\n      <td>int64</td>\n      <td>0</td>\n      <td>0.0</td>\n      <td>2</td>\n      <td>[0]</td>\n    </tr>\n    <tr>\n      <th>45</th>\n      <td>Completed_PCB</td>\n      <td>float64</td>\n      <td>0</td>\n      <td>0.0</td>\n      <td>46</td>\n      <td>[1.0, 4.0, 2.0, 5.0]</td>\n    </tr>\n    <tr>\n      <th>46</th>\n      <td>YEARS_LAST_PHONE_CHANGE</td>\n      <td>float64</td>\n      <td>0</td>\n      <td>0.0</td>\n      <td>12</td>\n      <td>[0.0, 5.0, 8.0]</td>\n    </tr>\n  </tbody>\n</table>\n</div>"
     },
     "metadata": {},
     "execution_count": 27
    }
   ],
   "source": [
    "list_item=[]\n",
    "for col in data_dump.columns:\n",
    "    list_item.append([col,data_dump[col].dtype,data_dump[col].isna().sum(),round((data_dump[col].isna().sum()/len(data_dump[col])*100),2),data_dump[col].nunique(), list(data_dump[col].sample(5).drop_duplicates().values)])\n",
    "dfDesc_dp=pd.DataFrame(list_item,columns='feature dtype null null% unique uniquesample'.split())\n",
    "dfDesc_dp"
   ]
  },
  {
   "source": [
    "unknow gender was unnecessary so, i will drop them but for XNA in organization type i will keep it consider about secret/privacy that people that won't to tell"
   ],
   "cell_type": "markdown",
   "metadata": {}
  },
  {
   "cell_type": "code",
   "execution_count": 28,
   "metadata": {},
   "outputs": [],
   "source": [
    "data_dump.drop(index=data_dump[data_dump['CODE_GENDER'] == 'XNA'].index,inplace=True)"
   ]
  },
  {
   "source": [
    "## Dealing with outliers\n",
    "\n",
    "based on 2 experiment before, outliers was unnecessary attention to do something about it. so, i'll keep the outliers for this cases"
   ],
   "cell_type": "markdown",
   "metadata": {}
  },
  {
   "source": [
    "# Export Data Clean"
   ],
   "cell_type": "markdown",
   "metadata": {}
  },
  {
   "cell_type": "code",
   "execution_count": 29,
   "metadata": {},
   "outputs": [],
   "source": [
    "data_dump.to_csv('bersih.csv')"
   ]
  }
 ]
}